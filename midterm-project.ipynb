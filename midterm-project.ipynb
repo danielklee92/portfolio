{
 "cells": [
  {
   "cell_type": "markdown",
   "id": "27993e8b",
   "metadata": {},
   "source": [
    "<img src=\"data/images/banner.png\" width=100%>\n",
    "\n",
    "Welcome to the Midterm Project!\n",
    "\n",
    "Projects in DSC 10 are similar in format to homeworks, but are different in a few key ways. First, a project is comprehensive, meaning that it draws upon everything we've learned this quarter so far. Second, since problems can vary quite a bit in difficulty, some problems will be worth more points than others. Finally, in a project, the problems are more open-ended; they will usually ask for some result, but won't tell you what method should be used to get it. There might be several equally-valid approaches, and several steps might be necessary. This is closer to how data science is done in \"real life.\"\n",
    "\n",
    "It is important that you **start early** on the project! It will take the place of a homework in the week that it is due, but you should also expect it to take longer than a homework. You are especially encouraged to **find a partner** to work through the project with. If you work in a pair, you must follow the [Project Partner Guidelines](https://dsc10.com/project-partners/) on the course website. In particular, you must work together at the same time, and you are not allowed to split up the project and each work on certain problems. If you work with a partner, only one of you needs to upload your notebook to Gradescope; after uploading, you'll see an option to add the other partner to the submission.\n",
    "\n",
    "**Important:** The `otter` tests don't usually tell you that your answer is correct. More often, they help catch basic mistakes. It's up to you to ensure that your answer is correct. If you're not sure, ask someone (not for the answer, but for some guidance about your approach). Directly sharing answers between groups is not okay, but discussing problems with the course staff or with other students is encouraged.\n",
    "\n",
    "**Avoid looping through DataFrames unless instructed to do so. Do not import any packages.** Loops in Python are slow, and looping through DataFrames should usually be avoided in favor of the DataFrame methods we've learned in class, which are much faster. Please do not import any additional packages – you don't need them, and our autograder may not be able to run your code if you do.\n",
    "\n",
    "As you work through this project, there are a few resources you may want to have open:\n",
    "- [DSC 10 Reference Sheet](https://drive.google.com/file/d/1mQApk9Ovdi-QVqMgnNcq5dZcWucUKoG-/view)\n",
    "- [`babypandas` notes](https://notes.dsc10.com/front.html)\n",
    "- [`babypandas` documentation](https://babypandas.readthedocs.io/en/latest/)\n",
    "- Other links in the [Resources](https://dsc10.com/resources/) and [Debugging](https://dsc10.com/debugging/) tabs of the course website\n",
    "\n",
    "<div class=\"alert alert-block alert-warning\"> <b>Keep <a href=\"https://edstem.org/us/courses/48101/discussion/3700333\n",
    "\">this</a> post on Ed open; we'll post there if we have any clarifications or updates we need to make on the project. </div>\n",
    "\n",
    "Start early, good luck, and let's begin! 🏃"
   ]
  },
  {
   "cell_type": "code",
   "execution_count": 1,
   "id": "8dded1f3",
   "metadata": {},
   "outputs": [],
   "source": [
    "# Please don't change this cell, but make sure to run it.\n",
    "import babypandas as bpd\n",
    "import numpy as np\n",
    "from IPython.display import HTML, display, IFrame, YouTubeVideo, Markdown, clear_output\n",
    "import ipywidgets as widgets\n",
    "\n",
    "import matplotlib.pyplot as plt\n",
    "plt.style.use('ggplot')\n",
    "plt.rcParams[\"figure.figsize\"] = (10, 5)\n",
    "\n",
    "import otter\n",
    "import numbers\n",
    "grader = otter.Notebook()\n",
    "\n",
    "def play_spotify(uri):\n",
    "    code = uri[uri.rfind(':')+1:]\n",
    "    src = f\"https://open.spotify.com/embed/track/{code}\"\n",
    "    width = 400\n",
    "    height = 75\n",
    "    display(IFrame(src, width, height))"
   ]
  },
  {
   "cell_type": "markdown",
   "id": "ed6f336b",
   "metadata": {},
   "source": [
    "<a id='outline'></a>\n",
    "\n",
    "### Outline \n",
    "\n",
    "The project is divided into four main sections, each of which contains several questions. Use the outline below to help you quickly navigate to the part of the project you're working on. Questions are worth one point each, unless they contain a ⭐️⭐️ next to them, in which case they are worth two points (e.g. **Question 0.3. ⭐️⭐️**). You can expect questions worth two points to be longer and more challenging than questions worth one point.\n",
    "\n",
    "- [Welcome to `tswift`, it's been waitin' for you! 👩‍💻](#section0)\n",
    "- [Section 1: Data Visualization 👀](#section1)\n",
    "- [Section 2:  Song Recommender 🎧](#section2)\n",
    "- [Section 3: Lyric Searcher 🔍](#section3)\n",
    "- [Section 4: Keywords 🔑](#section4)\n",
    "\n",
    "\n",
    "There's also a [Taylor Swift Emoji Quiz 💯](#emojiquiz) at the end of the project, just for fun. Try to identify the Taylor Swift song based on an emoji description, and see how many you can get!"
   ]
  },
  {
   "cell_type": "markdown",
   "id": "a8c98ee3",
   "metadata": {},
   "source": [
    "<a id='section0'></a>\n",
    "## Welcome to `tswift`, it's been waitin' for you! 👩‍💻\n",
    "<small>(<a href=\"#outline\">return to the outline</a>)</small>"
   ]
  },
  {
   "cell_type": "markdown",
   "id": "ea21413e",
   "metadata": {},
   "source": [
    "In case you've been living under a rock, allow us to introduce you to Taylor Swift, a famous singer, songwriter, and cultural icon. She has set all kinds of records in the music industry, including earning the most American Music Awards in history. She is also the most-streamed female artist on Spotify, a digital music streaming service. \n",
    "\n",
    "With its origins in country music, Taylor Swift's style has evolved a lot since her 2006 debut album. In her most recent concert tour, *The Eras Tour*, she guides fans through these musical \"eras\" in a three-hour performance which fans are paying thousands of dollars to attend. Just a few weeks ago, a film version of *The Eras Tour* came to movie theaters,  and in one weekend became the highest-grossing concert film in history.\n",
    "\n",
    "<img src=\"data/images/eras.jpg\" width=50%>\n",
    "\n",
    "Chances are, you probably have heard some of Taylor Swift's songs; you might even know the words to all of them. In this project, we'll look at Taylor Swift's songs through the lens of data science. We have data on both the lyrics and audio qualities of Taylor Swift's musical body of work. \n",
    "\n",
    "The datasets we will use contain all songs on each of Taylor Swift's [ten studio albums](https://en.wikipedia.org/wiki/Taylor_Swift_albums_discography#Studio_albums). We've chosen to use deluxe or extended versions of these albums when available, to include more songs, but we've eliminated duplicate versions of songs, such as acoustic versions and remixes. We've also chosen to include the rerecorded \"[Taylor's Version](https://www.vox.com/culture/22278732/taylor-swift-re-recording-1989-speak-now-enchanted-mine-master-rights-scooter-braun)\" when available. Our datasets don't include Taylor Swift songs that were released as part of movie soundtracks, live recordings, holiday specials, or through any other mechanism.\n",
    "\n",
    "We'll work with two DataFrames throughout the project:\n",
    "- The `lyrics` DataFrame contains the lyrics of each Taylor Swift song.  The data in `lyrics` comes from [Genius](https://genius.com/), \"the world's biggest collection of song lyrics and crowdsourced musical knowledge.\"\n",
    "- The `tswift` DataFrame contains information about the audio features of each song. The data in `tswift` comes from [Spotify](https://open.spotify.com/). \n",
    "\n",
    "Let's start by reading in these DataFrames and taking a look around. Run the cell below to load `lyrics`."
   ]
  },
  {
   "cell_type": "code",
   "execution_count": 2,
   "id": "d72e3b42",
   "metadata": {
    "scrolled": true
   },
   "outputs": [
    {
     "data": {
      "text/html": [
       "<div>\n",
       "<style scoped>\n",
       "    .dataframe tbody tr th:only-of-type {\n",
       "        vertical-align: middle;\n",
       "    }\n",
       "\n",
       "    .dataframe tbody tr th {\n",
       "        vertical-align: top;\n",
       "    }\n",
       "\n",
       "    .dataframe thead th {\n",
       "        text-align: right;\n",
       "    }\n",
       "</style>\n",
       "<table border=\"1\" class=\"dataframe\">\n",
       "  <thead>\n",
       "    <tr style=\"text-align: right;\">\n",
       "      <th></th>\n",
       "      <th>Album</th>\n",
       "      <th>Song</th>\n",
       "      <th>Lyrics</th>\n",
       "    </tr>\n",
       "  </thead>\n",
       "  <tbody>\n",
       "    <tr>\n",
       "      <th>0</th>\n",
       "      <td>Midnights</td>\n",
       "      <td>Anti-Hero</td>\n",
       "      <td>I have this thing where I get older, but just ...</td>\n",
       "    </tr>\n",
       "    <tr>\n",
       "      <th>1</th>\n",
       "      <td>Midnights</td>\n",
       "      <td>Bejeweled</td>\n",
       "      <td>Baby love, I think I've been a little too kind...</td>\n",
       "    </tr>\n",
       "    <tr>\n",
       "      <th>2</th>\n",
       "      <td>Midnights</td>\n",
       "      <td>Bigger Than The Whole Sky</td>\n",
       "      <td>No words appear before me in the aftermath\\nSa...</td>\n",
       "    </tr>\n",
       "    <tr>\n",
       "      <th>3</th>\n",
       "      <td>Midnights</td>\n",
       "      <td>Dear Reader</td>\n",
       "      <td>Dear reader, if it feels like a trap\\nYou're a...</td>\n",
       "    </tr>\n",
       "    <tr>\n",
       "      <th>4</th>\n",
       "      <td>Midnights</td>\n",
       "      <td>Glitch</td>\n",
       "      <td>We were supposed to be just friends\\nYou don't...</td>\n",
       "    </tr>\n",
       "    <tr>\n",
       "      <th>...</th>\n",
       "      <td>...</td>\n",
       "      <td>...</td>\n",
       "      <td>...</td>\n",
       "    </tr>\n",
       "    <tr>\n",
       "      <th>188</th>\n",
       "      <td>Taylor Swift</td>\n",
       "      <td>Stay Beautiful</td>\n",
       "      <td>Cory's eyes are like a jungle\\nHe smiles, it's...</td>\n",
       "    </tr>\n",
       "    <tr>\n",
       "      <th>189</th>\n",
       "      <td>Taylor Swift</td>\n",
       "      <td>Teardrops On My Guitar</td>\n",
       "      <td>Drew looks at me\\nI fake a smile so he won't s...</td>\n",
       "    </tr>\n",
       "    <tr>\n",
       "      <th>190</th>\n",
       "      <td>Taylor Swift</td>\n",
       "      <td>The Outside</td>\n",
       "      <td>I didn't know what I would find\\nWhen I went l...</td>\n",
       "    </tr>\n",
       "    <tr>\n",
       "      <th>191</th>\n",
       "      <td>Taylor Swift</td>\n",
       "      <td>Tied Together With A Smile</td>\n",
       "      <td>Seems the only one who doesn't see your beauty...</td>\n",
       "    </tr>\n",
       "    <tr>\n",
       "      <th>192</th>\n",
       "      <td>Taylor Swift</td>\n",
       "      <td>Tim McGraw</td>\n",
       "      <td>He said the way my blue eyes shined\\nPut those...</td>\n",
       "    </tr>\n",
       "  </tbody>\n",
       "</table>\n",
       "<p>193 rows × 3 columns</p>\n",
       "</div>"
      ],
      "text/plain": [
       "            Album                        Song  \\\n",
       "0       Midnights                   Anti-Hero   \n",
       "1       Midnights                   Bejeweled   \n",
       "2       Midnights   Bigger Than The Whole Sky   \n",
       "3       Midnights                 Dear Reader   \n",
       "4       Midnights                      Glitch   \n",
       "..            ...                         ...   \n",
       "188  Taylor Swift              Stay Beautiful   \n",
       "189  Taylor Swift      Teardrops On My Guitar   \n",
       "190  Taylor Swift                 The Outside   \n",
       "191  Taylor Swift  Tied Together With A Smile   \n",
       "192  Taylor Swift                  Tim McGraw   \n",
       "\n",
       "                                                Lyrics  \n",
       "0    I have this thing where I get older, but just ...  \n",
       "1    Baby love, I think I've been a little too kind...  \n",
       "2    No words appear before me in the aftermath\\nSa...  \n",
       "3    Dear reader, if it feels like a trap\\nYou're a...  \n",
       "4    We were supposed to be just friends\\nYou don't...  \n",
       "..                                                 ...  \n",
       "188  Cory's eyes are like a jungle\\nHe smiles, it's...  \n",
       "189  Drew looks at me\\nI fake a smile so he won't s...  \n",
       "190  I didn't know what I would find\\nWhen I went l...  \n",
       "191  Seems the only one who doesn't see your beauty...  \n",
       "192  He said the way my blue eyes shined\\nPut those...  \n",
       "\n",
       "[193 rows x 3 columns]"
      ]
     },
     "execution_count": 2,
     "metadata": {},
     "output_type": "execute_result"
    }
   ],
   "source": [
    "lyrics = bpd.read_csv('data/lyrics.csv')\n",
    "lyrics"
   ]
  },
  {
   "cell_type": "markdown",
   "id": "3c6e90db",
   "metadata": {
    "deletable": false,
    "editable": false
   },
   "source": [
    "**Question 0.1.** Choose an appropriate index for `lyrics` and set the index to that column.\n",
    "\n",
    "<!--\n",
    "BEGIN QUESTION\n",
    "name: q0_1\n",
    "points: 1\n",
    "-->"
   ]
  },
  {
   "cell_type": "code",
   "execution_count": 3,
   "id": "2618d488",
   "metadata": {
    "scrolled": false
   },
   "outputs": [
    {
     "data": {
      "text/html": [
       "<div>\n",
       "<style scoped>\n",
       "    .dataframe tbody tr th:only-of-type {\n",
       "        vertical-align: middle;\n",
       "    }\n",
       "\n",
       "    .dataframe tbody tr th {\n",
       "        vertical-align: top;\n",
       "    }\n",
       "\n",
       "    .dataframe thead th {\n",
       "        text-align: right;\n",
       "    }\n",
       "</style>\n",
       "<table border=\"1\" class=\"dataframe\">\n",
       "  <thead>\n",
       "    <tr style=\"text-align: right;\">\n",
       "      <th></th>\n",
       "      <th>Album</th>\n",
       "      <th>Lyrics</th>\n",
       "    </tr>\n",
       "    <tr>\n",
       "      <th>Song</th>\n",
       "      <th></th>\n",
       "      <th></th>\n",
       "    </tr>\n",
       "  </thead>\n",
       "  <tbody>\n",
       "    <tr>\n",
       "      <th>Anti-Hero</th>\n",
       "      <td>Midnights</td>\n",
       "      <td>I have this thing where I get older, but just ...</td>\n",
       "    </tr>\n",
       "    <tr>\n",
       "      <th>Bejeweled</th>\n",
       "      <td>Midnights</td>\n",
       "      <td>Baby love, I think I've been a little too kind...</td>\n",
       "    </tr>\n",
       "    <tr>\n",
       "      <th>Bigger Than The Whole Sky</th>\n",
       "      <td>Midnights</td>\n",
       "      <td>No words appear before me in the aftermath\\nSa...</td>\n",
       "    </tr>\n",
       "    <tr>\n",
       "      <th>Dear Reader</th>\n",
       "      <td>Midnights</td>\n",
       "      <td>Dear reader, if it feels like a trap\\nYou're a...</td>\n",
       "    </tr>\n",
       "    <tr>\n",
       "      <th>Glitch</th>\n",
       "      <td>Midnights</td>\n",
       "      <td>We were supposed to be just friends\\nYou don't...</td>\n",
       "    </tr>\n",
       "    <tr>\n",
       "      <th>...</th>\n",
       "      <td>...</td>\n",
       "      <td>...</td>\n",
       "    </tr>\n",
       "    <tr>\n",
       "      <th>Stay Beautiful</th>\n",
       "      <td>Taylor Swift</td>\n",
       "      <td>Cory's eyes are like a jungle\\nHe smiles, it's...</td>\n",
       "    </tr>\n",
       "    <tr>\n",
       "      <th>Teardrops On My Guitar</th>\n",
       "      <td>Taylor Swift</td>\n",
       "      <td>Drew looks at me\\nI fake a smile so he won't s...</td>\n",
       "    </tr>\n",
       "    <tr>\n",
       "      <th>The Outside</th>\n",
       "      <td>Taylor Swift</td>\n",
       "      <td>I didn't know what I would find\\nWhen I went l...</td>\n",
       "    </tr>\n",
       "    <tr>\n",
       "      <th>Tied Together With A Smile</th>\n",
       "      <td>Taylor Swift</td>\n",
       "      <td>Seems the only one who doesn't see your beauty...</td>\n",
       "    </tr>\n",
       "    <tr>\n",
       "      <th>Tim McGraw</th>\n",
       "      <td>Taylor Swift</td>\n",
       "      <td>He said the way my blue eyes shined\\nPut those...</td>\n",
       "    </tr>\n",
       "  </tbody>\n",
       "</table>\n",
       "<p>193 rows × 2 columns</p>\n",
       "</div>"
      ],
      "text/plain": [
       "                                   Album  \\\n",
       "Song                                       \n",
       "Anti-Hero                      Midnights   \n",
       "Bejeweled                      Midnights   \n",
       "Bigger Than The Whole Sky      Midnights   \n",
       "Dear Reader                    Midnights   \n",
       "Glitch                         Midnights   \n",
       "...                                  ...   \n",
       "Stay Beautiful              Taylor Swift   \n",
       "Teardrops On My Guitar      Taylor Swift   \n",
       "The Outside                 Taylor Swift   \n",
       "Tied Together With A Smile  Taylor Swift   \n",
       "Tim McGraw                  Taylor Swift   \n",
       "\n",
       "                                                                       Lyrics  \n",
       "Song                                                                           \n",
       "Anti-Hero                   I have this thing where I get older, but just ...  \n",
       "Bejeweled                   Baby love, I think I've been a little too kind...  \n",
       "Bigger Than The Whole Sky   No words appear before me in the aftermath\\nSa...  \n",
       "Dear Reader                 Dear reader, if it feels like a trap\\nYou're a...  \n",
       "Glitch                      We were supposed to be just friends\\nYou don't...  \n",
       "...                                                                       ...  \n",
       "Stay Beautiful              Cory's eyes are like a jungle\\nHe smiles, it's...  \n",
       "Teardrops On My Guitar      Drew looks at me\\nI fake a smile so he won't s...  \n",
       "The Outside                 I didn't know what I would find\\nWhen I went l...  \n",
       "Tied Together With A Smile  Seems the only one who doesn't see your beauty...  \n",
       "Tim McGraw                  He said the way my blue eyes shined\\nPut those...  \n",
       "\n",
       "[193 rows x 2 columns]"
      ]
     },
     "execution_count": 3,
     "metadata": {},
     "output_type": "execute_result"
    }
   ],
   "source": [
    "lyrics = lyrics.set_index(\"Song\")\n",
    "lyrics"
   ]
  },
  {
   "cell_type": "code",
   "execution_count": 4,
   "id": "87fcd49d",
   "metadata": {
    "deletable": false,
    "editable": false
   },
   "outputs": [
    {
     "data": {
      "text/html": [
       "<p><strong><pre style='display: inline;'>q0_1</pre></strong> passed!</p>"
      ],
      "text/plain": [
       "q0_1 results: All test cases passed!"
      ]
     },
     "execution_count": 4,
     "metadata": {},
     "output_type": "execute_result"
    }
   ],
   "source": [
    "grader.check(\"q0_1\")"
   ]
  },
  {
   "cell_type": "markdown",
   "id": "c7c4b3f8",
   "metadata": {
    "deletable": false,
    "editable": false
   },
   "source": [
    "**Question 0.2.** Set `mastermind` to the lyrics of the song `'Mastermind'`. Compare what happens when you display the value of `mastermind` versus print `mastermind`.\n",
    "\n",
    "<!--\n",
    "BEGIN QUESTION\n",
    "name: q0_2\n",
    "points: 1\n",
    "-->"
   ]
  },
  {
   "cell_type": "code",
   "execution_count": 5,
   "id": "757afba7",
   "metadata": {
    "scrolled": true
   },
   "outputs": [
    {
     "name": "stdout",
     "output_type": "stream",
     "text": [
      "Once upon a time, the planets and the fates\n",
      "And all the stars aligned\n",
      "You and I ended up in the same room\n",
      "At the same time\n",
      "\n",
      "And the touch of a hand lit the fuse\n",
      "Of a chain reaction of countermoves\n",
      "To assess the equation of you\n",
      "Checkmate, I couldn't lose\n",
      "\n",
      "What if I told you none of it was accidental?\n",
      "And the first night that you saw me\n",
      "Nothing was gonna stop me\n",
      "I laid the groundwork, and then\n",
      "Just like clockwork\n",
      "The dominoes cascaded in a line\n",
      "What if I told you I'm a mastermind?\n",
      "And now you're mine\n",
      "It was all by dеsign\n",
      "'Cause I'm a mastermind\n",
      "\n",
      "You see, all the wisеst women\n",
      "Had to do it this way\n",
      "'Cause we were born to be the pawn\n",
      "In every lover's game\n",
      "\n",
      "If you fail to plan, you plan to fail\n",
      "Strategy sets the scene for the tale\n",
      "I'm the wind in our free-flowing sails\n",
      "And the liquor in our cocktails\n",
      "\n",
      "What if I told you none of it was accidental?\n",
      "And the first night that you saw me\n",
      "I knew I wanted your body\n",
      "I laid the groundwork, and then\n",
      "Just like clockwork\n",
      "The dominoes cascaded in a line\n",
      "What if I told you I'm a mastermind?\n",
      "And now you're mine\n",
      "It was all my design\n",
      "'Cause I'm a mastermind\n",
      "\n",
      "No one wanted to play with me as a little kid\n",
      "So I've been scheming like a criminal ever since\n",
      "To make them love me and make it seem effortless\n",
      "This is the first time I've felt the need to confess\n",
      "And I swear\n",
      "I'm only cryptic and Machiavellian\n",
      "'Cause I care\n",
      "\n",
      "So I told you none of it was accidental\n",
      "And the first night that you saw me\n",
      "Nothing was gonna stop me\n",
      "I laid the groundwork, and then\n",
      "Saw a wide smirk on your face\n",
      "You knew the entire time\n",
      "You knew that I'm a mastermind\n",
      "And now you're mine\n",
      "Yeah, all you did was smile\n",
      "'Cause I'm a mastermind\n"
     ]
    }
   ],
   "source": [
    "mastermind = lyrics.get(\"Lyrics\").loc['Mastermind']\n",
    "print(mastermind)"
   ]
  },
  {
   "cell_type": "code",
   "execution_count": 6,
   "id": "271d5567",
   "metadata": {
    "deletable": false,
    "editable": false
   },
   "outputs": [
    {
     "data": {
      "text/html": [
       "<p><strong><pre style='display: inline;'>q0_2</pre></strong> passed!</p>"
      ],
      "text/plain": [
       "q0_2 results: All test cases passed!"
      ]
     },
     "execution_count": 6,
     "metadata": {},
     "output_type": "execute_result"
    }
   ],
   "source": [
    "grader.check(\"q0_2\")"
   ]
  },
  {
   "cell_type": "markdown",
   "id": "0038614f",
   "metadata": {},
   "source": [
    "Since the lyrics data is all text, you'll be working a lot with strings throughout this project. Make sure to review the [available string methods](https://docs.python.org/3/library/stdtypes.html#string-methods) so you know how to work with the lyrics data effectively.\n",
    "\n",
    "Next, let's look at the `tswift` DataFrame. Run the cell below to load in the DataFrame and take a look around."
   ]
  },
  {
   "cell_type": "code",
   "execution_count": 7,
   "id": "cf408883",
   "metadata": {},
   "outputs": [
    {
     "data": {
      "text/html": [
       "<div>\n",
       "<style scoped>\n",
       "    .dataframe tbody tr th:only-of-type {\n",
       "        vertical-align: middle;\n",
       "    }\n",
       "\n",
       "    .dataframe tbody tr th {\n",
       "        vertical-align: top;\n",
       "    }\n",
       "\n",
       "    .dataframe thead th {\n",
       "        text-align: right;\n",
       "    }\n",
       "</style>\n",
       "<table border=\"1\" class=\"dataframe\">\n",
       "  <thead>\n",
       "    <tr style=\"text-align: right;\">\n",
       "      <th></th>\n",
       "      <th>URI</th>\n",
       "      <th>Album</th>\n",
       "      <th>Song Name</th>\n",
       "      <th>Disc Number</th>\n",
       "      <th>Track Number</th>\n",
       "      <th>Popularity</th>\n",
       "      <th>Explicit</th>\n",
       "      <th>Danceability</th>\n",
       "      <th>Energy</th>\n",
       "      <th>Key</th>\n",
       "      <th>Loudness</th>\n",
       "      <th>Mode</th>\n",
       "      <th>Speechiness</th>\n",
       "      <th>Acousticness</th>\n",
       "      <th>Instrumentalness</th>\n",
       "      <th>Liveness</th>\n",
       "      <th>Valence</th>\n",
       "      <th>Tempo</th>\n",
       "      <th>Duration_ms</th>\n",
       "      <th>Time Signature</th>\n",
       "    </tr>\n",
       "  </thead>\n",
       "  <tbody>\n",
       "    <tr>\n",
       "      <th>0</th>\n",
       "      <td>1BxfuPKGuaTgP7aM0Bbdwr</td>\n",
       "      <td>Lover</td>\n",
       "      <td>Cruel Summer</td>\n",
       "      <td>1</td>\n",
       "      <td>2</td>\n",
       "      <td>99</td>\n",
       "      <td>False</td>\n",
       "      <td>0.552</td>\n",
       "      <td>0.702</td>\n",
       "      <td>9</td>\n",
       "      <td>-5.707</td>\n",
       "      <td>1</td>\n",
       "      <td>0.1570</td>\n",
       "      <td>0.11700</td>\n",
       "      <td>0.000021</td>\n",
       "      <td>0.1050</td>\n",
       "      <td>0.564</td>\n",
       "      <td>169.994</td>\n",
       "      <td>178427</td>\n",
       "      <td>4</td>\n",
       "    </tr>\n",
       "    <tr>\n",
       "      <th>1</th>\n",
       "      <td>0V3wPSX9ygBnCm8psDIegu</td>\n",
       "      <td>Midnights</td>\n",
       "      <td>Anti-Hero</td>\n",
       "      <td>1</td>\n",
       "      <td>3</td>\n",
       "      <td>93</td>\n",
       "      <td>False</td>\n",
       "      <td>0.637</td>\n",
       "      <td>0.643</td>\n",
       "      <td>4</td>\n",
       "      <td>-6.571</td>\n",
       "      <td>1</td>\n",
       "      <td>0.0519</td>\n",
       "      <td>0.13000</td>\n",
       "      <td>0.000002</td>\n",
       "      <td>0.1420</td>\n",
       "      <td>0.533</td>\n",
       "      <td>97.008</td>\n",
       "      <td>200690</td>\n",
       "      <td>4</td>\n",
       "    </tr>\n",
       "    <tr>\n",
       "      <th>2</th>\n",
       "      <td>3hUxzQpSfdDqwM3ZTFQY0K</td>\n",
       "      <td>folklore</td>\n",
       "      <td>august</td>\n",
       "      <td>1</td>\n",
       "      <td>8</td>\n",
       "      <td>92</td>\n",
       "      <td>False</td>\n",
       "      <td>0.532</td>\n",
       "      <td>0.623</td>\n",
       "      <td>5</td>\n",
       "      <td>-9.208</td>\n",
       "      <td>1</td>\n",
       "      <td>0.0331</td>\n",
       "      <td>0.53800</td>\n",
       "      <td>0.000073</td>\n",
       "      <td>0.0925</td>\n",
       "      <td>0.403</td>\n",
       "      <td>89.937</td>\n",
       "      <td>261923</td>\n",
       "      <td>4</td>\n",
       "    </tr>\n",
       "    <tr>\n",
       "      <th>3</th>\n",
       "      <td>1R0a2iXumgCiFb7HEZ7gUE</td>\n",
       "      <td>Reputation</td>\n",
       "      <td>Don't Blame Me</td>\n",
       "      <td>1</td>\n",
       "      <td>4</td>\n",
       "      <td>91</td>\n",
       "      <td>False</td>\n",
       "      <td>0.615</td>\n",
       "      <td>0.534</td>\n",
       "      <td>9</td>\n",
       "      <td>-6.719</td>\n",
       "      <td>0</td>\n",
       "      <td>0.0386</td>\n",
       "      <td>0.10600</td>\n",
       "      <td>0.000018</td>\n",
       "      <td>0.0607</td>\n",
       "      <td>0.193</td>\n",
       "      <td>135.917</td>\n",
       "      <td>236413</td>\n",
       "      <td>4</td>\n",
       "    </tr>\n",
       "    <tr>\n",
       "      <th>4</th>\n",
       "      <td>1dGr1c8CrMLDpV6mPbImSI</td>\n",
       "      <td>Lover</td>\n",
       "      <td>Lover</td>\n",
       "      <td>1</td>\n",
       "      <td>3</td>\n",
       "      <td>91</td>\n",
       "      <td>False</td>\n",
       "      <td>0.359</td>\n",
       "      <td>0.543</td>\n",
       "      <td>7</td>\n",
       "      <td>-7.582</td>\n",
       "      <td>1</td>\n",
       "      <td>0.0919</td>\n",
       "      <td>0.49200</td>\n",
       "      <td>0.000016</td>\n",
       "      <td>0.1180</td>\n",
       "      <td>0.453</td>\n",
       "      <td>68.534</td>\n",
       "      <td>221307</td>\n",
       "      <td>4</td>\n",
       "    </tr>\n",
       "    <tr>\n",
       "      <th>...</th>\n",
       "      <td>...</td>\n",
       "      <td>...</td>\n",
       "      <td>...</td>\n",
       "      <td>...</td>\n",
       "      <td>...</td>\n",
       "      <td>...</td>\n",
       "      <td>...</td>\n",
       "      <td>...</td>\n",
       "      <td>...</td>\n",
       "      <td>...</td>\n",
       "      <td>...</td>\n",
       "      <td>...</td>\n",
       "      <td>...</td>\n",
       "      <td>...</td>\n",
       "      <td>...</td>\n",
       "      <td>...</td>\n",
       "      <td>...</td>\n",
       "      <td>...</td>\n",
       "      <td>...</td>\n",
       "      <td>...</td>\n",
       "    </tr>\n",
       "    <tr>\n",
       "      <th>188</th>\n",
       "      <td>2ZoOmCSgj0ypVAmGd1ve4y</td>\n",
       "      <td>Taylor Swift</td>\n",
       "      <td>Stay Beautiful</td>\n",
       "      <td>1</td>\n",
       "      <td>8</td>\n",
       "      <td>59</td>\n",
       "      <td>False</td>\n",
       "      <td>0.594</td>\n",
       "      <td>0.629</td>\n",
       "      <td>8</td>\n",
       "      <td>-4.919</td>\n",
       "      <td>1</td>\n",
       "      <td>0.0246</td>\n",
       "      <td>0.08680</td>\n",
       "      <td>0.000000</td>\n",
       "      <td>0.1370</td>\n",
       "      <td>0.504</td>\n",
       "      <td>131.597</td>\n",
       "      <td>236053</td>\n",
       "      <td>4</td>\n",
       "    </tr>\n",
       "    <tr>\n",
       "      <th>189</th>\n",
       "      <td>6K0CJLVXqbGMeJSmJ4ENKK</td>\n",
       "      <td>Taylor Swift</td>\n",
       "      <td>Tied Together With A Smile</td>\n",
       "      <td>1</td>\n",
       "      <td>7</td>\n",
       "      <td>59</td>\n",
       "      <td>False</td>\n",
       "      <td>0.479</td>\n",
       "      <td>0.578</td>\n",
       "      <td>2</td>\n",
       "      <td>-4.963</td>\n",
       "      <td>1</td>\n",
       "      <td>0.0294</td>\n",
       "      <td>0.52500</td>\n",
       "      <td>0.000000</td>\n",
       "      <td>0.0841</td>\n",
       "      <td>0.192</td>\n",
       "      <td>146.165</td>\n",
       "      <td>248107</td>\n",
       "      <td>4</td>\n",
       "    </tr>\n",
       "    <tr>\n",
       "      <th>190</th>\n",
       "      <td>5OOd01o2YS1QFwdpVLds3r</td>\n",
       "      <td>Taylor Swift</td>\n",
       "      <td>Invisible</td>\n",
       "      <td>1</td>\n",
       "      <td>13</td>\n",
       "      <td>58</td>\n",
       "      <td>False</td>\n",
       "      <td>0.612</td>\n",
       "      <td>0.394</td>\n",
       "      <td>7</td>\n",
       "      <td>-5.723</td>\n",
       "      <td>1</td>\n",
       "      <td>0.0243</td>\n",
       "      <td>0.63700</td>\n",
       "      <td>0.000000</td>\n",
       "      <td>0.1470</td>\n",
       "      <td>0.233</td>\n",
       "      <td>96.001</td>\n",
       "      <td>203227</td>\n",
       "      <td>4</td>\n",
       "    </tr>\n",
       "    <tr>\n",
       "      <th>191</th>\n",
       "      <td>2QA3IixpRcKyOdG7XDzRgv</td>\n",
       "      <td>Taylor Swift</td>\n",
       "      <td>The Outside</td>\n",
       "      <td>1</td>\n",
       "      <td>6</td>\n",
       "      <td>58</td>\n",
       "      <td>False</td>\n",
       "      <td>0.589</td>\n",
       "      <td>0.805</td>\n",
       "      <td>5</td>\n",
       "      <td>-4.055</td>\n",
       "      <td>1</td>\n",
       "      <td>0.0293</td>\n",
       "      <td>0.00491</td>\n",
       "      <td>0.000000</td>\n",
       "      <td>0.2400</td>\n",
       "      <td>0.591</td>\n",
       "      <td>112.982</td>\n",
       "      <td>207107</td>\n",
       "      <td>4</td>\n",
       "    </tr>\n",
       "    <tr>\n",
       "      <th>192</th>\n",
       "      <td>1spLfUJxtyVyiKKTegQ2r4</td>\n",
       "      <td>Taylor Swift</td>\n",
       "      <td>A Perfectly Good Heart</td>\n",
       "      <td>1</td>\n",
       "      <td>14</td>\n",
       "      <td>57</td>\n",
       "      <td>False</td>\n",
       "      <td>0.483</td>\n",
       "      <td>0.751</td>\n",
       "      <td>4</td>\n",
       "      <td>-5.726</td>\n",
       "      <td>1</td>\n",
       "      <td>0.0365</td>\n",
       "      <td>0.00349</td>\n",
       "      <td>0.000000</td>\n",
       "      <td>0.1280</td>\n",
       "      <td>0.268</td>\n",
       "      <td>156.092</td>\n",
       "      <td>220147</td>\n",
       "      <td>4</td>\n",
       "    </tr>\n",
       "  </tbody>\n",
       "</table>\n",
       "<p>193 rows × 20 columns</p>\n",
       "</div>"
      ],
      "text/plain": [
       "                        URI         Album                   Song Name  \\\n",
       "0    1BxfuPKGuaTgP7aM0Bbdwr         Lover                Cruel Summer   \n",
       "1    0V3wPSX9ygBnCm8psDIegu     Midnights                   Anti-Hero   \n",
       "2    3hUxzQpSfdDqwM3ZTFQY0K      folklore                      august   \n",
       "3    1R0a2iXumgCiFb7HEZ7gUE    Reputation              Don't Blame Me   \n",
       "4    1dGr1c8CrMLDpV6mPbImSI         Lover                       Lover   \n",
       "..                      ...           ...                         ...   \n",
       "188  2ZoOmCSgj0ypVAmGd1ve4y  Taylor Swift              Stay Beautiful   \n",
       "189  6K0CJLVXqbGMeJSmJ4ENKK  Taylor Swift  Tied Together With A Smile   \n",
       "190  5OOd01o2YS1QFwdpVLds3r  Taylor Swift                   Invisible   \n",
       "191  2QA3IixpRcKyOdG7XDzRgv  Taylor Swift                 The Outside   \n",
       "192  1spLfUJxtyVyiKKTegQ2r4  Taylor Swift      A Perfectly Good Heart   \n",
       "\n",
       "     Disc Number  Track Number  Popularity  Explicit  Danceability  Energy  \\\n",
       "0              1             2          99     False         0.552   0.702   \n",
       "1              1             3          93     False         0.637   0.643   \n",
       "2              1             8          92     False         0.532   0.623   \n",
       "3              1             4          91     False         0.615   0.534   \n",
       "4              1             3          91     False         0.359   0.543   \n",
       "..           ...           ...         ...       ...           ...     ...   \n",
       "188            1             8          59     False         0.594   0.629   \n",
       "189            1             7          59     False         0.479   0.578   \n",
       "190            1            13          58     False         0.612   0.394   \n",
       "191            1             6          58     False         0.589   0.805   \n",
       "192            1            14          57     False         0.483   0.751   \n",
       "\n",
       "     Key  Loudness  Mode  Speechiness  Acousticness  Instrumentalness  \\\n",
       "0      9    -5.707     1       0.1570       0.11700          0.000021   \n",
       "1      4    -6.571     1       0.0519       0.13000          0.000002   \n",
       "2      5    -9.208     1       0.0331       0.53800          0.000073   \n",
       "3      9    -6.719     0       0.0386       0.10600          0.000018   \n",
       "4      7    -7.582     1       0.0919       0.49200          0.000016   \n",
       "..   ...       ...   ...          ...           ...               ...   \n",
       "188    8    -4.919     1       0.0246       0.08680          0.000000   \n",
       "189    2    -4.963     1       0.0294       0.52500          0.000000   \n",
       "190    7    -5.723     1       0.0243       0.63700          0.000000   \n",
       "191    5    -4.055     1       0.0293       0.00491          0.000000   \n",
       "192    4    -5.726     1       0.0365       0.00349          0.000000   \n",
       "\n",
       "     Liveness  Valence    Tempo  Duration_ms  Time Signature  \n",
       "0      0.1050    0.564  169.994       178427               4  \n",
       "1      0.1420    0.533   97.008       200690               4  \n",
       "2      0.0925    0.403   89.937       261923               4  \n",
       "3      0.0607    0.193  135.917       236413               4  \n",
       "4      0.1180    0.453   68.534       221307               4  \n",
       "..        ...      ...      ...          ...             ...  \n",
       "188    0.1370    0.504  131.597       236053               4  \n",
       "189    0.0841    0.192  146.165       248107               4  \n",
       "190    0.1470    0.233   96.001       203227               4  \n",
       "191    0.2400    0.591  112.982       207107               4  \n",
       "192    0.1280    0.268  156.092       220147               4  \n",
       "\n",
       "[193 rows x 20 columns]"
      ]
     },
     "execution_count": 7,
     "metadata": {},
     "output_type": "execute_result"
    }
   ],
   "source": [
    "tswift = bpd.read_csv('data/tswift.csv')\n",
    "tswift"
   ]
  },
  {
   "cell_type": "markdown",
   "id": "9069d3d0",
   "metadata": {},
   "source": [
    "`tswift` contains a lot of information! We've used the [documentation](https://developer.spotify.com/documentation/web-api/reference/#/operations/get-several-audio-features) provided by Spotify to create the table below, which describes the columns present in `tswift` and what they represent. Note that many of these features (such as `'Valence'`) are defined and determined by Spotify. We have no way of knowing exactly how they determine the values of these audio features for each song, as their algorithms are proprietary.\n",
    "\n",
    "| Variable Name | Data Type | Explanation |\n",
    "| -------- | ------- | ------- |\n",
    "| `'URI'`  | str | Unique identifier for the song in Spotify. |\n",
    "| `'Album'`  | str | Album name. |\n",
    "| `'Song Name'`  | str | Song name. |\n",
    "| `'Disc Number'`  | int | Disc number, usually 1 unless the album contains more than 1 disc. |\n",
    "| `'Track Number'`  | int | The number of the track on the specified disc. |\n",
    "| `'Popularity'`  | int | 0 to 100 scale of the current popularity of the song. |\n",
    "| `'Explicit'`  | bool | True if the song contains explicit words, False otherwise. |\n",
    "| `'Danceability'`  | float | 0 to 1 scale of how suitable a track is for dancing. |\n",
    "| `'Energy'`  | float | 0 to 1 scale of a track's activity and intensity. |\n",
    "| `'Key'`  | int | The average key/pitch of a track, where 0 = C, 1 = C#/Db, 2 = D, and so on. |\n",
    "| `'Loudness'`  | float | The average loudness of a track, measured on a relative scale in decibels. Values typically range between -60 (softer) and 0 (louder). |\n",
    "| `'Mode'`  | int | Either 0 for a minor key, or 1 for a major key.|\n",
    "| `'Speechiness'`  | float | 0 to 1 scale measuring the prevalence of spoken words. |\n",
    "| `'Acousticness'`  | float | 0 to 1 scale measuring how likely a track is to be acoustic. |\n",
    "| `'Instrumentalness'`  | float | 0 to 1 scale measuring how likely a track is to be instrumental (without vocals). |\n",
    "| `'Liveness'`  | float | 0 to 1 scale measuring how likely a track is to have been recorded with a live audience.|\n",
    "| `'Valence'`  | float | 0 to 1 scale of how positive or happy a track is. |\n",
    "| `'Tempo'`  | float | The estimated number of beats per minute. |\n",
    "| `'Duration_ms'`  | int | Length of song in milliseconds. |\n",
    "| `'Time Signature'`  | int | The number of beats in each bar (or measure). |"
   ]
  },
  {
   "cell_type": "markdown",
   "id": "486edffe",
   "metadata": {},
   "source": [
    "One piece of information we'd like to have in `tswift`, which is currently missing, is the year in which each album was released. This variable would allow us to explore trends over time. The `albums` DataFrame contains the information we need. Run the next cell to load it in."
   ]
  },
  {
   "cell_type": "code",
   "execution_count": 8,
   "id": "74b03cce",
   "metadata": {},
   "outputs": [
    {
     "data": {
      "text/html": [
       "<div>\n",
       "<style scoped>\n",
       "    .dataframe tbody tr th:only-of-type {\n",
       "        vertical-align: middle;\n",
       "    }\n",
       "\n",
       "    .dataframe tbody tr th {\n",
       "        vertical-align: top;\n",
       "    }\n",
       "\n",
       "    .dataframe thead th {\n",
       "        text-align: right;\n",
       "    }\n",
       "</style>\n",
       "<table border=\"1\" class=\"dataframe\">\n",
       "  <thead>\n",
       "    <tr style=\"text-align: right;\">\n",
       "      <th></th>\n",
       "      <th>Album</th>\n",
       "      <th>Release Date</th>\n",
       "    </tr>\n",
       "  </thead>\n",
       "  <tbody>\n",
       "    <tr>\n",
       "      <th>0</th>\n",
       "      <td>Taylor Swift</td>\n",
       "      <td>October 24, 2006</td>\n",
       "    </tr>\n",
       "    <tr>\n",
       "      <th>1</th>\n",
       "      <td>Fearless</td>\n",
       "      <td>November 11, 2008</td>\n",
       "    </tr>\n",
       "    <tr>\n",
       "      <th>2</th>\n",
       "      <td>Speak Now</td>\n",
       "      <td>October 25, 2010</td>\n",
       "    </tr>\n",
       "    <tr>\n",
       "      <th>3</th>\n",
       "      <td>Red</td>\n",
       "      <td>October 22, 2012</td>\n",
       "    </tr>\n",
       "    <tr>\n",
       "      <th>4</th>\n",
       "      <td>1989</td>\n",
       "      <td>October 27, 2014</td>\n",
       "    </tr>\n",
       "    <tr>\n",
       "      <th>5</th>\n",
       "      <td>Reputation</td>\n",
       "      <td>November 10, 2017</td>\n",
       "    </tr>\n",
       "    <tr>\n",
       "      <th>6</th>\n",
       "      <td>Lover</td>\n",
       "      <td>August 23, 2019</td>\n",
       "    </tr>\n",
       "    <tr>\n",
       "      <th>7</th>\n",
       "      <td>folklore</td>\n",
       "      <td>July 24, 2020</td>\n",
       "    </tr>\n",
       "    <tr>\n",
       "      <th>8</th>\n",
       "      <td>evermore</td>\n",
       "      <td>December 11, 2020</td>\n",
       "    </tr>\n",
       "    <tr>\n",
       "      <th>9</th>\n",
       "      <td>Midnights</td>\n",
       "      <td>October 21, 2022</td>\n",
       "    </tr>\n",
       "  </tbody>\n",
       "</table>\n",
       "</div>"
      ],
      "text/plain": [
       "          Album       Release Date\n",
       "0  Taylor Swift   October 24, 2006\n",
       "1      Fearless  November 11, 2008\n",
       "2     Speak Now   October 25, 2010\n",
       "3           Red   October 22, 2012\n",
       "4          1989   October 27, 2014\n",
       "5    Reputation  November 10, 2017\n",
       "6         Lover    August 23, 2019\n",
       "7      folklore      July 24, 2020\n",
       "8      evermore  December 11, 2020\n",
       "9     Midnights   October 21, 2022"
      ]
     },
     "execution_count": 8,
     "metadata": {},
     "output_type": "execute_result"
    }
   ],
   "source": [
    "albums = bpd.read_csv('data/albums.csv')\n",
    "albums"
   ]
  },
  {
   "cell_type": "markdown",
   "id": "eab9cf7b",
   "metadata": {},
   "source": [
    "**Question 0.3.** ⭐⭐ Add a column to `tswift` called `'Year'` that contains the year of each song's release, as an int, based on the data in `albums`.\n",
    "\n",
    "***Note:*** This problem has two stars because it's a multi-step, more challenging problem. Take it one step at a time. Feel free to create additional cells."
   ]
  },
  {
   "cell_type": "code",
   "execution_count": 9,
   "id": "516c673e",
   "metadata": {},
   "outputs": [],
   "source": [
    "def date_to_year(date):\n",
    "    return int(date.split(\", \")[1])"
   ]
  },
  {
   "cell_type": "code",
   "execution_count": 10,
   "id": "30b6be2d",
   "metadata": {},
   "outputs": [
    {
     "data": {
      "text/html": [
       "<div>\n",
       "<style scoped>\n",
       "    .dataframe tbody tr th:only-of-type {\n",
       "        vertical-align: middle;\n",
       "    }\n",
       "\n",
       "    .dataframe tbody tr th {\n",
       "        vertical-align: top;\n",
       "    }\n",
       "\n",
       "    .dataframe thead th {\n",
       "        text-align: right;\n",
       "    }\n",
       "</style>\n",
       "<table border=\"1\" class=\"dataframe\">\n",
       "  <thead>\n",
       "    <tr style=\"text-align: right;\">\n",
       "      <th></th>\n",
       "      <th>URI</th>\n",
       "      <th>Album</th>\n",
       "      <th>Song Name</th>\n",
       "      <th>Disc Number</th>\n",
       "      <th>Track Number</th>\n",
       "      <th>Popularity</th>\n",
       "      <th>Explicit</th>\n",
       "      <th>Danceability</th>\n",
       "      <th>Energy</th>\n",
       "      <th>Key</th>\n",
       "      <th>...</th>\n",
       "      <th>Mode</th>\n",
       "      <th>Speechiness</th>\n",
       "      <th>Acousticness</th>\n",
       "      <th>Instrumentalness</th>\n",
       "      <th>Liveness</th>\n",
       "      <th>Valence</th>\n",
       "      <th>Tempo</th>\n",
       "      <th>Duration_ms</th>\n",
       "      <th>Time Signature</th>\n",
       "      <th>Year</th>\n",
       "    </tr>\n",
       "  </thead>\n",
       "  <tbody>\n",
       "    <tr>\n",
       "      <th>0</th>\n",
       "      <td>1BxfuPKGuaTgP7aM0Bbdwr</td>\n",
       "      <td>Lover</td>\n",
       "      <td>Cruel Summer</td>\n",
       "      <td>1</td>\n",
       "      <td>2</td>\n",
       "      <td>99</td>\n",
       "      <td>False</td>\n",
       "      <td>0.552</td>\n",
       "      <td>0.702</td>\n",
       "      <td>9</td>\n",
       "      <td>...</td>\n",
       "      <td>1</td>\n",
       "      <td>0.1570</td>\n",
       "      <td>0.11700</td>\n",
       "      <td>0.000021</td>\n",
       "      <td>0.1050</td>\n",
       "      <td>0.564</td>\n",
       "      <td>169.994</td>\n",
       "      <td>178427</td>\n",
       "      <td>4</td>\n",
       "      <td>2019</td>\n",
       "    </tr>\n",
       "    <tr>\n",
       "      <th>1</th>\n",
       "      <td>1dGr1c8CrMLDpV6mPbImSI</td>\n",
       "      <td>Lover</td>\n",
       "      <td>Lover</td>\n",
       "      <td>1</td>\n",
       "      <td>3</td>\n",
       "      <td>91</td>\n",
       "      <td>False</td>\n",
       "      <td>0.359</td>\n",
       "      <td>0.543</td>\n",
       "      <td>7</td>\n",
       "      <td>...</td>\n",
       "      <td>1</td>\n",
       "      <td>0.0919</td>\n",
       "      <td>0.49200</td>\n",
       "      <td>0.000016</td>\n",
       "      <td>0.1180</td>\n",
       "      <td>0.453</td>\n",
       "      <td>68.534</td>\n",
       "      <td>221307</td>\n",
       "      <td>4</td>\n",
       "      <td>2019</td>\n",
       "    </tr>\n",
       "    <tr>\n",
       "      <th>2</th>\n",
       "      <td>4y5bvROuBDPr5fuwXbIBZR</td>\n",
       "      <td>Lover</td>\n",
       "      <td>Paper Rings</td>\n",
       "      <td>1</td>\n",
       "      <td>8</td>\n",
       "      <td>86</td>\n",
       "      <td>False</td>\n",
       "      <td>0.811</td>\n",
       "      <td>0.719</td>\n",
       "      <td>9</td>\n",
       "      <td>...</td>\n",
       "      <td>1</td>\n",
       "      <td>0.0497</td>\n",
       "      <td>0.01290</td>\n",
       "      <td>0.000014</td>\n",
       "      <td>0.0742</td>\n",
       "      <td>0.865</td>\n",
       "      <td>103.979</td>\n",
       "      <td>222400</td>\n",
       "      <td>4</td>\n",
       "      <td>2019</td>\n",
       "    </tr>\n",
       "    <tr>\n",
       "      <th>3</th>\n",
       "      <td>3RauEVgRgj1IuWdJ9fDs70</td>\n",
       "      <td>Lover</td>\n",
       "      <td>The Man</td>\n",
       "      <td>1</td>\n",
       "      <td>4</td>\n",
       "      <td>86</td>\n",
       "      <td>False</td>\n",
       "      <td>0.777</td>\n",
       "      <td>0.658</td>\n",
       "      <td>0</td>\n",
       "      <td>...</td>\n",
       "      <td>1</td>\n",
       "      <td>0.0540</td>\n",
       "      <td>0.07670</td>\n",
       "      <td>0.000000</td>\n",
       "      <td>0.0901</td>\n",
       "      <td>0.633</td>\n",
       "      <td>110.048</td>\n",
       "      <td>190360</td>\n",
       "      <td>4</td>\n",
       "      <td>2019</td>\n",
       "    </tr>\n",
       "    <tr>\n",
       "      <th>4</th>\n",
       "      <td>6RRNNciQGZEXnqk8SQ9yv5</td>\n",
       "      <td>Lover</td>\n",
       "      <td>You Need To Calm Down</td>\n",
       "      <td>1</td>\n",
       "      <td>14</td>\n",
       "      <td>84</td>\n",
       "      <td>False</td>\n",
       "      <td>0.771</td>\n",
       "      <td>0.671</td>\n",
       "      <td>2</td>\n",
       "      <td>...</td>\n",
       "      <td>1</td>\n",
       "      <td>0.0553</td>\n",
       "      <td>0.00929</td>\n",
       "      <td>0.000000</td>\n",
       "      <td>0.0637</td>\n",
       "      <td>0.714</td>\n",
       "      <td>85.026</td>\n",
       "      <td>171360</td>\n",
       "      <td>4</td>\n",
       "      <td>2019</td>\n",
       "    </tr>\n",
       "    <tr>\n",
       "      <th>...</th>\n",
       "      <td>...</td>\n",
       "      <td>...</td>\n",
       "      <td>...</td>\n",
       "      <td>...</td>\n",
       "      <td>...</td>\n",
       "      <td>...</td>\n",
       "      <td>...</td>\n",
       "      <td>...</td>\n",
       "      <td>...</td>\n",
       "      <td>...</td>\n",
       "      <td>...</td>\n",
       "      <td>...</td>\n",
       "      <td>...</td>\n",
       "      <td>...</td>\n",
       "      <td>...</td>\n",
       "      <td>...</td>\n",
       "      <td>...</td>\n",
       "      <td>...</td>\n",
       "      <td>...</td>\n",
       "      <td>...</td>\n",
       "      <td>...</td>\n",
       "    </tr>\n",
       "    <tr>\n",
       "      <th>188</th>\n",
       "      <td>0lmMtDQ2ElasKU2qDAE6NN</td>\n",
       "      <td>1989</td>\n",
       "      <td>All You Had To Do Was Stay</td>\n",
       "      <td>1</td>\n",
       "      <td>5</td>\n",
       "      <td>66</td>\n",
       "      <td>False</td>\n",
       "      <td>0.605</td>\n",
       "      <td>0.725</td>\n",
       "      <td>5</td>\n",
       "      <td>...</td>\n",
       "      <td>1</td>\n",
       "      <td>0.0323</td>\n",
       "      <td>0.00201</td>\n",
       "      <td>0.000020</td>\n",
       "      <td>0.1010</td>\n",
       "      <td>0.539</td>\n",
       "      <td>96.970</td>\n",
       "      <td>193293</td>\n",
       "      <td>4</td>\n",
       "      <td>2014</td>\n",
       "    </tr>\n",
       "    <tr>\n",
       "      <th>189</th>\n",
       "      <td>0yN4fNzmVnmgC0dsOoi9Wh</td>\n",
       "      <td>1989</td>\n",
       "      <td>Bad Blood</td>\n",
       "      <td>1</td>\n",
       "      <td>8</td>\n",
       "      <td>65</td>\n",
       "      <td>False</td>\n",
       "      <td>0.646</td>\n",
       "      <td>0.794</td>\n",
       "      <td>7</td>\n",
       "      <td>...</td>\n",
       "      <td>1</td>\n",
       "      <td>0.1900</td>\n",
       "      <td>0.08850</td>\n",
       "      <td>0.000006</td>\n",
       "      <td>0.2010</td>\n",
       "      <td>0.287</td>\n",
       "      <td>170.216</td>\n",
       "      <td>211933</td>\n",
       "      <td>4</td>\n",
       "      <td>2014</td>\n",
       "    </tr>\n",
       "    <tr>\n",
       "      <th>190</th>\n",
       "      <td>33Kq0AT5rvwyE4azisG08x</td>\n",
       "      <td>1989</td>\n",
       "      <td>Welcome To New York</td>\n",
       "      <td>1</td>\n",
       "      <td>1</td>\n",
       "      <td>65</td>\n",
       "      <td>False</td>\n",
       "      <td>0.789</td>\n",
       "      <td>0.634</td>\n",
       "      <td>7</td>\n",
       "      <td>...</td>\n",
       "      <td>1</td>\n",
       "      <td>0.0323</td>\n",
       "      <td>0.03480</td>\n",
       "      <td>0.000002</td>\n",
       "      <td>0.3020</td>\n",
       "      <td>0.658</td>\n",
       "      <td>116.992</td>\n",
       "      <td>212600</td>\n",
       "      <td>4</td>\n",
       "      <td>2014</td>\n",
       "    </tr>\n",
       "    <tr>\n",
       "      <th>191</th>\n",
       "      <td>106R7Z57WYzBAfrXImV30y</td>\n",
       "      <td>1989</td>\n",
       "      <td>Wildest Dreams</td>\n",
       "      <td>1</td>\n",
       "      <td>9</td>\n",
       "      <td>64</td>\n",
       "      <td>False</td>\n",
       "      <td>0.550</td>\n",
       "      <td>0.688</td>\n",
       "      <td>8</td>\n",
       "      <td>...</td>\n",
       "      <td>1</td>\n",
       "      <td>0.0897</td>\n",
       "      <td>0.06920</td>\n",
       "      <td>0.001440</td>\n",
       "      <td>0.1060</td>\n",
       "      <td>0.465</td>\n",
       "      <td>139.997</td>\n",
       "      <td>220440</td>\n",
       "      <td>4</td>\n",
       "      <td>2014</td>\n",
       "    </tr>\n",
       "    <tr>\n",
       "      <th>192</th>\n",
       "      <td>1kTPQnabROVkW9bUXdCGrB</td>\n",
       "      <td>1989</td>\n",
       "      <td>This Love</td>\n",
       "      <td>1</td>\n",
       "      <td>11</td>\n",
       "      <td>63</td>\n",
       "      <td>False</td>\n",
       "      <td>0.481</td>\n",
       "      <td>0.435</td>\n",
       "      <td>4</td>\n",
       "      <td>...</td>\n",
       "      <td>1</td>\n",
       "      <td>0.0321</td>\n",
       "      <td>0.67800</td>\n",
       "      <td>0.000000</td>\n",
       "      <td>0.0928</td>\n",
       "      <td>0.107</td>\n",
       "      <td>143.950</td>\n",
       "      <td>250093</td>\n",
       "      <td>4</td>\n",
       "      <td>2014</td>\n",
       "    </tr>\n",
       "  </tbody>\n",
       "</table>\n",
       "<p>193 rows × 21 columns</p>\n",
       "</div>"
      ],
      "text/plain": [
       "                        URI  Album                   Song Name  Disc Number  \\\n",
       "0    1BxfuPKGuaTgP7aM0Bbdwr  Lover                Cruel Summer            1   \n",
       "1    1dGr1c8CrMLDpV6mPbImSI  Lover                       Lover            1   \n",
       "2    4y5bvROuBDPr5fuwXbIBZR  Lover                 Paper Rings            1   \n",
       "3    3RauEVgRgj1IuWdJ9fDs70  Lover                     The Man            1   \n",
       "4    6RRNNciQGZEXnqk8SQ9yv5  Lover       You Need To Calm Down            1   \n",
       "..                      ...    ...                         ...          ...   \n",
       "188  0lmMtDQ2ElasKU2qDAE6NN   1989  All You Had To Do Was Stay            1   \n",
       "189  0yN4fNzmVnmgC0dsOoi9Wh   1989                   Bad Blood            1   \n",
       "190  33Kq0AT5rvwyE4azisG08x   1989         Welcome To New York            1   \n",
       "191  106R7Z57WYzBAfrXImV30y   1989              Wildest Dreams            1   \n",
       "192  1kTPQnabROVkW9bUXdCGrB   1989                   This Love            1   \n",
       "\n",
       "     Track Number  Popularity  Explicit  Danceability  Energy  Key  ...  Mode  \\\n",
       "0               2          99     False         0.552   0.702    9  ...     1   \n",
       "1               3          91     False         0.359   0.543    7  ...     1   \n",
       "2               8          86     False         0.811   0.719    9  ...     1   \n",
       "3               4          86     False         0.777   0.658    0  ...     1   \n",
       "4              14          84     False         0.771   0.671    2  ...     1   \n",
       "..            ...         ...       ...           ...     ...  ...  ...   ...   \n",
       "188             5          66     False         0.605   0.725    5  ...     1   \n",
       "189             8          65     False         0.646   0.794    7  ...     1   \n",
       "190             1          65     False         0.789   0.634    7  ...     1   \n",
       "191             9          64     False         0.550   0.688    8  ...     1   \n",
       "192            11          63     False         0.481   0.435    4  ...     1   \n",
       "\n",
       "     Speechiness  Acousticness  Instrumentalness  Liveness  Valence    Tempo  \\\n",
       "0         0.1570       0.11700          0.000021    0.1050    0.564  169.994   \n",
       "1         0.0919       0.49200          0.000016    0.1180    0.453   68.534   \n",
       "2         0.0497       0.01290          0.000014    0.0742    0.865  103.979   \n",
       "3         0.0540       0.07670          0.000000    0.0901    0.633  110.048   \n",
       "4         0.0553       0.00929          0.000000    0.0637    0.714   85.026   \n",
       "..           ...           ...               ...       ...      ...      ...   \n",
       "188       0.0323       0.00201          0.000020    0.1010    0.539   96.970   \n",
       "189       0.1900       0.08850          0.000006    0.2010    0.287  170.216   \n",
       "190       0.0323       0.03480          0.000002    0.3020    0.658  116.992   \n",
       "191       0.0897       0.06920          0.001440    0.1060    0.465  139.997   \n",
       "192       0.0321       0.67800          0.000000    0.0928    0.107  143.950   \n",
       "\n",
       "     Duration_ms  Time Signature  Year  \n",
       "0         178427               4  2019  \n",
       "1         221307               4  2019  \n",
       "2         222400               4  2019  \n",
       "3         190360               4  2019  \n",
       "4         171360               4  2019  \n",
       "..           ...             ...   ...  \n",
       "188       193293               4  2014  \n",
       "189       211933               4  2014  \n",
       "190       212600               4  2014  \n",
       "191       220440               4  2014  \n",
       "192       250093               4  2014  \n",
       "\n",
       "[193 rows x 21 columns]"
      ]
     },
     "execution_count": 10,
     "metadata": {},
     "output_type": "execute_result"
    }
   ],
   "source": [
    "q0_3=tswift.merge(albums, on=\"Album\")\n",
    "q0_3=q0_3.assign(Year=q0_3.get(\"Release Date\").apply(date_to_year))\n",
    "#display(q0_3)\n",
    "tswift = q0_3.drop(columns=[\"Release Date\"])\n",
    "tswift"
   ]
  },
  {
   "cell_type": "code",
   "execution_count": 11,
   "id": "962cc260",
   "metadata": {
    "deletable": false,
    "editable": false
   },
   "outputs": [
    {
     "data": {
      "text/html": [
       "<p><strong><pre style='display: inline;'>q0_3</pre></strong> passed!</p>"
      ],
      "text/plain": [
       "q0_3 results: All test cases passed!"
      ]
     },
     "execution_count": 11,
     "metadata": {},
     "output_type": "execute_result"
    }
   ],
   "source": [
    "grader.check(\"q0_3\")"
   ]
  },
  {
   "cell_type": "markdown",
   "id": "4a604336",
   "metadata": {},
   "source": [
    "Now that `tswift` has all of the information we need, we'll set its index to `'URI'`, since we were told in the data description table that `'URI'`s are unique."
   ]
  },
  {
   "cell_type": "code",
   "execution_count": 12,
   "id": "fd16a623",
   "metadata": {},
   "outputs": [
    {
     "data": {
      "text/html": [
       "<div>\n",
       "<style scoped>\n",
       "    .dataframe tbody tr th:only-of-type {\n",
       "        vertical-align: middle;\n",
       "    }\n",
       "\n",
       "    .dataframe tbody tr th {\n",
       "        vertical-align: top;\n",
       "    }\n",
       "\n",
       "    .dataframe thead th {\n",
       "        text-align: right;\n",
       "    }\n",
       "</style>\n",
       "<table border=\"1\" class=\"dataframe\">\n",
       "  <thead>\n",
       "    <tr style=\"text-align: right;\">\n",
       "      <th></th>\n",
       "      <th>Album</th>\n",
       "      <th>Song Name</th>\n",
       "      <th>Disc Number</th>\n",
       "      <th>Track Number</th>\n",
       "      <th>Popularity</th>\n",
       "      <th>Explicit</th>\n",
       "      <th>Danceability</th>\n",
       "      <th>Energy</th>\n",
       "      <th>Key</th>\n",
       "      <th>Loudness</th>\n",
       "      <th>Mode</th>\n",
       "      <th>Speechiness</th>\n",
       "      <th>Acousticness</th>\n",
       "      <th>Instrumentalness</th>\n",
       "      <th>Liveness</th>\n",
       "      <th>Valence</th>\n",
       "      <th>Tempo</th>\n",
       "      <th>Duration_ms</th>\n",
       "      <th>Time Signature</th>\n",
       "      <th>Year</th>\n",
       "    </tr>\n",
       "    <tr>\n",
       "      <th>URI</th>\n",
       "      <th></th>\n",
       "      <th></th>\n",
       "      <th></th>\n",
       "      <th></th>\n",
       "      <th></th>\n",
       "      <th></th>\n",
       "      <th></th>\n",
       "      <th></th>\n",
       "      <th></th>\n",
       "      <th></th>\n",
       "      <th></th>\n",
       "      <th></th>\n",
       "      <th></th>\n",
       "      <th></th>\n",
       "      <th></th>\n",
       "      <th></th>\n",
       "      <th></th>\n",
       "      <th></th>\n",
       "      <th></th>\n",
       "      <th></th>\n",
       "    </tr>\n",
       "  </thead>\n",
       "  <tbody>\n",
       "    <tr>\n",
       "      <th>1BxfuPKGuaTgP7aM0Bbdwr</th>\n",
       "      <td>Lover</td>\n",
       "      <td>Cruel Summer</td>\n",
       "      <td>1</td>\n",
       "      <td>2</td>\n",
       "      <td>99</td>\n",
       "      <td>False</td>\n",
       "      <td>0.552</td>\n",
       "      <td>0.702</td>\n",
       "      <td>9</td>\n",
       "      <td>-5.707</td>\n",
       "      <td>1</td>\n",
       "      <td>0.1570</td>\n",
       "      <td>0.11700</td>\n",
       "      <td>0.000021</td>\n",
       "      <td>0.1050</td>\n",
       "      <td>0.564</td>\n",
       "      <td>169.994</td>\n",
       "      <td>178427</td>\n",
       "      <td>4</td>\n",
       "      <td>2019</td>\n",
       "    </tr>\n",
       "    <tr>\n",
       "      <th>1dGr1c8CrMLDpV6mPbImSI</th>\n",
       "      <td>Lover</td>\n",
       "      <td>Lover</td>\n",
       "      <td>1</td>\n",
       "      <td>3</td>\n",
       "      <td>91</td>\n",
       "      <td>False</td>\n",
       "      <td>0.359</td>\n",
       "      <td>0.543</td>\n",
       "      <td>7</td>\n",
       "      <td>-7.582</td>\n",
       "      <td>1</td>\n",
       "      <td>0.0919</td>\n",
       "      <td>0.49200</td>\n",
       "      <td>0.000016</td>\n",
       "      <td>0.1180</td>\n",
       "      <td>0.453</td>\n",
       "      <td>68.534</td>\n",
       "      <td>221307</td>\n",
       "      <td>4</td>\n",
       "      <td>2019</td>\n",
       "    </tr>\n",
       "    <tr>\n",
       "      <th>4y5bvROuBDPr5fuwXbIBZR</th>\n",
       "      <td>Lover</td>\n",
       "      <td>Paper Rings</td>\n",
       "      <td>1</td>\n",
       "      <td>8</td>\n",
       "      <td>86</td>\n",
       "      <td>False</td>\n",
       "      <td>0.811</td>\n",
       "      <td>0.719</td>\n",
       "      <td>9</td>\n",
       "      <td>-6.553</td>\n",
       "      <td>1</td>\n",
       "      <td>0.0497</td>\n",
       "      <td>0.01290</td>\n",
       "      <td>0.000014</td>\n",
       "      <td>0.0742</td>\n",
       "      <td>0.865</td>\n",
       "      <td>103.979</td>\n",
       "      <td>222400</td>\n",
       "      <td>4</td>\n",
       "      <td>2019</td>\n",
       "    </tr>\n",
       "    <tr>\n",
       "      <th>3RauEVgRgj1IuWdJ9fDs70</th>\n",
       "      <td>Lover</td>\n",
       "      <td>The Man</td>\n",
       "      <td>1</td>\n",
       "      <td>4</td>\n",
       "      <td>86</td>\n",
       "      <td>False</td>\n",
       "      <td>0.777</td>\n",
       "      <td>0.658</td>\n",
       "      <td>0</td>\n",
       "      <td>-5.191</td>\n",
       "      <td>1</td>\n",
       "      <td>0.0540</td>\n",
       "      <td>0.07670</td>\n",
       "      <td>0.000000</td>\n",
       "      <td>0.0901</td>\n",
       "      <td>0.633</td>\n",
       "      <td>110.048</td>\n",
       "      <td>190360</td>\n",
       "      <td>4</td>\n",
       "      <td>2019</td>\n",
       "    </tr>\n",
       "    <tr>\n",
       "      <th>6RRNNciQGZEXnqk8SQ9yv5</th>\n",
       "      <td>Lover</td>\n",
       "      <td>You Need To Calm Down</td>\n",
       "      <td>1</td>\n",
       "      <td>14</td>\n",
       "      <td>84</td>\n",
       "      <td>False</td>\n",
       "      <td>0.771</td>\n",
       "      <td>0.671</td>\n",
       "      <td>2</td>\n",
       "      <td>-5.617</td>\n",
       "      <td>1</td>\n",
       "      <td>0.0553</td>\n",
       "      <td>0.00929</td>\n",
       "      <td>0.000000</td>\n",
       "      <td>0.0637</td>\n",
       "      <td>0.714</td>\n",
       "      <td>85.026</td>\n",
       "      <td>171360</td>\n",
       "      <td>4</td>\n",
       "      <td>2019</td>\n",
       "    </tr>\n",
       "    <tr>\n",
       "      <th>...</th>\n",
       "      <td>...</td>\n",
       "      <td>...</td>\n",
       "      <td>...</td>\n",
       "      <td>...</td>\n",
       "      <td>...</td>\n",
       "      <td>...</td>\n",
       "      <td>...</td>\n",
       "      <td>...</td>\n",
       "      <td>...</td>\n",
       "      <td>...</td>\n",
       "      <td>...</td>\n",
       "      <td>...</td>\n",
       "      <td>...</td>\n",
       "      <td>...</td>\n",
       "      <td>...</td>\n",
       "      <td>...</td>\n",
       "      <td>...</td>\n",
       "      <td>...</td>\n",
       "      <td>...</td>\n",
       "      <td>...</td>\n",
       "    </tr>\n",
       "    <tr>\n",
       "      <th>0lmMtDQ2ElasKU2qDAE6NN</th>\n",
       "      <td>1989</td>\n",
       "      <td>All You Had To Do Was Stay</td>\n",
       "      <td>1</td>\n",
       "      <td>5</td>\n",
       "      <td>66</td>\n",
       "      <td>False</td>\n",
       "      <td>0.605</td>\n",
       "      <td>0.725</td>\n",
       "      <td>5</td>\n",
       "      <td>-5.729</td>\n",
       "      <td>1</td>\n",
       "      <td>0.0323</td>\n",
       "      <td>0.00201</td>\n",
       "      <td>0.000020</td>\n",
       "      <td>0.1010</td>\n",
       "      <td>0.539</td>\n",
       "      <td>96.970</td>\n",
       "      <td>193293</td>\n",
       "      <td>4</td>\n",
       "      <td>2014</td>\n",
       "    </tr>\n",
       "    <tr>\n",
       "      <th>0yN4fNzmVnmgC0dsOoi9Wh</th>\n",
       "      <td>1989</td>\n",
       "      <td>Bad Blood</td>\n",
       "      <td>1</td>\n",
       "      <td>8</td>\n",
       "      <td>65</td>\n",
       "      <td>False</td>\n",
       "      <td>0.646</td>\n",
       "      <td>0.794</td>\n",
       "      <td>7</td>\n",
       "      <td>-6.104</td>\n",
       "      <td>1</td>\n",
       "      <td>0.1900</td>\n",
       "      <td>0.08850</td>\n",
       "      <td>0.000006</td>\n",
       "      <td>0.2010</td>\n",
       "      <td>0.287</td>\n",
       "      <td>170.216</td>\n",
       "      <td>211933</td>\n",
       "      <td>4</td>\n",
       "      <td>2014</td>\n",
       "    </tr>\n",
       "    <tr>\n",
       "      <th>33Kq0AT5rvwyE4azisG08x</th>\n",
       "      <td>1989</td>\n",
       "      <td>Welcome To New York</td>\n",
       "      <td>1</td>\n",
       "      <td>1</td>\n",
       "      <td>65</td>\n",
       "      <td>False</td>\n",
       "      <td>0.789</td>\n",
       "      <td>0.634</td>\n",
       "      <td>7</td>\n",
       "      <td>-4.762</td>\n",
       "      <td>1</td>\n",
       "      <td>0.0323</td>\n",
       "      <td>0.03480</td>\n",
       "      <td>0.000002</td>\n",
       "      <td>0.3020</td>\n",
       "      <td>0.658</td>\n",
       "      <td>116.992</td>\n",
       "      <td>212600</td>\n",
       "      <td>4</td>\n",
       "      <td>2014</td>\n",
       "    </tr>\n",
       "    <tr>\n",
       "      <th>106R7Z57WYzBAfrXImV30y</th>\n",
       "      <td>1989</td>\n",
       "      <td>Wildest Dreams</td>\n",
       "      <td>1</td>\n",
       "      <td>9</td>\n",
       "      <td>64</td>\n",
       "      <td>False</td>\n",
       "      <td>0.550</td>\n",
       "      <td>0.688</td>\n",
       "      <td>8</td>\n",
       "      <td>-7.416</td>\n",
       "      <td>1</td>\n",
       "      <td>0.0897</td>\n",
       "      <td>0.06920</td>\n",
       "      <td>0.001440</td>\n",
       "      <td>0.1060</td>\n",
       "      <td>0.465</td>\n",
       "      <td>139.997</td>\n",
       "      <td>220440</td>\n",
       "      <td>4</td>\n",
       "      <td>2014</td>\n",
       "    </tr>\n",
       "    <tr>\n",
       "      <th>1kTPQnabROVkW9bUXdCGrB</th>\n",
       "      <td>1989</td>\n",
       "      <td>This Love</td>\n",
       "      <td>1</td>\n",
       "      <td>11</td>\n",
       "      <td>63</td>\n",
       "      <td>False</td>\n",
       "      <td>0.481</td>\n",
       "      <td>0.435</td>\n",
       "      <td>4</td>\n",
       "      <td>-8.795</td>\n",
       "      <td>1</td>\n",
       "      <td>0.0321</td>\n",
       "      <td>0.67800</td>\n",
       "      <td>0.000000</td>\n",
       "      <td>0.0928</td>\n",
       "      <td>0.107</td>\n",
       "      <td>143.950</td>\n",
       "      <td>250093</td>\n",
       "      <td>4</td>\n",
       "      <td>2014</td>\n",
       "    </tr>\n",
       "  </tbody>\n",
       "</table>\n",
       "<p>193 rows × 20 columns</p>\n",
       "</div>"
      ],
      "text/plain": [
       "                        Album                   Song Name  Disc Number  \\\n",
       "URI                                                                      \n",
       "1BxfuPKGuaTgP7aM0Bbdwr  Lover                Cruel Summer            1   \n",
       "1dGr1c8CrMLDpV6mPbImSI  Lover                       Lover            1   \n",
       "4y5bvROuBDPr5fuwXbIBZR  Lover                 Paper Rings            1   \n",
       "3RauEVgRgj1IuWdJ9fDs70  Lover                     The Man            1   \n",
       "6RRNNciQGZEXnqk8SQ9yv5  Lover       You Need To Calm Down            1   \n",
       "...                       ...                         ...          ...   \n",
       "0lmMtDQ2ElasKU2qDAE6NN   1989  All You Had To Do Was Stay            1   \n",
       "0yN4fNzmVnmgC0dsOoi9Wh   1989                   Bad Blood            1   \n",
       "33Kq0AT5rvwyE4azisG08x   1989         Welcome To New York            1   \n",
       "106R7Z57WYzBAfrXImV30y   1989              Wildest Dreams            1   \n",
       "1kTPQnabROVkW9bUXdCGrB   1989                   This Love            1   \n",
       "\n",
       "                        Track Number  Popularity  Explicit  Danceability  \\\n",
       "URI                                                                        \n",
       "1BxfuPKGuaTgP7aM0Bbdwr             2          99     False         0.552   \n",
       "1dGr1c8CrMLDpV6mPbImSI             3          91     False         0.359   \n",
       "4y5bvROuBDPr5fuwXbIBZR             8          86     False         0.811   \n",
       "3RauEVgRgj1IuWdJ9fDs70             4          86     False         0.777   \n",
       "6RRNNciQGZEXnqk8SQ9yv5            14          84     False         0.771   \n",
       "...                              ...         ...       ...           ...   \n",
       "0lmMtDQ2ElasKU2qDAE6NN             5          66     False         0.605   \n",
       "0yN4fNzmVnmgC0dsOoi9Wh             8          65     False         0.646   \n",
       "33Kq0AT5rvwyE4azisG08x             1          65     False         0.789   \n",
       "106R7Z57WYzBAfrXImV30y             9          64     False         0.550   \n",
       "1kTPQnabROVkW9bUXdCGrB            11          63     False         0.481   \n",
       "\n",
       "                        Energy  Key  Loudness  Mode  Speechiness  \\\n",
       "URI                                                                \n",
       "1BxfuPKGuaTgP7aM0Bbdwr   0.702    9    -5.707     1       0.1570   \n",
       "1dGr1c8CrMLDpV6mPbImSI   0.543    7    -7.582     1       0.0919   \n",
       "4y5bvROuBDPr5fuwXbIBZR   0.719    9    -6.553     1       0.0497   \n",
       "3RauEVgRgj1IuWdJ9fDs70   0.658    0    -5.191     1       0.0540   \n",
       "6RRNNciQGZEXnqk8SQ9yv5   0.671    2    -5.617     1       0.0553   \n",
       "...                        ...  ...       ...   ...          ...   \n",
       "0lmMtDQ2ElasKU2qDAE6NN   0.725    5    -5.729     1       0.0323   \n",
       "0yN4fNzmVnmgC0dsOoi9Wh   0.794    7    -6.104     1       0.1900   \n",
       "33Kq0AT5rvwyE4azisG08x   0.634    7    -4.762     1       0.0323   \n",
       "106R7Z57WYzBAfrXImV30y   0.688    8    -7.416     1       0.0897   \n",
       "1kTPQnabROVkW9bUXdCGrB   0.435    4    -8.795     1       0.0321   \n",
       "\n",
       "                        Acousticness  Instrumentalness  Liveness  Valence  \\\n",
       "URI                                                                         \n",
       "1BxfuPKGuaTgP7aM0Bbdwr       0.11700          0.000021    0.1050    0.564   \n",
       "1dGr1c8CrMLDpV6mPbImSI       0.49200          0.000016    0.1180    0.453   \n",
       "4y5bvROuBDPr5fuwXbIBZR       0.01290          0.000014    0.0742    0.865   \n",
       "3RauEVgRgj1IuWdJ9fDs70       0.07670          0.000000    0.0901    0.633   \n",
       "6RRNNciQGZEXnqk8SQ9yv5       0.00929          0.000000    0.0637    0.714   \n",
       "...                              ...               ...       ...      ...   \n",
       "0lmMtDQ2ElasKU2qDAE6NN       0.00201          0.000020    0.1010    0.539   \n",
       "0yN4fNzmVnmgC0dsOoi9Wh       0.08850          0.000006    0.2010    0.287   \n",
       "33Kq0AT5rvwyE4azisG08x       0.03480          0.000002    0.3020    0.658   \n",
       "106R7Z57WYzBAfrXImV30y       0.06920          0.001440    0.1060    0.465   \n",
       "1kTPQnabROVkW9bUXdCGrB       0.67800          0.000000    0.0928    0.107   \n",
       "\n",
       "                          Tempo  Duration_ms  Time Signature  Year  \n",
       "URI                                                                 \n",
       "1BxfuPKGuaTgP7aM0Bbdwr  169.994       178427               4  2019  \n",
       "1dGr1c8CrMLDpV6mPbImSI   68.534       221307               4  2019  \n",
       "4y5bvROuBDPr5fuwXbIBZR  103.979       222400               4  2019  \n",
       "3RauEVgRgj1IuWdJ9fDs70  110.048       190360               4  2019  \n",
       "6RRNNciQGZEXnqk8SQ9yv5   85.026       171360               4  2019  \n",
       "...                         ...          ...             ...   ...  \n",
       "0lmMtDQ2ElasKU2qDAE6NN   96.970       193293               4  2014  \n",
       "0yN4fNzmVnmgC0dsOoi9Wh  170.216       211933               4  2014  \n",
       "33Kq0AT5rvwyE4azisG08x  116.992       212600               4  2014  \n",
       "106R7Z57WYzBAfrXImV30y  139.997       220440               4  2014  \n",
       "1kTPQnabROVkW9bUXdCGrB  143.950       250093               4  2014  \n",
       "\n",
       "[193 rows x 20 columns]"
      ]
     },
     "execution_count": 12,
     "metadata": {},
     "output_type": "execute_result"
    }
   ],
   "source": [
    "tswift = tswift.set_index('URI')\n",
    "tswift"
   ]
  },
  {
   "cell_type": "markdown",
   "id": "4491bb6e",
   "metadata": {},
   "source": [
    "Now we have our data in the format we need for the rest of the project. In the next two sections of the project, we'll work with the `tswift` DataFrame. Then we'll pivot to work with the `lyrics` DataFrame in the last two sections. Let's begin!"
   ]
  },
  {
   "cell_type": "markdown",
   "id": "e73e898d",
   "metadata": {},
   "source": [
    "<a id='section1'></a>\n",
    "## Section 1: Data Visualization 👀\n",
    "\n",
    "> Ooh, look what you made me do.   \n",
    "\n",
    "<small>(<a href=\"#outline\">return to the outline</a>)</small>"
   ]
  },
  {
   "cell_type": "markdown",
   "id": "417e3111",
   "metadata": {},
   "source": [
    "In this section, we'll use the `tswift` DataFrame to create visualizations that will help us answer questions about Taylor Swift's music, including:\n",
    "- How many songs did Taylor Swift release each year?\n",
    "- How do different audio features such as `'Loudness'` and `'Energy'` relate to one another?\n",
    "- Are Taylor Swift's songs generally more positive or more negative?\n",
    "- Which Taylor Swift album has the most songs in a minor key?"
   ]
  },
  {
   "cell_type": "markdown",
   "id": "4ba18ae6",
   "metadata": {
    "deletable": false,
    "editable": false
   },
   "source": [
    "**Question 1.1.** To start, let's address the following question:\n",
    "\n",
    "> How many songs did Taylor Swift release each year?\n",
    "\n",
    "There are several types of plots that could be used to answer this question. Which of the following plot type would **not** be an appropriate tool to help you answer this question? Set `q1_1` to either 1, 2, or 3, corresponding to your choice from the options below. \n",
    "\n",
    "1. Scatter plot\n",
    "1. Line plot\n",
    "1. Bar chart\n",
    "\n",
    "<!--\n",
    "BEGIN QUESTION\n",
    "name: q1_1\n",
    "points: 1\n",
    "-->"
   ]
  },
  {
   "cell_type": "code",
   "execution_count": 13,
   "id": "a7536c9e",
   "metadata": {},
   "outputs": [],
   "source": [
    "q1_1 = 1"
   ]
  },
  {
   "cell_type": "code",
   "execution_count": 14,
   "id": "a2ef18d3",
   "metadata": {
    "deletable": false,
    "editable": false
   },
   "outputs": [
    {
     "data": {
      "text/html": [
       "<p><strong><pre style='display: inline;'>q1_1</pre></strong> passed!</p>"
      ],
      "text/plain": [
       "q1_1 results: All test cases passed!"
      ]
     },
     "execution_count": 14,
     "metadata": {},
     "output_type": "execute_result"
    }
   ],
   "source": [
    "grader.check(\"q1_1\")"
   ]
  },
  {
   "cell_type": "markdown",
   "id": "ba29b5ac",
   "metadata": {},
   "source": [
    "**Question 1.2.** Now, create any plot, from among the plot types mentioned Question 1.1, that **will** help you answer the question of how many songs were released each year. Make sure to give your plot a meaningful title. "
   ]
  },
  {
   "cell_type": "code",
   "execution_count": 15,
   "id": "eacc5952",
   "metadata": {},
   "outputs": [
    {
     "data": {
      "text/plain": [
       "<AxesSubplot:title={'center':'Songs released per year'}, ylabel='Year'>"
      ]
     },
     "execution_count": 15,
     "metadata": {},
     "output_type": "execute_result"
    },
    {
     "data": {
      "image/png": "[encoded data removed]",
      "text/plain": [
       "<Figure size 720x360 with 1 Axes>"
      ]
     },
     "metadata": {},
     "output_type": "display_data"
    }
   ],
   "source": [
    "# Create your plot here.\n",
    "tswift.groupby(\"Year\").count().reset_index().sort_values(\"Year\",ascending=False).set_index(\"Year\").plot(kind=\"barh\",y=\"Album\",title=\"Songs released per year\")"
   ]
  },
  {
   "cell_type": "markdown",
   "id": "1707ae96",
   "metadata": {
    "deletable": false,
    "editable": false
   },
   "source": [
    "Use the plot to determine the year with the most songs. After looking at the plot, store the year in the variable `year_with_most_songs` by manually typing it in, as an int.\n",
    "\n",
    "<!--\n",
    "BEGIN QUESTION\n",
    "name: q1_2\n",
    "points: 1\n",
    "-->"
   ]
  },
  {
   "cell_type": "code",
   "execution_count": 16,
   "id": "9c4fb22e",
   "metadata": {},
   "outputs": [
    {
     "data": {
      "text/plain": [
       "2020"
      ]
     },
     "execution_count": 16,
     "metadata": {},
     "output_type": "execute_result"
    }
   ],
   "source": [
    "year_with_most_songs = tswift.groupby(\"Year\").count().sort_values(\"Album\",ascending=False).index[0]\n",
    "year_with_most_songs"
   ]
  },
  {
   "cell_type": "code",
   "execution_count": 17,
   "id": "c653cb37",
   "metadata": {
    "deletable": false,
    "editable": false
   },
   "outputs": [
    {
     "data": {
      "text/html": [
       "<p><strong><pre style='display: inline;'>q1_2</pre></strong> passed!</p>"
      ],
      "text/plain": [
       "q1_2 results: All test cases passed!"
      ]
     },
     "execution_count": 17,
     "metadata": {},
     "output_type": "execute_result"
    }
   ],
   "source": [
    "grader.check(\"q1_2\")"
   ]
  },
  {
   "cell_type": "markdown",
   "id": "4b963bb7",
   "metadata": {
    "deletable": false,
    "editable": false
   },
   "source": [
    "**Question 1.3.** Taylor Swift actually released two albums, sometimes called sister albums 👯, in the `year_with_most_songs`. Use code to find out which two albums were released that year. Specifically, set `sister_albums` to an array containing the names of these albums as strings, in any order. Do not type in the album names manually; write code to get them for you.\n",
    "\n",
    "***Hint:*** The Series method `.unique()` might be helpful.\n",
    "\n",
    "<!--\n",
    "BEGIN QUESTION\n",
    "name: q1_3\n",
    "points: 1\n",
    "-->"
   ]
  },
  {
   "cell_type": "code",
   "execution_count": 18,
   "id": "8db74bb5",
   "metadata": {},
   "outputs": [
    {
     "data": {
      "text/plain": [
       "array(['folklore', 'evermore'], dtype=object)"
      ]
     },
     "execution_count": 18,
     "metadata": {},
     "output_type": "execute_result"
    }
   ],
   "source": [
    "sister_albums = tswift[tswift.get(\"Year\")==year_with_most_songs].get(\"Album\").unique()\n",
    "sister_albums"
   ]
  },
  {
   "cell_type": "code",
   "execution_count": 19,
   "id": "a6158f0e",
   "metadata": {
    "deletable": false,
    "editable": false
   },
   "outputs": [
    {
     "data": {
      "text/html": [
       "<p><strong><pre style='display: inline;'>q1_3</pre></strong> passed!</p>"
      ],
      "text/plain": [
       "q1_3 results: All test cases passed!"
      ]
     },
     "execution_count": 19,
     "metadata": {},
     "output_type": "execute_result"
    }
   ],
   "source": [
    "grader.check(\"q1_3\")"
   ]
  },
  {
   "cell_type": "markdown",
   "id": "b50ac37a",
   "metadata": {
    "deletable": false,
    "editable": false
   },
   "source": [
    "**Question 1.4.** Create a visualization *or* write code to answer the following question:\n",
    "\n",
    "> Which album has the most songs?\n",
    "\n",
    "Save the name of the album as `most_songs_album`. If you create a visualization to answer the question, it's fine to hardcode the answer as a string; if you write code to answer the question, it's fine to assign `most_songs_album` to an expression that evaluates to a string.\n",
    "\n",
    "<!--\n",
    "BEGIN QUESTION\n",
    "name: q1_4\n",
    "points: 1\n",
    "-->"
   ]
  },
  {
   "cell_type": "code",
   "execution_count": 20,
   "id": "dd50c26e",
   "metadata": {},
   "outputs": [
    {
     "data": {
      "text/plain": [
       "'Red'"
      ]
     },
     "execution_count": 20,
     "metadata": {},
     "output_type": "execute_result"
    }
   ],
   "source": [
    "most_songs_album = tswift.groupby(\"Album\").count().sort_values(\"Song Name\",ascending=False).index[0]\n",
    "most_songs_album"
   ]
  },
  {
   "cell_type": "code",
   "execution_count": 21,
   "id": "bb44cd2d",
   "metadata": {
    "deletable": false,
    "editable": false
   },
   "outputs": [
    {
     "data": {
      "text/html": [
       "<p><strong><pre style='display: inline;'>q1_4</pre></strong> passed!</p>"
      ],
      "text/plain": [
       "q1_4 results: All test cases passed!"
      ]
     },
     "execution_count": 21,
     "metadata": {},
     "output_type": "execute_result"
    }
   ],
   "source": [
    "grader.check(\"q1_4\")"
   ]
  },
  {
   "cell_type": "markdown",
   "id": "e6bcf6fb",
   "metadata": {},
   "source": [
    "The `'Popularity'` column in `tswift` contains a number, on a scale of 0 to 100, that ranks how popular a track is relative to other tracks on Spotify. Every stream, save, share, like, and playlist recommendation contributes to a song's `'Popularity'`. Songs with a higher `'Popularity'` are more likely to be recommended to new listeners and added to algorithmically-generated playlists."
   ]
  },
  {
   "cell_type": "markdown",
   "id": "c14ebc4f",
   "metadata": {
    "deletable": false,
    "editable": false
   },
   "source": [
    "**Question 1.5.** What are the most and least popular Taylor Swift songs right now? Save your answers as `most_pop` and `least_pop`, respectively.\n",
    "\n",
    "<!--\n",
    "BEGIN QUESTION\n",
    "name: q1_5\n",
    "points: 1\n",
    "-->"
   ]
  },
  {
   "cell_type": "code",
   "execution_count": 22,
   "id": "2125cec7",
   "metadata": {},
   "outputs": [
    {
     "name": "stdout",
     "output_type": "stream",
     "text": [
      "The most popular Taylor Swift song right now is Cruel Summer.\n",
      "The least popular Taylor Swift song right now is A Perfectly Good Heart.\n"
     ]
    }
   ],
   "source": [
    "#display(tswift.sort_values(\"Popularity\"))\n",
    "most_pop = tswift.sort_values(\"Popularity\").get(\"Song Name\").iloc[-1]\n",
    "least_pop = tswift.sort_values(\"Popularity\").get(\"Song Name\").iloc[0]\n",
    "\n",
    "print(f'The most popular Taylor Swift song right now is {most_pop}.')\n",
    "print(f'The least popular Taylor Swift song right now is {least_pop}.')"
   ]
  },
  {
   "cell_type": "code",
   "execution_count": 23,
   "id": "0e117e8d",
   "metadata": {
    "deletable": false,
    "editable": false
   },
   "outputs": [
    {
     "data": {
      "text/html": [
       "<p><strong><pre style='display: inline;'>q1_5</pre></strong> passed!</p>"
      ],
      "text/plain": [
       "q1_5 results: All test cases passed!"
      ]
     },
     "execution_count": 23,
     "metadata": {},
     "output_type": "execute_result"
    }
   ],
   "source": [
    "grader.check(\"q1_5\")"
   ]
  },
  {
   "cell_type": "markdown",
   "id": "adcfaaf5",
   "metadata": {
    "deletable": false,
    "editable": false
   },
   "source": [
    "**Question 1.6.** ⭐⭐ Create a DataFrame named `popularity_by_year` that is indexed by `'Year'` and has two columns:\n",
    "- `'Max_Popularity'` should contain the highest popularity among all songs released that year.\n",
    "- `'Median_Popularity'` should contain the median popularity of all songs released that year. \n",
    "\n",
    "<!--\n",
    "BEGIN QUESTION\n",
    "name: q1_6\n",
    "points: 2\n",
    "-->"
   ]
  },
  {
   "cell_type": "code",
   "execution_count": 24,
   "id": "17f86bb0",
   "metadata": {
    "scrolled": true
   },
   "outputs": [
    {
     "data": {
      "text/html": [
       "<div>\n",
       "<style scoped>\n",
       "    .dataframe tbody tr th:only-of-type {\n",
       "        vertical-align: middle;\n",
       "    }\n",
       "\n",
       "    .dataframe tbody tr th {\n",
       "        vertical-align: top;\n",
       "    }\n",
       "\n",
       "    .dataframe thead th {\n",
       "        text-align: right;\n",
       "    }\n",
       "</style>\n",
       "<table border=\"1\" class=\"dataframe\">\n",
       "  <thead>\n",
       "    <tr style=\"text-align: right;\">\n",
       "      <th></th>\n",
       "      <th>Max_Popularity</th>\n",
       "      <th>Median_Popularity</th>\n",
       "    </tr>\n",
       "    <tr>\n",
       "      <th>Year</th>\n",
       "      <th></th>\n",
       "      <th></th>\n",
       "    </tr>\n",
       "  </thead>\n",
       "  <tbody>\n",
       "    <tr>\n",
       "      <th>2006</th>\n",
       "      <td>77</td>\n",
       "      <td>61.0</td>\n",
       "    </tr>\n",
       "    <tr>\n",
       "      <th>2008</th>\n",
       "      <td>87</td>\n",
       "      <td>69.0</td>\n",
       "    </tr>\n",
       "    <tr>\n",
       "      <th>2010</th>\n",
       "      <td>88</td>\n",
       "      <td>79.0</td>\n",
       "    </tr>\n",
       "    <tr>\n",
       "      <th>2012</th>\n",
       "      <td>87</td>\n",
       "      <td>73.5</td>\n",
       "    </tr>\n",
       "    <tr>\n",
       "      <th>2014</th>\n",
       "      <td>76</td>\n",
       "      <td>69.0</td>\n",
       "    </tr>\n",
       "    <tr>\n",
       "      <th>2017</th>\n",
       "      <td>91</td>\n",
       "      <td>82.0</td>\n",
       "    </tr>\n",
       "    <tr>\n",
       "      <th>2019</th>\n",
       "      <td>99</td>\n",
       "      <td>81.5</td>\n",
       "    </tr>\n",
       "    <tr>\n",
       "      <th>2020</th>\n",
       "      <td>92</td>\n",
       "      <td>74.0</td>\n",
       "    </tr>\n",
       "    <tr>\n",
       "      <th>2022</th>\n",
       "      <td>93</td>\n",
       "      <td>79.0</td>\n",
       "    </tr>\n",
       "  </tbody>\n",
       "</table>\n",
       "</div>"
      ],
      "text/plain": [
       "      Max_Popularity  Median_Popularity\n",
       "Year                                   \n",
       "2006              77               61.0\n",
       "2008              87               69.0\n",
       "2010              88               79.0\n",
       "2012              87               73.5\n",
       "2014              76               69.0\n",
       "2017              91               82.0\n",
       "2019              99               81.5\n",
       "2020              92               74.0\n",
       "2022              93               79.0"
      ]
     },
     "execution_count": 24,
     "metadata": {},
     "output_type": "execute_result"
    }
   ],
   "source": [
    "q1_6=tswift.groupby(\"Year\").max()\n",
    "popularity_by_year = q1_6.assign(Max_Popularity=q1_6.get(\"Popularity\"),Median_Popularity=tswift.groupby(\"Year\").median().get(\"Popularity\")).get([\"Max_Popularity\",\"Median_Popularity\"])\n",
    "popularity_by_year"
   ]
  },
  {
   "cell_type": "code",
   "execution_count": 25,
   "id": "a63ee25a",
   "metadata": {
    "deletable": false,
    "editable": false
   },
   "outputs": [
    {
     "data": {
      "text/html": [
       "<p><strong><pre style='display: inline;'>q1_6</pre></strong> passed!</p>"
      ],
      "text/plain": [
       "q1_6 results: All test cases passed!"
      ]
     },
     "execution_count": 25,
     "metadata": {},
     "output_type": "execute_result"
    }
   ],
   "source": [
    "grader.check(\"q1_6\")"
   ]
  },
  {
   "cell_type": "markdown",
   "id": "8cad318d",
   "metadata": {
    "deletable": false,
    "editable": false
   },
   "source": [
    "<!-- BEGIN QUESTION -->\n",
    "\n",
    "**Question 1.7.** Create an overlaid line plot showing how the `'Max_Popularity'` and `'Median_Popularity'` are related to `'Year'`. Give your plot an appropriate title.\n",
    "\n",
    "<!--\n",
    "BEGIN QUESTION\n",
    "name: q1_7\n",
    "manual: true\n",
    "points: 1\n",
    "-->"
   ]
  },
  {
   "cell_type": "code",
   "execution_count": 26,
   "id": "02f6fefe",
   "metadata": {},
   "outputs": [
    {
     "data": {
      "image/png": "[encoded data removed]",
      "text/plain": [
       "<Figure size 720x360 with 1 Axes>"
      ]
     },
     "metadata": {},
     "output_type": "display_data"
    }
   ],
   "source": [
    "# Create your plot here.\n",
    "popularity_by_year.plot(kind='line', y=['Max_Popularity', 'Median_Popularity'],title=\"Max_Popularity and Median_Popularity vs Year\");"
   ]
  },
  {
   "cell_type": "markdown",
   "id": "7b8769b8",
   "metadata": {},
   "source": [
    "<!-- END QUESTION -->\n",
    "\n",
    "\n",
    "\n",
    "**Question 1.8.** Let's explore the relationship between different variables in the `tswift` dataset. Specifically:\n",
    "- `'Loudness'` is the average loudness of a track measured on a relative scale in decibels. Values typically range between -60 (softer) and 0 (louder).\n",
    "- `'Energy'` is a 0 to 1 scale of a track's activity and intensity, where higher values are more energetic.\n",
    "\n",
    "In the cell below, create a plot that shows the relationship between `'Loudness'` (on the horizontal axis) and `'Energy'` (on the vertical axis) in Taylor Swift's songs. Include an appropriate title. We've included some additional code to draw the best-fitting line to describe the relationship between these variables. We'll learn more about best-fitting lines when we study regression later in the course!"
   ]
  },
  {
   "cell_type": "code",
   "execution_count": 27,
   "id": "369e8160",
   "metadata": {},
   "outputs": [
    {
     "data": {
      "image/png": "[encoded data removed]",
      "text/plain": [
       "<Figure size 720x360 with 1 Axes>"
      ]
     },
     "metadata": {},
     "output_type": "display_data"
    }
   ],
   "source": [
    "# Create your plot here.\n",
    "tswift.plot(kind='scatter', x='Loudness', y='Energy',title=\"Loudness vs Energy\");\n",
    "# The code below plots the line of best fit; do not alter it!\n",
    "x = tswift.get('Loudness')\n",
    "y = tswift.get('Energy')\n",
    "a, b = np.polyfit(x, y, 1)\n",
    "plt.plot(x, a * x + b, label='Line of Best Fit')        \n",
    "plt.legend()\n",
    "plt.show()"
   ]
  },
  {
   "cell_type": "markdown",
   "id": "fa70e643",
   "metadata": {
    "deletable": false,
    "editable": false
   },
   "source": [
    "What is the relationship between `'Loudness'` and `'Energy'` for Taylor Swift's songs? Set `q1_8` to either 1, 2, or 3, corresponding to your choice from the options below. \n",
    "\n",
    "1. Louder songs tend to be higher in energy.\n",
    "1. Louder songs tend to be lower in energy.\n",
    "1. There is no clear relationship between `'Loudness'` and `'Energy'`.\n",
    "\n",
    "<!--\n",
    "BEGIN QUESTION\n",
    "name: q1_8\n",
    "points: 1\n",
    "-->"
   ]
  },
  {
   "cell_type": "code",
   "execution_count": 28,
   "id": "3f7fc6f5",
   "metadata": {},
   "outputs": [],
   "source": [
    "q1_8 = 1"
   ]
  },
  {
   "cell_type": "code",
   "execution_count": 29,
   "id": "a39511ca",
   "metadata": {
    "deletable": false,
    "editable": false
   },
   "outputs": [
    {
     "data": {
      "text/html": [
       "<p><strong><pre style='display: inline;'>q1_8</pre></strong> passed!</p>"
      ],
      "text/plain": [
       "q1_8 results: All test cases passed!"
      ]
     },
     "execution_count": 29,
     "metadata": {},
     "output_type": "execute_result"
    }
   ],
   "source": [
    "grader.check(\"q1_8\")"
   ]
  },
  {
   "cell_type": "markdown",
   "id": "cbfa2ce9",
   "metadata": {},
   "source": [
    "**Question 1.9.** Another one of Spotify's audio features is `'Valence'`, which measures the positivity, or \"happiness\", of a track on a 0 to 1 scale. Larger values correspond to more positive songs.\n",
    "\n",
    "In the cell below, create a plot that shows the relationship between `'Valence'` (on the horizontal axis) and `'Popularity'` (on the vertical axis) in Taylor Swift's songs. Include an appropriate title. As in the previous question, we've included code to plot the best-fitting line."
   ]
  },
  {
   "cell_type": "code",
   "execution_count": 30,
   "id": "9f125a70",
   "metadata": {},
   "outputs": [
    {
     "data": {
      "image/png": "[encoded data removed]",
      "text/plain": [
       "<Figure size 720x360 with 1 Axes>"
      ]
     },
     "metadata": {},
     "output_type": "display_data"
    }
   ],
   "source": [
    "# Create your plot here.\n",
    "tswift.plot(kind='scatter', x='Valence', y='Popularity',title=\"Valence vs Popularity\");\n",
    "# The code below plots the line of best fit; do not alter it!\n",
    "x = tswift.get('Valence')\n",
    "y = tswift.get('Popularity')\n",
    "a, b = np.polyfit(x, y, 1)\n",
    "plt.plot(x, a * x + b, label='Line of Best Fit')        \n",
    "plt.legend()\n",
    "plt.show()"
   ]
  },
  {
   "cell_type": "markdown",
   "id": "743ec2cd",
   "metadata": {
    "deletable": false,
    "editable": false
   },
   "source": [
    "What is the relationship between `'Valence'` and `'Popularity'` for Taylor Swift's songs? Set `q1_9` to either 1, 2, or 3, corresponding to your choice from the options below.\n",
    "\n",
    "1. Positive songs tend to be more popular.\n",
    "1. Positive songs tend to be less popular.\n",
    "1. There is no clear relationship between `'Valence'` and `'Popularity'`.\n",
    "\n",
    "<!--\n",
    "BEGIN QUESTION\n",
    "name: q1_9\n",
    "points: 1\n",
    "-->"
   ]
  },
  {
   "cell_type": "code",
   "execution_count": 31,
   "id": "ee92d236",
   "metadata": {},
   "outputs": [],
   "source": [
    "q1_9 = 3"
   ]
  },
  {
   "cell_type": "code",
   "execution_count": 32,
   "id": "91497c9b",
   "metadata": {
    "deletable": false,
    "editable": false
   },
   "outputs": [
    {
     "data": {
      "text/html": [
       "<p><strong><pre style='display: inline;'>q1_9</pre></strong> passed!</p>"
      ],
      "text/plain": [
       "q1_9 results: All test cases passed!"
      ]
     },
     "execution_count": 32,
     "metadata": {},
     "output_type": "execute_result"
    }
   ],
   "source": [
    "grader.check(\"q1_9\")"
   ]
  },
  {
   "cell_type": "markdown",
   "id": "fb158b7b",
   "metadata": {},
   "source": [
    "**Question 1.10.** Create a plot that visualizes the distribution of `'Valence'` for all of Taylor Swift's songs. Include an appropriate title."
   ]
  },
  {
   "cell_type": "code",
   "execution_count": 33,
   "id": "556d19d5",
   "metadata": {
    "scrolled": true
   },
   "outputs": [
    {
     "data": {
      "image/png": "[encoded data removed]",
      "text/plain": [
       "<Figure size 720x360 with 1 Axes>"
      ]
     },
     "metadata": {},
     "output_type": "display_data"
    }
   ],
   "source": [
    "# Create your plot here.\n",
    "tswift.plot(kind='hist', y='Valence', density=True, ec=\"w\", bins=np.arange(0,1+0.1,0.1), title=\"Valence distribution\");"
   ]
  },
  {
   "cell_type": "markdown",
   "id": "82cc9a01",
   "metadata": {
    "deletable": false,
    "editable": false
   },
   "source": [
    "Are Taylor Swift's songs more positive or negative on average?  Set `q1_10` to either 1 or 2, corresponding to your choice from the options below.\n",
    "\n",
    "1. Taylor Swift's songs are more positive on average.\n",
    "2. Taylor Swift's songs are more negative on average.\n",
    "\n",
    "<!--\n",
    "BEGIN QUESTION\n",
    "name: q1_10\n",
    "points: 1\n",
    "-->"
   ]
  },
  {
   "cell_type": "code",
   "execution_count": 34,
   "id": "36916350",
   "metadata": {},
   "outputs": [],
   "source": [
    "q1_10 = 2"
   ]
  },
  {
   "cell_type": "code",
   "execution_count": 35,
   "id": "0e746562",
   "metadata": {
    "deletable": false,
    "editable": false
   },
   "outputs": [
    {
     "data": {
      "text/html": [
       "<p><strong><pre style='display: inline;'>q1_10</pre></strong> passed!</p>"
      ],
      "text/plain": [
       "q1_10 results: All test cases passed!"
      ]
     },
     "execution_count": 35,
     "metadata": {},
     "output_type": "execute_result"
    }
   ],
   "source": [
    "grader.check(\"q1_10\")"
   ]
  },
  {
   "cell_type": "markdown",
   "id": "d78c794a",
   "metadata": {},
   "source": [
    "In the `tswift` DataFrame, the `'Mode'` of a song is 1 if the song is written in a major key or 0 if it's written in a minor key. Generally, songs in a major key (e.g. G major) sound more upbeat, bright, and fun, while songs in a minor key (e.g. D minor) sound more dark, sad, or serious.\n",
    "\n",
    "For example, the song `'Shake It Off'`, from the album `'1989'`, has a `'Mode'` of 1 because it was written in G major. Run the cell below and press play to hear a snippet of it right here in your notebook."
   ]
  },
  {
   "cell_type": "code",
   "execution_count": 36,
   "id": "076e60a1",
   "metadata": {},
   "outputs": [
    {
     "data": {
      "text/html": [
       "\n",
       "        <iframe\n",
       "            width=\"400\"\n",
       "            height=\"75\"\n",
       "            src=\"https://open.spotify.com/embed/track/3fthfkkvy9av3q3uAGVf7U\"\n",
       "            frameborder=\"0\"\n",
       "            allowfullscreen\n",
       "        ></iframe>\n",
       "        "
      ],
      "text/plain": [
       "<IPython.lib.display.IFrame at 0x7f6f62c3fee0>"
      ]
     },
     "metadata": {},
     "output_type": "display_data"
    }
   ],
   "source": [
    "play_spotify('3fthfkkvy9av3q3uAGVf7U')"
   ]
  },
  {
   "cell_type": "markdown",
   "id": "2a04360c",
   "metadata": {},
   "source": [
    "On the other hand, the song `'Look What You Made Me Do'`, from the album `'Reputation'`, has a `'Mode'` of 0 because it was written in A minor. Again, run the cell below and press play to hear a snippet of it."
   ]
  },
  {
   "cell_type": "code",
   "execution_count": 37,
   "id": "f85a7342",
   "metadata": {},
   "outputs": [
    {
     "data": {
      "text/html": [
       "\n",
       "        <iframe\n",
       "            width=\"400\"\n",
       "            height=\"75\"\n",
       "            src=\"https://open.spotify.com/embed/track/1P17dC1amhFzptugyAO7Il\"\n",
       "            frameborder=\"0\"\n",
       "            allowfullscreen\n",
       "        ></iframe>\n",
       "        "
      ],
      "text/plain": [
       "<IPython.lib.display.IFrame at 0x7f6f62c3ff70>"
      ]
     },
     "metadata": {},
     "output_type": "display_data"
    }
   ],
   "source": [
    "play_spotify('1P17dC1amhFzptugyAO7Il')"
   ]
  },
  {
   "cell_type": "markdown",
   "id": "259f8f37",
   "metadata": {},
   "source": [
    "**Question 1.11.** ⭐⭐ Create a plot that shows the number of songs in a minor key on each album, but **only among albums with at least two songs in a minor key**. Make sure your plot has a title and a legend that accurately describe what is being shown."
   ]
  },
  {
   "cell_type": "markdown",
   "id": "af317e76",
   "metadata": {
    "deletable": false,
    "editable": false
   },
   "source": [
    "<!-- BEGIN QUESTION -->\n",
    "\n",
    "<!--\n",
    "BEGIN QUESTION\n",
    "name: q1_11\n",
    "points: 2\n",
    "manual: true\n",
    "-->"
   ]
  },
  {
   "cell_type": "code",
   "execution_count": 38,
   "id": "6c403340",
   "metadata": {},
   "outputs": [
    {
     "data": {
      "image/png": "[encoded data removed]",
      "text/plain": [
       "<Figure size 720x360 with 1 Axes>"
      ]
     },
     "metadata": {},
     "output_type": "display_data"
    }
   ],
   "source": [
    "# Create your plot here.\n",
    "q1_11=tswift[tswift.get(\"Mode\")==0].groupby(\"Album\").count()\n",
    "q1_11=q1_11[q1_11.get(\"Mode\")>=2]\n",
    "q1_11.assign(Number_of_Songs=q1_11.get(\"Mode\")).plot(kind='barh', y='Number_of_Songs', \n",
    "                xlabel='Count', title='Number of songs in a minor key per album');"
   ]
  },
  {
   "cell_type": "markdown",
   "id": "2693b797",
   "metadata": {
    "deletable": false,
    "editable": false
   },
   "source": [
    "<!-- END QUESTION -->\n",
    "\n",
    "**Question 1.12.** Next, let's explore how certain audio features differ from one album to another. Since we only have audio features for songs, not albums, we'll calculate the values of an audio feature for an album by averaging the values of that audio feature across all songs on the album. For example, to compute the `'Energy'` of the `'Midnights'` album, we would compute the mean `'Energy'` of all songs on the `'Midnights'` album.\n",
    "\n",
    "Below, complete the implementation of the function `sort_albums_by`, which takes in the column name of an audio feature (e.g. `'Energy'`) and returns an array of the names of all ten Taylor Swift albums, with the albums sorted in descending order of the given feature. For example, `sort_albums_by('Energy')` would return an array whose first element is the name of the album with the highest mean `'Energy'` across all its songs.\n",
    "\n",
    "<!--\n",
    "BEGIN QUESTION\n",
    "name: q1_12\n",
    "points: 1\n",
    "-->"
   ]
  },
  {
   "cell_type": "code",
   "execution_count": 39,
   "id": "1189d6fa",
   "metadata": {
    "scrolled": true
   },
   "outputs": [],
   "source": [
    "def sort_albums_by(feature):\n",
    "    return np.array(tswift.groupby(\"Album\").mean().sort_values(feature,ascending=False).index)"
   ]
  },
  {
   "cell_type": "code",
   "execution_count": 40,
   "id": "1a959954",
   "metadata": {
    "deletable": false,
    "editable": false
   },
   "outputs": [
    {
     "data": {
      "text/html": [
       "<p><strong><pre style='display: inline;'>q1_12</pre></strong> passed!</p>"
      ],
      "text/plain": [
       "q1_12 results: All test cases passed!"
      ]
     },
     "execution_count": 40,
     "metadata": {},
     "output_type": "execute_result"
    }
   ],
   "source": [
    "grader.check(\"q1_12\")"
   ]
  },
  {
   "cell_type": "markdown",
   "id": "483df884",
   "metadata": {},
   "source": [
    "Now, run the cell below to see how the albums rank for each audio feature."
   ]
  },
  {
   "cell_type": "code",
   "execution_count": 41,
   "id": "2a30c958",
   "metadata": {
    "scrolled": false
   },
   "outputs": [
    {
     "data": {
      "text/markdown": [
       "Taylor Swift albums, in descending order of `'Popularity'`:"
      ],
      "text/plain": [
       "<IPython.core.display.Markdown object>"
      ]
     },
     "metadata": {},
     "output_type": "display_data"
    },
    {
     "data": {
      "text/markdown": [
       "- Reputation, Lover, Speak Now, Midnights, folklore, Red, evermore, Fearless, 1989, Taylor Swift"
      ],
      "text/plain": [
       "<IPython.core.display.Markdown object>"
      ]
     },
     "metadata": {},
     "output_type": "display_data"
    },
    {
     "data": {
      "text/markdown": [
       "Taylor Swift albums, in descending order of `'Explicit'`:"
      ],
      "text/plain": [
       "<IPython.core.display.Markdown object>"
      ]
     },
     "metadata": {},
     "output_type": "display_data"
    },
    {
     "data": {
      "text/markdown": [
       "- evermore, Midnights, folklore, Red, 1989, Fearless, Lover, Reputation, Speak Now, Taylor Swift"
      ],
      "text/plain": [
       "<IPython.core.display.Markdown object>"
      ]
     },
     "metadata": {},
     "output_type": "display_data"
    },
    {
     "data": {
      "text/markdown": [
       "Taylor Swift albums, in descending order of `'Danceability'`:"
      ],
      "text/plain": [
       "<IPython.core.display.Markdown object>"
      ]
     },
     "metadata": {},
     "output_type": "display_data"
    },
    {
     "data": {
      "text/markdown": [
       "- Lover, Reputation, 1989, Midnights, Red, folklore, Taylor Swift, Speak Now, Fearless, evermore"
      ],
      "text/plain": [
       "<IPython.core.display.Markdown object>"
      ]
     },
     "metadata": {},
     "output_type": "display_data"
    },
    {
     "data": {
      "text/markdown": [
       "Taylor Swift albums, in descending order of `'Energy'`:"
      ],
      "text/plain": [
       "<IPython.core.display.Markdown object>"
      ]
     },
     "metadata": {},
     "output_type": "display_data"
    },
    {
     "data": {
      "text/markdown": [
       "- 1989, Taylor Swift, Speak Now, Fearless, Red, Reputation, Lover, evermore, Midnights, folklore"
      ],
      "text/plain": [
       "<IPython.core.display.Markdown object>"
      ]
     },
     "metadata": {},
     "output_type": "display_data"
    },
    {
     "data": {
      "text/markdown": [
       "Taylor Swift albums, in descending order of `'Loudness'`:"
      ],
      "text/plain": [
       "<IPython.core.display.Markdown object>"
      ]
     },
     "metadata": {},
     "output_type": "display_data"
    },
    {
     "data": {
      "text/markdown": [
       "- Speak Now, Taylor Swift, Fearless, 1989, Red, Reputation, Lover, evermore, folklore, Midnights"
      ],
      "text/plain": [
       "<IPython.core.display.Markdown object>"
      ]
     },
     "metadata": {},
     "output_type": "display_data"
    },
    {
     "data": {
      "text/markdown": [
       "Taylor Swift albums, in descending order of `'Speechiness'`:"
      ],
      "text/plain": [
       "<IPython.core.display.Markdown object>"
      ]
     },
     "metadata": {},
     "output_type": "display_data"
    },
    {
     "data": {
      "text/markdown": [
       "- Lover, Midnights, Reputation, 1989, evermore, Red, folklore, Speak Now, Fearless, Taylor Swift"
      ],
      "text/plain": [
       "<IPython.core.display.Markdown object>"
      ]
     },
     "metadata": {},
     "output_type": "display_data"
    },
    {
     "data": {
      "text/markdown": [
       "Taylor Swift albums, in descending order of `'Acousticness'`:"
      ],
      "text/plain": [
       "<IPython.core.display.Markdown object>"
      ]
     },
     "metadata": {},
     "output_type": "display_data"
    },
    {
     "data": {
      "text/markdown": [
       "- evermore, folklore, Midnights, Lover, Taylor Swift, Fearless, Speak Now, Red, 1989, Reputation"
      ],
      "text/plain": [
       "<IPython.core.display.Markdown object>"
      ]
     },
     "metadata": {},
     "output_type": "display_data"
    },
    {
     "data": {
      "text/markdown": [
       "Taylor Swift albums, in descending order of `'Instrumentalness'`:"
      ],
      "text/plain": [
       "<IPython.core.display.Markdown object>"
      ]
     },
     "metadata": {},
     "output_type": "display_data"
    },
    {
     "data": {
      "text/markdown": [
       "- Midnights, evermore, 1989, Lover, folklore, Red, Taylor Swift, Reputation, Fearless, Speak Now"
      ],
      "text/plain": [
       "<IPython.core.display.Markdown object>"
      ]
     },
     "metadata": {},
     "output_type": "display_data"
    },
    {
     "data": {
      "text/markdown": [
       "Taylor Swift albums, in descending order of `'Liveness'`:"
      ],
      "text/plain": [
       "<IPython.core.display.Markdown object>"
      ]
     },
     "metadata": {},
     "output_type": "display_data"
    },
    {
     "data": {
      "text/markdown": [
       "- Taylor Swift, Fearless, 1989, Reputation, Midnights, Speak Now, Red, Lover, evermore, folklore"
      ],
      "text/plain": [
       "<IPython.core.display.Markdown object>"
      ]
     },
     "metadata": {},
     "output_type": "display_data"
    },
    {
     "data": {
      "text/markdown": [
       "Taylor Swift albums, in descending order of `'Valence'`:"
      ],
      "text/plain": [
       "<IPython.core.display.Markdown object>"
      ]
     },
     "metadata": {},
     "output_type": "display_data"
    },
    {
     "data": {
      "text/markdown": [
       "- Lover, 1989, Red, evermore, Fearless, Taylor Swift, Speak Now, folklore, Reputation, Midnights"
      ],
      "text/plain": [
       "<IPython.core.display.Markdown object>"
      ]
     },
     "metadata": {},
     "output_type": "display_data"
    },
    {
     "data": {
      "text/markdown": [
       "Taylor Swift albums, in descending order of `'Duration_ms'`:"
      ],
      "text/plain": [
       "<IPython.core.display.Markdown object>"
      ]
     },
     "metadata": {},
     "output_type": "display_data"
    },
    {
     "data": {
      "text/markdown": [
       "- Speak Now, Red, Fearless, evermore, folklore, 1989, Reputation, Taylor Swift, Midnights, Lover"
      ],
      "text/plain": [
       "<IPython.core.display.Markdown object>"
      ]
     },
     "metadata": {},
     "output_type": "display_data"
    },
    {
     "data": {
      "text/markdown": [
       "Taylor Swift albums, in descending order of `'Tempo'`:"
      ],
      "text/plain": [
       "<IPython.core.display.Markdown object>"
      ]
     },
     "metadata": {},
     "output_type": "display_data"
    },
    {
     "data": {
      "text/markdown": [
       "- Fearless, 1989, Speak Now, Reputation, Taylor Swift, evermore, Lover, folklore, Red, Midnights"
      ],
      "text/plain": [
       "<IPython.core.display.Markdown object>"
      ]
     },
     "metadata": {},
     "output_type": "display_data"
    }
   ],
   "source": [
    "features = ['Popularity', 'Explicit', 'Danceability', 'Energy', 'Loudness',\n",
    "            'Speechiness', 'Acousticness', 'Instrumentalness', 'Liveness',\n",
    "            'Valence', 'Duration_ms', 'Tempo']\n",
    "\n",
    "for feature in features:\n",
    "    # These lines display the output nicely. You don't need to understand how they work.\n",
    "    display(Markdown(f\"Taylor Swift albums, in descending order of `'{feature}'`:\"))\n",
    "    display(Markdown(\"- \" + \", \".join(sort_albums_by(feature))))"
   ]
  },
  {
   "cell_type": "markdown",
   "id": "b760ca20",
   "metadata": {},
   "source": [
    "**Question 1.13.** Let's look closely at one result from above, duplicated below. Recall that `'Explicit'` is a Boolean variable that determines whether the song includes explicit words. 🤬"
   ]
  },
  {
   "cell_type": "code",
   "execution_count": 42,
   "id": "541478e2",
   "metadata": {},
   "outputs": [
    {
     "data": {
      "text/markdown": [
       "Taylor Swift albums, in descending order of `'Explicit'`:"
      ],
      "text/plain": [
       "<IPython.core.display.Markdown object>"
      ]
     },
     "metadata": {},
     "output_type": "display_data"
    },
    {
     "data": {
      "text/markdown": [
       "- evermore, Midnights, folklore, Red, 1989, Fearless, Lover, Reputation, Speak Now, Taylor Swift"
      ],
      "text/plain": [
       "<IPython.core.display.Markdown object>"
      ]
     },
     "metadata": {},
     "output_type": "display_data"
    }
   ],
   "source": [
    "display(Markdown(f\"Taylor Swift albums, in descending order of `'Explicit'`:\"))\n",
    "display(Markdown(\"- \" + \", \".join(sort_albums_by('Explicit'))))"
   ]
  },
  {
   "cell_type": "markdown",
   "id": "09095c8f",
   "metadata": {
    "deletable": false,
    "editable": false
   },
   "source": [
    "What can you conclude based only on the information displayed by the cell above? Assign a list with the numbers of all the true statements to the variable `q1_13`.\n",
    "\n",
    "1. There are more explicit words in `'evermore'` than in `'Midnights'`. \n",
    "2. A higher fraction of songs on `'evermore'` use explicit words than on `'Midnights'`.\n",
    "3. There are more songs that use explicit words in `'evermore'` than on `'Midnights'`.\n",
    "4. If you randomly select a song from `'evermore'`, the probability it contains explicit words exceeds the probability that a randomly selected song from `'Midnights'` contains explicit words. \n",
    "\n",
    "<!--\n",
    "BEGIN QUESTION\n",
    "name: q1_13\n",
    "points: 1\n",
    "-->"
   ]
  },
  {
   "cell_type": "code",
   "execution_count": 43,
   "id": "d9a9e39e",
   "metadata": {},
   "outputs": [],
   "source": [
    "q1_13 = [2,4]"
   ]
  },
  {
   "cell_type": "code",
   "execution_count": 44,
   "id": "9f9f5029",
   "metadata": {
    "deletable": false,
    "editable": false
   },
   "outputs": [
    {
     "data": {
      "text/html": [
       "<p><strong><pre style='display: inline;'>q1_13</pre></strong> passed!</p>"
      ],
      "text/plain": [
       "q1_13 results: All test cases passed!"
      ]
     },
     "execution_count": 44,
     "metadata": {},
     "output_type": "execute_result"
    }
   ],
   "source": [
    "grader.check(\"q1_13\")"
   ]
  },
  {
   "cell_type": "markdown",
   "id": "e0f8fecd",
   "metadata": {},
   "source": [
    "**Question 1.14.** ⭐⭐ While Taylor Swift is primarily a solo artist, she has collaborated with other artists on a number of songs. For example, she featured Lana Del Rey in the song `'Snow On The Beach (Ft. Lana Del Rey)'` and HAIM in `'no body, no crime (Ft. HAIM)'`. All the collaborative songs in `tswift` are indicated by `'Ft.'` in the name of the song, just like in these examples.\n",
    "\n",
    "Create an overlaid vertical bar chart that allows you to compare the average values of `'Explicit'`, `'Danceability'` and `'Acousticness'` for collaborative songs versus solo songs. Make sure your plot has a title and a legend that accurately describes what is being shown."
   ]
  },
  {
   "cell_type": "code",
   "execution_count": 45,
   "id": "98d63673",
   "metadata": {},
   "outputs": [],
   "source": [
    "song_boolean=np.array([])\n",
    "for song in np.array(tswift.get(\"Song Name\")):\n",
    "    if \"Ft.\" in song:\n",
    "        song_boolean=np.append(song_boolean,\"Collaborative\")\n",
    "    else:\n",
    "        song_boolean=np.append(song_boolean,\"Solo\")"
   ]
  },
  {
   "cell_type": "code",
   "execution_count": 46,
   "id": "78e6e982",
   "metadata": {},
   "outputs": [
    {
     "data": {
      "text/plain": [
       "<AxesSubplot:title={'center':'Average Explicit amount, Danceability, and Acousticness in Solo vs Collaborative songs'}, ylabel='ft_boolean'>"
      ]
     },
     "execution_count": 46,
     "metadata": {},
     "output_type": "execute_result"
    },
    {
     "data": {
      "image/png": "[encoded data removed]",
      "text/plain": [
       "<Figure size 720x360 with 1 Axes>"
      ]
     },
     "metadata": {},
     "output_type": "display_data"
    }
   ],
   "source": [
    "# Create your plot here.\n",
    "tswift.assign(ft_boolean=song_boolean).groupby(\"ft_boolean\").mean().get(['Explicit', 'Danceability', 'Acousticness']).plot(kind=\"barh\",title=\"Average Explicit amount, Danceability, and Acousticness in Solo vs Collaborative songs\")"
   ]
  },
  {
   "cell_type": "markdown",
   "id": "3a144a3a",
   "metadata": {
    "deletable": false,
    "editable": false
   },
   "source": [
    "Do collaborative songs have higher values of `'Explicit'`, `'Danceability'`, and `'Acousticness'` than solo songs, on average? Assign a list with the numbers of all the true statements to the variable `q1_14`.\n",
    "\n",
    "1. Collaborative songs have a higher value of `'Explicit'` than solo songs, on average.\n",
    "1. Collaborative songs have a higher value of `'Danceability'` than solo songs, on average.\n",
    "1. Collaborative songs have a higher value of `'Acousticness'` than solo songs, on average.\n",
    "\n",
    "<!--\n",
    "BEGIN QUESTION\n",
    "name: q1_14\n",
    "points: 2\n",
    "-->"
   ]
  },
  {
   "cell_type": "code",
   "execution_count": 47,
   "id": "a775c279",
   "metadata": {},
   "outputs": [],
   "source": [
    "q1_14 = [1,3]"
   ]
  },
  {
   "cell_type": "code",
   "execution_count": 48,
   "id": "31bf2f6b",
   "metadata": {
    "deletable": false,
    "editable": false
   },
   "outputs": [
    {
     "data": {
      "text/html": [
       "<p><strong><pre style='display: inline;'>q1_14</pre></strong> passed!</p>"
      ],
      "text/plain": [
       "q1_14 results: All test cases passed!"
      ]
     },
     "execution_count": 48,
     "metadata": {},
     "output_type": "execute_result"
    }
   ],
   "source": [
    "grader.check(\"q1_14\")"
   ]
  },
  {
   "cell_type": "markdown",
   "id": "145d27af",
   "metadata": {},
   "source": [
    "<a id='section2'></a>\n",
    "## Section 2: Song Recommender 🎧\n",
    "\n",
    "> Your favorite song was playing from the far side of the gym.\n",
    "\n",
    "<small>(<a href=\"#outline\">return to the outline</a>)</small>"
   ]
  },
  {
   "cell_type": "markdown",
   "id": "ebcc1736",
   "metadata": {},
   "source": [
    "In this section, we'll create a Taylor Swift song recommender tool. The tool will allow you to input a song you like, selected from a collection of popular songs  on Spotify, and it will recommend to you the songs in Taylor Swift's body of work that are most similar to your input song.\n",
    "\n",
    "We are already familiar with the `tswift` DataFrame; this contains the Taylor Swift songs from which we will make our recommendations.  \n",
    "\n",
    "We will also use a separate dataset of allowed input songs. For this, we have a collection of popular songs with more than one billion streams on Spotify. Let's load in this data and store it in the DataFrame `billions_club`. `billions_club` contains all the same columns as `tswift`, except that it doesn't have a `'Year'` column, and it has an additional column named `'Artist'`, because it includes songs by a variety of artists."
   ]
  },
  {
   "cell_type": "code",
   "execution_count": 49,
   "id": "510ea4b1",
   "metadata": {
    "scrolled": false
   },
   "outputs": [
    {
     "data": {
      "text/html": [
       "<div>\n",
       "<style scoped>\n",
       "    .dataframe tbody tr th:only-of-type {\n",
       "        vertical-align: middle;\n",
       "    }\n",
       "\n",
       "    .dataframe tbody tr th {\n",
       "        vertical-align: top;\n",
       "    }\n",
       "\n",
       "    .dataframe thead th {\n",
       "        text-align: right;\n",
       "    }\n",
       "</style>\n",
       "<table border=\"1\" class=\"dataframe\">\n",
       "  <thead>\n",
       "    <tr style=\"text-align: right;\">\n",
       "      <th></th>\n",
       "      <th>Album</th>\n",
       "      <th>Song Name</th>\n",
       "      <th>Artist</th>\n",
       "      <th>Disc Number</th>\n",
       "      <th>Track Number</th>\n",
       "      <th>Popularity</th>\n",
       "      <th>Explicit</th>\n",
       "      <th>Danceability</th>\n",
       "      <th>Energy</th>\n",
       "      <th>Key</th>\n",
       "      <th>Loudness</th>\n",
       "      <th>Mode</th>\n",
       "      <th>Speechiness</th>\n",
       "      <th>Acousticness</th>\n",
       "      <th>Instrumentalness</th>\n",
       "      <th>Liveness</th>\n",
       "      <th>Valence</th>\n",
       "      <th>Tempo</th>\n",
       "      <th>Duration_ms</th>\n",
       "      <th>Time Signature</th>\n",
       "    </tr>\n",
       "    <tr>\n",
       "      <th>URI</th>\n",
       "      <th></th>\n",
       "      <th></th>\n",
       "      <th></th>\n",
       "      <th></th>\n",
       "      <th></th>\n",
       "      <th></th>\n",
       "      <th></th>\n",
       "      <th></th>\n",
       "      <th></th>\n",
       "      <th></th>\n",
       "      <th></th>\n",
       "      <th></th>\n",
       "      <th></th>\n",
       "      <th></th>\n",
       "      <th></th>\n",
       "      <th></th>\n",
       "      <th></th>\n",
       "      <th></th>\n",
       "      <th></th>\n",
       "      <th></th>\n",
       "    </tr>\n",
       "  </thead>\n",
       "  <tbody>\n",
       "    <tr>\n",
       "      <th>1dGr1c8CrMLDpV6mPbImSI</th>\n",
       "      <td>Lover</td>\n",
       "      <td>Lover</td>\n",
       "      <td>Taylor Swift</td>\n",
       "      <td>1</td>\n",
       "      <td>3</td>\n",
       "      <td>91</td>\n",
       "      <td>False</td>\n",
       "      <td>0.359</td>\n",
       "      <td>0.543</td>\n",
       "      <td>7</td>\n",
       "      <td>-7.582</td>\n",
       "      <td>1</td>\n",
       "      <td>0.0919</td>\n",
       "      <td>0.492000</td>\n",
       "      <td>0.000016</td>\n",
       "      <td>0.1180</td>\n",
       "      <td>0.453</td>\n",
       "      <td>68.534</td>\n",
       "      <td>221307</td>\n",
       "      <td>4</td>\n",
       "    </tr>\n",
       "    <tr>\n",
       "      <th>2QfznFotJNZmnIEYFdzE5T</th>\n",
       "      <td>Heartbreak Anniversary</td>\n",
       "      <td>Heartbreak Anniversary</td>\n",
       "      <td>Giveon</td>\n",
       "      <td>1</td>\n",
       "      <td>1</td>\n",
       "      <td>73</td>\n",
       "      <td>False</td>\n",
       "      <td>0.624</td>\n",
       "      <td>0.457</td>\n",
       "      <td>0</td>\n",
       "      <td>-8.876</td>\n",
       "      <td>1</td>\n",
       "      <td>0.0494</td>\n",
       "      <td>0.557000</td>\n",
       "      <td>0.000000</td>\n",
       "      <td>0.1280</td>\n",
       "      <td>0.586</td>\n",
       "      <td>129.758</td>\n",
       "      <td>196795</td>\n",
       "      <td>4</td>\n",
       "    </tr>\n",
       "    <tr>\n",
       "      <th>5XeFesFbtLpXzIVDNQP22n</th>\n",
       "      <td>AM</td>\n",
       "      <td>I Wanna Be Yours</td>\n",
       "      <td>Arctic Monkeys</td>\n",
       "      <td>1</td>\n",
       "      <td>12</td>\n",
       "      <td>95</td>\n",
       "      <td>False</td>\n",
       "      <td>0.464</td>\n",
       "      <td>0.417</td>\n",
       "      <td>0</td>\n",
       "      <td>-9.345</td>\n",
       "      <td>0</td>\n",
       "      <td>0.0256</td>\n",
       "      <td>0.136000</td>\n",
       "      <td>0.022000</td>\n",
       "      <td>0.0974</td>\n",
       "      <td>0.479</td>\n",
       "      <td>67.528</td>\n",
       "      <td>183956</td>\n",
       "      <td>4</td>\n",
       "    </tr>\n",
       "    <tr>\n",
       "      <th>2dHHgzDwk4BJdRwy9uXhTO</th>\n",
       "      <td>HEROES &amp; VILLAINS</td>\n",
       "      <td>Creepin' (with The Weeknd &amp; 21 Savage)</td>\n",
       "      <td>Metro Boomin; The Weeknd; 21 Savage</td>\n",
       "      <td>1</td>\n",
       "      <td>10</td>\n",
       "      <td>92</td>\n",
       "      <td>True</td>\n",
       "      <td>0.715</td>\n",
       "      <td>0.620</td>\n",
       "      <td>1</td>\n",
       "      <td>-6.005</td>\n",
       "      <td>0</td>\n",
       "      <td>0.0484</td>\n",
       "      <td>0.417000</td>\n",
       "      <td>0.000000</td>\n",
       "      <td>0.0822</td>\n",
       "      <td>0.172</td>\n",
       "      <td>97.950</td>\n",
       "      <td>221520</td>\n",
       "      <td>4</td>\n",
       "    </tr>\n",
       "    <tr>\n",
       "      <th>5W8YXBz9MTIDyrpYaCg2Ky</th>\n",
       "      <td>Infest</td>\n",
       "      <td>Last Resort</td>\n",
       "      <td>Papa Roach</td>\n",
       "      <td>1</td>\n",
       "      <td>2</td>\n",
       "      <td>83</td>\n",
       "      <td>True</td>\n",
       "      <td>0.589</td>\n",
       "      <td>0.890</td>\n",
       "      <td>4</td>\n",
       "      <td>-3.719</td>\n",
       "      <td>0</td>\n",
       "      <td>0.0603</td>\n",
       "      <td>0.000481</td>\n",
       "      <td>0.000820</td>\n",
       "      <td>0.2010</td>\n",
       "      <td>0.692</td>\n",
       "      <td>90.598</td>\n",
       "      <td>199907</td>\n",
       "      <td>4</td>\n",
       "    </tr>\n",
       "    <tr>\n",
       "      <th>...</th>\n",
       "      <td>...</td>\n",
       "      <td>...</td>\n",
       "      <td>...</td>\n",
       "      <td>...</td>\n",
       "      <td>...</td>\n",
       "      <td>...</td>\n",
       "      <td>...</td>\n",
       "      <td>...</td>\n",
       "      <td>...</td>\n",
       "      <td>...</td>\n",
       "      <td>...</td>\n",
       "      <td>...</td>\n",
       "      <td>...</td>\n",
       "      <td>...</td>\n",
       "      <td>...</td>\n",
       "      <td>...</td>\n",
       "      <td>...</td>\n",
       "      <td>...</td>\n",
       "      <td>...</td>\n",
       "      <td>...</td>\n",
       "    </tr>\n",
       "    <tr>\n",
       "      <th>3s4U7OHV7gnj42VV72eSZ6</th>\n",
       "      <td>Rather Be (feat. Jess Glynne)</td>\n",
       "      <td>Rather Be (feat. Jess Glynne)</td>\n",
       "      <td>Clean Bandit; Jess Glynne</td>\n",
       "      <td>1</td>\n",
       "      <td>1</td>\n",
       "      <td>75</td>\n",
       "      <td>False</td>\n",
       "      <td>0.799</td>\n",
       "      <td>0.586</td>\n",
       "      <td>11</td>\n",
       "      <td>-6.735</td>\n",
       "      <td>1</td>\n",
       "      <td>0.0377</td>\n",
       "      <td>0.162000</td>\n",
       "      <td>0.000002</td>\n",
       "      <td>0.1930</td>\n",
       "      <td>0.549</td>\n",
       "      <td>120.970</td>\n",
       "      <td>227833</td>\n",
       "      <td>4</td>\n",
       "    </tr>\n",
       "    <tr>\n",
       "      <th>6zeeWid2sgw4lap2jV61PZ</th>\n",
       "      <td>Suncity</td>\n",
       "      <td>Better</td>\n",
       "      <td>Khalid</td>\n",
       "      <td>1</td>\n",
       "      <td>6</td>\n",
       "      <td>75</td>\n",
       "      <td>False</td>\n",
       "      <td>0.596</td>\n",
       "      <td>0.552</td>\n",
       "      <td>0</td>\n",
       "      <td>-10.278</td>\n",
       "      <td>0</td>\n",
       "      <td>0.0970</td>\n",
       "      <td>0.076500</td>\n",
       "      <td>0.334000</td>\n",
       "      <td>0.1040</td>\n",
       "      <td>0.112</td>\n",
       "      <td>97.949</td>\n",
       "      <td>229320</td>\n",
       "      <td>4</td>\n",
       "    </tr>\n",
       "    <tr>\n",
       "      <th>2yPoXCs7BSIUrucMdK5PzV</th>\n",
       "      <td>Good Girl Gone Bad</td>\n",
       "      <td>Umbrella</td>\n",
       "      <td>Rihanna; JAY-Z</td>\n",
       "      <td>1</td>\n",
       "      <td>1</td>\n",
       "      <td>74</td>\n",
       "      <td>False</td>\n",
       "      <td>0.583</td>\n",
       "      <td>0.829</td>\n",
       "      <td>1</td>\n",
       "      <td>-4.603</td>\n",
       "      <td>1</td>\n",
       "      <td>0.1340</td>\n",
       "      <td>0.008640</td>\n",
       "      <td>0.000000</td>\n",
       "      <td>0.0426</td>\n",
       "      <td>0.575</td>\n",
       "      <td>174.028</td>\n",
       "      <td>275987</td>\n",
       "      <td>4</td>\n",
       "    </tr>\n",
       "    <tr>\n",
       "      <th>5CLGzJsGqhCEECcpnFQA8x</th>\n",
       "      <td>These Days (feat. Jess Glynne, Macklemore &amp; Da...</td>\n",
       "      <td>These Days (feat. Jess Glynne, Macklemore &amp; Da...</td>\n",
       "      <td>Rudimental; Jess Glynne; Macklemore; Dan Caplen</td>\n",
       "      <td>1</td>\n",
       "      <td>1</td>\n",
       "      <td>74</td>\n",
       "      <td>False</td>\n",
       "      <td>0.653</td>\n",
       "      <td>0.809</td>\n",
       "      <td>0</td>\n",
       "      <td>-4.057</td>\n",
       "      <td>1</td>\n",
       "      <td>0.0474</td>\n",
       "      <td>0.194000</td>\n",
       "      <td>0.000000</td>\n",
       "      <td>0.1650</td>\n",
       "      <td>0.550</td>\n",
       "      <td>92.213</td>\n",
       "      <td>210773</td>\n",
       "      <td>4</td>\n",
       "    </tr>\n",
       "    <tr>\n",
       "      <th>11IzgLRXV7Cgek3tEgGgjw</th>\n",
       "      <td>Hot Space (Deluxe Remastered Version)</td>\n",
       "      <td>Under Pressure - Remastered 2011</td>\n",
       "      <td>Queen; David Bowie</td>\n",
       "      <td>1</td>\n",
       "      <td>11</td>\n",
       "      <td>74</td>\n",
       "      <td>False</td>\n",
       "      <td>0.671</td>\n",
       "      <td>0.711</td>\n",
       "      <td>2</td>\n",
       "      <td>-7.813</td>\n",
       "      <td>1</td>\n",
       "      <td>0.0478</td>\n",
       "      <td>0.422000</td>\n",
       "      <td>0.000000</td>\n",
       "      <td>0.1040</td>\n",
       "      <td>0.466</td>\n",
       "      <td>113.809</td>\n",
       "      <td>248440</td>\n",
       "      <td>4</td>\n",
       "    </tr>\n",
       "  </tbody>\n",
       "</table>\n",
       "<p>400 rows × 20 columns</p>\n",
       "</div>"
      ],
      "text/plain": [
       "                                                                    Album  \\\n",
       "URI                                                                         \n",
       "1dGr1c8CrMLDpV6mPbImSI                                              Lover   \n",
       "2QfznFotJNZmnIEYFdzE5T                             Heartbreak Anniversary   \n",
       "5XeFesFbtLpXzIVDNQP22n                                                 AM   \n",
       "2dHHgzDwk4BJdRwy9uXhTO                                  HEROES & VILLAINS   \n",
       "5W8YXBz9MTIDyrpYaCg2Ky                                             Infest   \n",
       "...                                                                   ...   \n",
       "3s4U7OHV7gnj42VV72eSZ6                      Rather Be (feat. Jess Glynne)   \n",
       "6zeeWid2sgw4lap2jV61PZ                                            Suncity   \n",
       "2yPoXCs7BSIUrucMdK5PzV                                 Good Girl Gone Bad   \n",
       "5CLGzJsGqhCEECcpnFQA8x  These Days (feat. Jess Glynne, Macklemore & Da...   \n",
       "11IzgLRXV7Cgek3tEgGgjw              Hot Space (Deluxe Remastered Version)   \n",
       "\n",
       "                                                                Song Name  \\\n",
       "URI                                                                         \n",
       "1dGr1c8CrMLDpV6mPbImSI                                              Lover   \n",
       "2QfznFotJNZmnIEYFdzE5T                             Heartbreak Anniversary   \n",
       "5XeFesFbtLpXzIVDNQP22n                                   I Wanna Be Yours   \n",
       "2dHHgzDwk4BJdRwy9uXhTO             Creepin' (with The Weeknd & 21 Savage)   \n",
       "5W8YXBz9MTIDyrpYaCg2Ky                                        Last Resort   \n",
       "...                                                                   ...   \n",
       "3s4U7OHV7gnj42VV72eSZ6                      Rather Be (feat. Jess Glynne)   \n",
       "6zeeWid2sgw4lap2jV61PZ                                             Better   \n",
       "2yPoXCs7BSIUrucMdK5PzV                                           Umbrella   \n",
       "5CLGzJsGqhCEECcpnFQA8x  These Days (feat. Jess Glynne, Macklemore & Da...   \n",
       "11IzgLRXV7Cgek3tEgGgjw                   Under Pressure - Remastered 2011   \n",
       "\n",
       "                                                                 Artist  \\\n",
       "URI                                                                       \n",
       "1dGr1c8CrMLDpV6mPbImSI                                     Taylor Swift   \n",
       "2QfznFotJNZmnIEYFdzE5T                                           Giveon   \n",
       "5XeFesFbtLpXzIVDNQP22n                                   Arctic Monkeys   \n",
       "2dHHgzDwk4BJdRwy9uXhTO              Metro Boomin; The Weeknd; 21 Savage   \n",
       "5W8YXBz9MTIDyrpYaCg2Ky                                       Papa Roach   \n",
       "...                                                                 ...   \n",
       "3s4U7OHV7gnj42VV72eSZ6                        Clean Bandit; Jess Glynne   \n",
       "6zeeWid2sgw4lap2jV61PZ                                           Khalid   \n",
       "2yPoXCs7BSIUrucMdK5PzV                                   Rihanna; JAY-Z   \n",
       "5CLGzJsGqhCEECcpnFQA8x  Rudimental; Jess Glynne; Macklemore; Dan Caplen   \n",
       "11IzgLRXV7Cgek3tEgGgjw                               Queen; David Bowie   \n",
       "\n",
       "                        Disc Number  Track Number  Popularity  Explicit  \\\n",
       "URI                                                                       \n",
       "1dGr1c8CrMLDpV6mPbImSI            1             3          91     False   \n",
       "2QfznFotJNZmnIEYFdzE5T            1             1          73     False   \n",
       "5XeFesFbtLpXzIVDNQP22n            1            12          95     False   \n",
       "2dHHgzDwk4BJdRwy9uXhTO            1            10          92      True   \n",
       "5W8YXBz9MTIDyrpYaCg2Ky            1             2          83      True   \n",
       "...                             ...           ...         ...       ...   \n",
       "3s4U7OHV7gnj42VV72eSZ6            1             1          75     False   \n",
       "6zeeWid2sgw4lap2jV61PZ            1             6          75     False   \n",
       "2yPoXCs7BSIUrucMdK5PzV            1             1          74     False   \n",
       "5CLGzJsGqhCEECcpnFQA8x            1             1          74     False   \n",
       "11IzgLRXV7Cgek3tEgGgjw            1            11          74     False   \n",
       "\n",
       "                        Danceability  Energy  Key  Loudness  Mode  \\\n",
       "URI                                                                 \n",
       "1dGr1c8CrMLDpV6mPbImSI         0.359   0.543    7    -7.582     1   \n",
       "2QfznFotJNZmnIEYFdzE5T         0.624   0.457    0    -8.876     1   \n",
       "5XeFesFbtLpXzIVDNQP22n         0.464   0.417    0    -9.345     0   \n",
       "2dHHgzDwk4BJdRwy9uXhTO         0.715   0.620    1    -6.005     0   \n",
       "5W8YXBz9MTIDyrpYaCg2Ky         0.589   0.890    4    -3.719     0   \n",
       "...                              ...     ...  ...       ...   ...   \n",
       "3s4U7OHV7gnj42VV72eSZ6         0.799   0.586   11    -6.735     1   \n",
       "6zeeWid2sgw4lap2jV61PZ         0.596   0.552    0   -10.278     0   \n",
       "2yPoXCs7BSIUrucMdK5PzV         0.583   0.829    1    -4.603     1   \n",
       "5CLGzJsGqhCEECcpnFQA8x         0.653   0.809    0    -4.057     1   \n",
       "11IzgLRXV7Cgek3tEgGgjw         0.671   0.711    2    -7.813     1   \n",
       "\n",
       "                        Speechiness  Acousticness  Instrumentalness  Liveness  \\\n",
       "URI                                                                             \n",
       "1dGr1c8CrMLDpV6mPbImSI       0.0919      0.492000          0.000016    0.1180   \n",
       "2QfznFotJNZmnIEYFdzE5T       0.0494      0.557000          0.000000    0.1280   \n",
       "5XeFesFbtLpXzIVDNQP22n       0.0256      0.136000          0.022000    0.0974   \n",
       "2dHHgzDwk4BJdRwy9uXhTO       0.0484      0.417000          0.000000    0.0822   \n",
       "5W8YXBz9MTIDyrpYaCg2Ky       0.0603      0.000481          0.000820    0.2010   \n",
       "...                             ...           ...               ...       ...   \n",
       "3s4U7OHV7gnj42VV72eSZ6       0.0377      0.162000          0.000002    0.1930   \n",
       "6zeeWid2sgw4lap2jV61PZ       0.0970      0.076500          0.334000    0.1040   \n",
       "2yPoXCs7BSIUrucMdK5PzV       0.1340      0.008640          0.000000    0.0426   \n",
       "5CLGzJsGqhCEECcpnFQA8x       0.0474      0.194000          0.000000    0.1650   \n",
       "11IzgLRXV7Cgek3tEgGgjw       0.0478      0.422000          0.000000    0.1040   \n",
       "\n",
       "                        Valence    Tempo  Duration_ms  Time Signature  \n",
       "URI                                                                    \n",
       "1dGr1c8CrMLDpV6mPbImSI    0.453   68.534       221307               4  \n",
       "2QfznFotJNZmnIEYFdzE5T    0.586  129.758       196795               4  \n",
       "5XeFesFbtLpXzIVDNQP22n    0.479   67.528       183956               4  \n",
       "2dHHgzDwk4BJdRwy9uXhTO    0.172   97.950       221520               4  \n",
       "5W8YXBz9MTIDyrpYaCg2Ky    0.692   90.598       199907               4  \n",
       "...                         ...      ...          ...             ...  \n",
       "3s4U7OHV7gnj42VV72eSZ6    0.549  120.970       227833               4  \n",
       "6zeeWid2sgw4lap2jV61PZ    0.112   97.949       229320               4  \n",
       "2yPoXCs7BSIUrucMdK5PzV    0.575  174.028       275987               4  \n",
       "5CLGzJsGqhCEECcpnFQA8x    0.550   92.213       210773               4  \n",
       "11IzgLRXV7Cgek3tEgGgjw    0.466  113.809       248440               4  \n",
       "\n",
       "[400 rows x 20 columns]"
      ]
     },
     "execution_count": 49,
     "metadata": {},
     "output_type": "execute_result"
    }
   ],
   "source": [
    "billions_club = bpd.read_csv('data/billions_club.csv').set_index('URI')\n",
    "billions_club"
   ]
  },
  {
   "cell_type": "markdown",
   "id": "56c2ca54",
   "metadata": {},
   "source": [
    "The goal in this section is to find a song in the `billions_club` DataFrame that we like and use it as an input to our recommender tool to find Taylor Swift songs with a similar sound. The problem is, in the preview of the DataFrame above, we can only see the first few rows and the last few rows of `billions_club`, so it's hard to see all of the possible songs we can choose from. Let's browse the DataFrame by randomly selecting ten rows to display. "
   ]
  },
  {
   "cell_type": "code",
   "execution_count": 50,
   "id": "bc85109d",
   "metadata": {
    "scrolled": true
   },
   "outputs": [
    {
     "data": {
      "text/html": [
       "<div>\n",
       "<style scoped>\n",
       "    .dataframe tbody tr th:only-of-type {\n",
       "        vertical-align: middle;\n",
       "    }\n",
       "\n",
       "    .dataframe tbody tr th {\n",
       "        vertical-align: top;\n",
       "    }\n",
       "\n",
       "    .dataframe thead th {\n",
       "        text-align: right;\n",
       "    }\n",
       "</style>\n",
       "<table border=\"1\" class=\"dataframe\">\n",
       "  <thead>\n",
       "    <tr style=\"text-align: right;\">\n",
       "      <th></th>\n",
       "      <th>Song Name</th>\n",
       "      <th>Artist</th>\n",
       "    </tr>\n",
       "    <tr>\n",
       "      <th>URI</th>\n",
       "      <th></th>\n",
       "      <th></th>\n",
       "    </tr>\n",
       "  </thead>\n",
       "  <tbody>\n",
       "    <tr>\n",
       "      <th>2yPoXCs7BSIUrucMdK5PzV</th>\n",
       "      <td>Umbrella</td>\n",
       "      <td>Rihanna; JAY-Z</td>\n",
       "    </tr>\n",
       "    <tr>\n",
       "      <th>2nMeu6UenVvwUktBCpLMK9</th>\n",
       "      <td>Young And Beautiful</td>\n",
       "      <td>Lana Del Rey</td>\n",
       "    </tr>\n",
       "    <tr>\n",
       "      <th>08mG3Y1vljYA6bvDt4Wqkj</th>\n",
       "      <td>Back In Black</td>\n",
       "      <td>AC/DC</td>\n",
       "    </tr>\n",
       "    <tr>\n",
       "      <th>3d9DChrdc6BOeFsbrZ3Is0</th>\n",
       "      <td>Under the Bridge</td>\n",
       "      <td>Red Hot Chili Peppers</td>\n",
       "    </tr>\n",
       "    <tr>\n",
       "      <th>0Cy7wt6IlRfBPHXXjmZbcP</th>\n",
       "      <td>Love Me Like You Do</td>\n",
       "      <td>Ellie Goulding</td>\n",
       "    </tr>\n",
       "    <tr>\n",
       "      <th>0puf9yIluy9W0vpMEUoAnN</th>\n",
       "      <td>Bang Bang</td>\n",
       "      <td>Jessie J; Ariana Grande; Nicki Minaj</td>\n",
       "    </tr>\n",
       "    <tr>\n",
       "      <th>5kqIPrATaCc2LqxVWzQGbk</th>\n",
       "      <td>7 Years</td>\n",
       "      <td>Lukas Graham</td>\n",
       "    </tr>\n",
       "    <tr>\n",
       "      <th>0FDzzruyVECATHXKHFs9eJ</th>\n",
       "      <td>A Sky Full of Stars</td>\n",
       "      <td>Coldplay</td>\n",
       "    </tr>\n",
       "    <tr>\n",
       "      <th>1yvMUkIOTeUNtNWlWRgANS</th>\n",
       "      <td>Unstoppable</td>\n",
       "      <td>Sia</td>\n",
       "    </tr>\n",
       "    <tr>\n",
       "      <th>11IzgLRXV7Cgek3tEgGgjw</th>\n",
       "      <td>Under Pressure - Remastered 2011</td>\n",
       "      <td>Queen; David Bowie</td>\n",
       "    </tr>\n",
       "  </tbody>\n",
       "</table>\n",
       "</div>"
      ],
      "text/plain": [
       "                                               Song Name  \\\n",
       "URI                                                        \n",
       "2yPoXCs7BSIUrucMdK5PzV                          Umbrella   \n",
       "2nMeu6UenVvwUktBCpLMK9               Young And Beautiful   \n",
       "08mG3Y1vljYA6bvDt4Wqkj                     Back In Black   \n",
       "3d9DChrdc6BOeFsbrZ3Is0                  Under the Bridge   \n",
       "0Cy7wt6IlRfBPHXXjmZbcP               Love Me Like You Do   \n",
       "0puf9yIluy9W0vpMEUoAnN                         Bang Bang   \n",
       "5kqIPrATaCc2LqxVWzQGbk                           7 Years   \n",
       "0FDzzruyVECATHXKHFs9eJ               A Sky Full of Stars   \n",
       "1yvMUkIOTeUNtNWlWRgANS                       Unstoppable   \n",
       "11IzgLRXV7Cgek3tEgGgjw  Under Pressure - Remastered 2011   \n",
       "\n",
       "                                                      Artist  \n",
       "URI                                                           \n",
       "2yPoXCs7BSIUrucMdK5PzV                        Rihanna; JAY-Z  \n",
       "2nMeu6UenVvwUktBCpLMK9                          Lana Del Rey  \n",
       "08mG3Y1vljYA6bvDt4Wqkj                                 AC/DC  \n",
       "3d9DChrdc6BOeFsbrZ3Is0                 Red Hot Chili Peppers  \n",
       "0Cy7wt6IlRfBPHXXjmZbcP                        Ellie Goulding  \n",
       "0puf9yIluy9W0vpMEUoAnN  Jessie J; Ariana Grande; Nicki Minaj  \n",
       "5kqIPrATaCc2LqxVWzQGbk                          Lukas Graham  \n",
       "0FDzzruyVECATHXKHFs9eJ                              Coldplay  \n",
       "1yvMUkIOTeUNtNWlWRgANS                                   Sia  \n",
       "11IzgLRXV7Cgek3tEgGgjw                    Queen; David Bowie  "
      ]
     },
     "execution_count": 50,
     "metadata": {},
     "output_type": "execute_result"
    }
   ],
   "source": [
    "# Run this cell a few times!\n",
    "billions_club.sample(10).get(['Song Name', 'Artist'])"
   ]
  },
  {
   "cell_type": "markdown",
   "id": "0937597a",
   "metadata": {
    "deletable": false,
    "editable": false
   },
   "source": [
    "**Question 2.1.** Run the previous cell a few times until you find a song you like; you'll use this song as the input to the recommender tool. Record the `'URI'` of your favorite song in the variable `favorite_uri`. You should just input this value manually based on what you find from browsing the DataFrame. (You can double-click a value in the index to highlight it, and then copy and paste it below.)\n",
    "\n",
    "Then, using code, find the `'Song Name'` of this song and save it in the variable `favorite_song_name`.\n",
    "\n",
    "<!--\n",
    "BEGIN QUESTION\n",
    "name: q2_1\n",
    "points: 1\n",
    "-->"
   ]
  },
  {
   "cell_type": "code",
   "execution_count": 51,
   "id": "22652661",
   "metadata": {},
   "outputs": [
    {
     "name": "stdout",
     "output_type": "stream",
     "text": [
      "My favorite song is Hey Ya!. It has a URI of 2PpruBYCo4H7WOBJ7Q2EwM.\n"
     ]
    }
   ],
   "source": [
    "favorite_uri = \"2PpruBYCo4H7WOBJ7Q2EwM\"\n",
    "favorite_song_name = billions_club.get(\"Song Name\").loc[\"2PpruBYCo4H7WOBJ7Q2EwM\"]\n",
    "\n",
    "print(f'My favorite song is {favorite_song_name}. It has a URI of {favorite_uri}.')"
   ]
  },
  {
   "cell_type": "code",
   "execution_count": 52,
   "id": "b69d75f5",
   "metadata": {
    "deletable": false,
    "editable": false
   },
   "outputs": [
    {
     "data": {
      "text/html": [
       "<p><strong><pre style='display: inline;'>q2_1</pre></strong> passed!</p>"
      ],
      "text/plain": [
       "q2_1 results: All test cases passed!"
      ]
     },
     "execution_count": 52,
     "metadata": {},
     "output_type": "execute_result"
    }
   ],
   "source": [
    "grader.check(\"q2_1\")"
   ]
  },
  {
   "cell_type": "markdown",
   "id": "085e87b7",
   "metadata": {},
   "source": [
    "You can also listen to a preview of your favorite song in the notebook by running the cell below and pressing play."
   ]
  },
  {
   "cell_type": "code",
   "execution_count": 53,
   "id": "42e40ab2",
   "metadata": {},
   "outputs": [
    {
     "data": {
      "text/html": [
       "\n",
       "        <iframe\n",
       "            width=\"400\"\n",
       "            height=\"75\"\n",
       "            src=\"https://open.spotify.com/embed/track/2PpruBYCo4H7WOBJ7Q2EwM\"\n",
       "            frameborder=\"0\"\n",
       "            allowfullscreen\n",
       "        ></iframe>\n",
       "        "
      ],
      "text/plain": [
       "<IPython.lib.display.IFrame at 0x7f6f62d43d90>"
      ]
     },
     "metadata": {},
     "output_type": "display_data"
    }
   ],
   "source": [
    "play_spotify(favorite_uri) "
   ]
  },
  {
   "cell_type": "markdown",
   "id": "4a39a284",
   "metadata": {},
   "source": [
    "We will allow our recommender tool to base its recommendations on a customizable set of audio features. When not specified, the tool will use *all* of the audio features that are measured on a 0 to 1 scale, which we'll store in the variable `default_features`. But you can choose to use only a subset of these features when asking for recommendations, based on whatever is important to you!"
   ]
  },
  {
   "cell_type": "code",
   "execution_count": 54,
   "id": "3b0c6ec4",
   "metadata": {},
   "outputs": [],
   "source": [
    "default_features = [\n",
    "    'Danceability', \n",
    "    'Energy',\n",
    "    'Speechiness',\n",
    "    'Acousticness',\n",
    "    'Instrumentalness',\n",
    "    'Liveness',\n",
    "    'Valence'\n",
    "]"
   ]
  },
  {
   "cell_type": "markdown",
   "id": "378115fc",
   "metadata": {},
   "source": [
    "Let's start building our recommender tool! \n",
    "\n",
    "The first step of the process is to extract the features of our favorite song from a DataFrame of songs. The thing is, each song is stored as a row of a DataFrame, and we don't have any experience accessing full rows of DataFrames. We typically access entire columns of data using `.get`, but we've never needed to access whole rows before. \n",
    "\n",
    "It turns out that the `.loc` accessor that we've used on Series also works on DataFrames. If we use `.loc` directly on a DataFrame, we can extract the contents of an individual row as a Series. When all the values in a row are of the same data type, we can then convert that Series into an array. \n",
    "\n",
    "For example, the next cell creates a small example DataFrame."
   ]
  },
  {
   "cell_type": "code",
   "execution_count": 55,
   "id": "745f0217",
   "metadata": {
    "scrolled": false
   },
   "outputs": [
    {
     "data": {
      "text/html": [
       "<div>\n",
       "<style scoped>\n",
       "    .dataframe tbody tr th:only-of-type {\n",
       "        vertical-align: middle;\n",
       "    }\n",
       "\n",
       "    .dataframe tbody tr th {\n",
       "        vertical-align: top;\n",
       "    }\n",
       "\n",
       "    .dataframe thead th {\n",
       "        text-align: right;\n",
       "    }\n",
       "</style>\n",
       "<table border=\"1\" class=\"dataframe\">\n",
       "  <thead>\n",
       "    <tr style=\"text-align: right;\">\n",
       "      <th></th>\n",
       "      <th>x</th>\n",
       "      <th>y</th>\n",
       "      <th>z</th>\n",
       "    </tr>\n",
       "  </thead>\n",
       "  <tbody>\n",
       "    <tr>\n",
       "      <th>0</th>\n",
       "      <td>1</td>\n",
       "      <td>3</td>\n",
       "      <td>5</td>\n",
       "    </tr>\n",
       "    <tr>\n",
       "      <th>1</th>\n",
       "      <td>2</td>\n",
       "      <td>4</td>\n",
       "      <td>6</td>\n",
       "    </tr>\n",
       "  </tbody>\n",
       "</table>\n",
       "</div>"
      ],
      "text/plain": [
       "   x  y  z\n",
       "0  1  3  5\n",
       "1  2  4  6"
      ]
     },
     "execution_count": 55,
     "metadata": {},
     "output_type": "execute_result"
    }
   ],
   "source": [
    "example_df = bpd.DataFrame().assign(x=[1, 2], y=[3, 4], z=[5, 6])\n",
    "example_df"
   ]
  },
  {
   "cell_type": "markdown",
   "id": "ff52a97d",
   "metadata": {},
   "source": [
    "We can extract the values from the second row of `example_df` as follows."
   ]
  },
  {
   "cell_type": "code",
   "execution_count": 56,
   "id": "ecc32d4a",
   "metadata": {},
   "outputs": [
    {
     "data": {
      "text/plain": [
       "x    2\n",
       "y    4\n",
       "z    6\n",
       "Name: 1, dtype: int64"
      ]
     },
     "execution_count": 56,
     "metadata": {},
     "output_type": "execute_result"
    }
   ],
   "source": [
    "example_df.loc[1]"
   ]
  },
  {
   "cell_type": "markdown",
   "id": "820910d4",
   "metadata": {},
   "source": [
    "Notice that this is a Series whose index values are the column names of `example_df`. If we want to work with the values in this Series an array, we can convert the Series to an array."
   ]
  },
  {
   "cell_type": "code",
   "execution_count": 57,
   "id": "265433f0",
   "metadata": {},
   "outputs": [
    {
     "data": {
      "text/plain": [
       "array([2, 4, 6])"
      ]
     },
     "execution_count": 57,
     "metadata": {},
     "output_type": "execute_result"
    }
   ],
   "source": [
    "np.array(example_df.loc[1])"
   ]
  },
  {
   "cell_type": "markdown",
   "id": "700fb5dd",
   "metadata": {
    "deletable": false,
    "editable": false
   },
   "source": [
    "**Question 2.2.** Use what you just learned about accessing rows to complete the implementation of the function `get_feature_values`. The inputs to `get_feature_values` are:\n",
    "- `input_uri`, the `'URI'` of a song whose features you want to extract as an array.\n",
    "- `song_df`, a DataFrame that has a row corresponding to the song with the given `input_uri` and columns containing audio features.\n",
    "- `feature_list`, a list of features to extract.\n",
    "\n",
    "It should return an **array** containing the values of the specified features for the song, in the order that they appear in `feature_list`. If there is no song with the given `input_uri` in `song_df`, the function should print `'This URI was not found.'` and return `None`. (`None` is a special Python keyword; it should not go in quotes, and it will turn green when you type it.)\n",
    "\n",
    "Example behavior is given below.\n",
    "\n",
    "```py\n",
    "# This URI corresponds to the song \"Creepin' (with The Weeknd & 21 Savage)\".\n",
    "# Query for it in billions_club; you'll see that its 'Valence', 'Instrumentalness', and 'Energy'\n",
    "# match the values in the array below.\n",
    ">>> get_feature_values('2dHHgzDwk4BJdRwy9uXhTO', billions_club, ['Valence', 'Instrumentalness', 'Energy'])\n",
    "array([0.172, 0.   , 0.62 ])\n",
    "```\n",
    "\n",
    "After implementing your function, use it to extract some audio features from your favorite song in `billions_club`, whose `'URI'` was stored in `favorite_uri`. You can use any of the audio features in `default_features` that you like.\n",
    "\n",
    "***Hint:*** Use the `in` keyword to check if `input_uri` is a valid `'URI'`. \n",
    "\n",
    "***Note:*** We're writing a very general function that allows `song_df` to be any DataFrame of songs. For now, we'll only call the function with `billions_club` as `song_df`, but later in this section, we'll see how to use the function with `song_df` set to something else.\n",
    "\n",
    "<!--\n",
    "BEGIN QUESTION\n",
    "name: q2_2\n",
    "points: 1\n",
    "-->"
   ]
  },
  {
   "cell_type": "code",
   "execution_count": 58,
   "id": "7b6d9cd4",
   "metadata": {},
   "outputs": [
    {
     "data": {
      "text/plain": [
       "array([0.727, 0.974])"
      ]
     },
     "execution_count": 58,
     "metadata": {},
     "output_type": "execute_result"
    }
   ],
   "source": [
    "def get_feature_values(input_uri, song_df, feature_list):\n",
    "    if not (input_uri in song_df.index):\n",
    "        print('This URI was not found.')\n",
    "        return None\n",
    "    else:\n",
    "        return np.array(song_df.get(feature_list).loc[input_uri])\n",
    "\n",
    "# Now call your function to extract some audio features of your favorite song.\n",
    "get_feature_values(favorite_uri, billions_club, ['Danceability', 'Energy'])"
   ]
  },
  {
   "cell_type": "code",
   "execution_count": 59,
   "id": "f9efb55c",
   "metadata": {
    "deletable": false,
    "editable": false
   },
   "outputs": [
    {
     "data": {
      "text/html": [
       "<p><strong><pre style='display: inline;'>q2_2</pre></strong> passed!</p>"
      ],
      "text/plain": [
       "q2_2 results: All test cases passed!"
      ]
     },
     "execution_count": 59,
     "metadata": {},
     "output_type": "execute_result"
    }
   ],
   "source": [
    "grader.check(\"q2_2\")"
   ]
  },
  {
   "cell_type": "markdown",
   "id": "8e468c3f",
   "metadata": {},
   "source": [
    "We now know how to extract the features of a song (as an array) from a DataFrame using `get_feature_values`. But, what will we do with this feature array once we extract it? We'll want to compare the features of our song to the features of each Taylor Swift song to identify the Taylor Swift songs that are most similar to the song we selected. Since each audio feature is numerical, we need a way to compare two arrays of numbers and measure the similarity between them.\n",
    "\n",
    "For this, we'll use the Euclidean distance, which you may know more simply as just \"distance\". Euclidean distance is a fundamental concept in mathematics (more specifically, geometry) used to measure how far away two points are. We're most familiar with this concept in two dimensions, where it corresponds to the distance between two points in the plane. Here is the distance formula in two dimensions:\n",
    "\n",
    "<p style=\"text-align: center;\"><strong>Distance between two points $(x_1, y_1)$ and $(x_2, y_2)$ in 2 dimensions:</strong></p>\n",
    "\n",
    "<p style=\"text-align: center;\">$d = \\sqrt{(x_2 - x_1)^2 + (y_2 - y_1)^2}$</p>\n",
    "\n",
    "<img src=\"data/images/distance.png\" width=30%>\n",
    "\n",
    "The picture above shows that the distance formula is really an application of the Pythagorean theorem relating the side lengths of a right triangle: $c^2 = a^2 + b^2$.\n",
    "\n",
    "However, Euclidean distance is not limited to two dimensions; it can be generalized to more dimensions. In general, in $n$-dimensional space (where $n$ can be any positive integer), we can generalize the Euclidean distance formula as follows:\n",
    "\n",
    "<p style=\"text-align: center;\"><strong>Distance between two points $(x_1, x_2, \\ldots, x_n)$ and $(y_1, y_2, \\ldots, y_n)$ in $n$ dimensions:</strong></p>\n",
    " \n",
    "<p style=\"text-align: center;\">$d = \\sqrt{(x_1 - y_1)^2 + (x_2 - y_2)^2 + \\ldots + (x_n - y_n)^2}$</p>\n",
    "\n",
    "What can we do with this? For our application, let's think of the feature array for a given song as a point in $n$-dimensional space. For example, if the features we care about are `['Valence', 'Acousticness', 'Energy']`, then for any given song, we have a point in 3-dimensional space. Then, to measure how similar two songs are, we can compute the Euclidean distance between their two points in 3-dimensional space. **The closer this distance is to 0, the more similar the two songs are!**\n",
    "\n",
    "For instance, suppose we want to compute the similarity between the songs `'Bad Blood'` by `'Taylor Swift'` and `'What Makes You Beautiful'` by `'One Direction'` using the aforementioned three features. Using `get_feature_values`:\n",
    "- `'Bad Blood'` has the feature array `np.array([0.287, 0.0885, 0.794])`, and\n",
    "- `'What Makes You Beautiful'` has the feature array `np.array([0.888, 0.009, 0.787])`.\n",
    "\n",
    "Then, the Euclidean distance between the two songs' points is:\n",
    "\n",
    "$$\\sqrt{(0.287 - 0.888)^2 + (0.0855 - 0.009)^2 + (0.794 - 0.787)^2} = 0.606275...$$"
   ]
  },
  {
   "cell_type": "markdown",
   "id": "62615288",
   "metadata": {
    "deletable": false,
    "editable": false
   },
   "source": [
    "**Question 2.3.** ⭐⭐ Now, let's apply the concept of Euclidean distance to calculate the similarity between two songs. Complete the implementation of the function `calculate_similarity` below. This function takes in two arrays of the same length, which we can think of as two points in $n$-dimensional space, where $n$ is the length of each array. The function should output the Euclidean distance between these two points, as a float, with no rounding.\n",
    "\n",
    "Example behavior is given below.\n",
    "\n",
    "```py\n",
    "# Note: We've hard-coded the inputs to calculate_similarity just for this example;\n",
    "# typically, you'll find feature arrays by calling your get_feature_values function.\n",
    ">>> calculate_similarity(np.array([0.287, 0.0885, 0.794]), np.array([0.888, 0.009, 0.787]))\n",
    "0.6062757211038555\n",
    "```\n",
    "\n",
    "Then, use both the `calculate_similarity` and the `get_feature_values` functions you've defined to calculate the similarity (Euclidean distance) between your favorite song and the Taylor Swift song `'Karma'`, based on the features `'Danceability'`, `'Energy'`, `'Valence'`, and `'Acousticness'`. Store your result in `favorite_vs_karma`. \n",
    "\n",
    "<!--\n",
    "BEGIN QUESTION\n",
    "name: q2_3\n",
    "points: 2\n",
    "-->"
   ]
  },
  {
   "cell_type": "code",
   "execution_count": 60,
   "id": "3bbc0c49",
   "metadata": {},
   "outputs": [
    {
     "data": {
      "text/plain": [
       "0.9413493559778962"
      ]
     },
     "execution_count": 60,
     "metadata": {},
     "output_type": "execute_result"
    }
   ],
   "source": [
    "def calculate_similarity(features_1, features_2):\n",
    "    similarity_sum=0\n",
    "    for i in np.arange(len(features_1)):\n",
    "        similarity_sum=similarity_sum+(features_1[i]-features_2[i])**2\n",
    "    return similarity_sum**(1/2)\n",
    "karma_uri=tswift[tswift.get(\"Song Name\")==\"Karma\"].index[0]\n",
    "karma_features=get_feature_values(karma_uri, tswift, ['Danceability', 'Energy', \"Valence\"])\n",
    "favorite_features=get_feature_values(favorite_uri, billions_club, ['Danceability', 'Energy', \"Valence\"])\n",
    "favorite_vs_karma = calculate_similarity(favorite_features,karma_features)\n",
    "favorite_vs_karma"
   ]
  },
  {
   "cell_type": "code",
   "execution_count": 61,
   "id": "bfa8c55a",
   "metadata": {
    "deletable": false,
    "editable": false
   },
   "outputs": [
    {
     "data": {
      "text/html": [
       "<p><strong><pre style='display: inline;'>q2_3</pre></strong> passed!</p>"
      ],
      "text/plain": [
       "q2_3 results: All test cases passed!"
      ]
     },
     "execution_count": 61,
     "metadata": {},
     "output_type": "execute_result"
    }
   ],
   "source": [
    "grader.check(\"q2_3\")"
   ]
  },
  {
   "cell_type": "markdown",
   "id": "d3b5d12c",
   "metadata": {
    "deletable": false,
    "editable": false
   },
   "source": [
    "**Question 2.4.** ⭐⭐ So far, we know how to compute the similarity between two particular songs. Now, let's extend what we've learned to compute the similarity between a given song and *each* of the Taylor Swift songs in `tswift`. \n",
    "\n",
    "Use the two functions you've defined so far in this section (`get_feature_values` and `calculate_similarity`) to complete the implementation of the function `calculate_similarity_for_all`. This function should calculate the similarity scores between the input song and each of the Taylor Swift songs in `tswift`, one by one, and output an array of similarity scores.  The inputs to `calculate_similarity_for_all` are:\n",
    "\n",
    "- `input_uri`, the `'URI'` of a song whose features you will compare to each song in `tswift`.\n",
    "- `song_df`, a DataFrame that has a row corresponding to the song with the given `input_uri` and columns containing audio features.\n",
    "- `feature_list`, a list of features to include in the similarity score.\n",
    "\n",
    "Make sure your output array has the similarities of all songs in the order they appear in the `tswift` DataFrame. For example, if the first song in `tswift` is `'Anti-Hero'` (it may not be), then the first element of your output array should be the similarity between the input song and `'Anti-Hero'`.\n",
    "\n",
    "While we don't normally iterate through DataFrames, Series, or indexes, in this question, you should use a `for`-loop to iterate through the values in the index of `tswift`, extracting the features from one Taylor Swift song at a time and using those features to compute the similarity with the input song.\n",
    "\n",
    "A sample function call is provided. Feel free to try other example inputs.\n",
    "<!--\n",
    "BEGIN QUESTION\n",
    "name: q2_4\n",
    "points: 2\n",
    "-->"
   ]
  },
  {
   "cell_type": "code",
   "execution_count": 62,
   "id": "b1f3a21f",
   "metadata": {},
   "outputs": [
    {
     "data": {
      "text/plain": [
       "array([0.51536977, 0.85711726, 0.3003315 , 0.46181348, 0.40685079,\n",
       "       0.53838926, 1.11553082, 0.99393913, 0.77301423, 0.30902103,\n",
       "       0.49328548, 1.05151415, 0.77916237, 1.09797313, 0.84191549,\n",
       "       0.80915635, 1.25232783, 1.28687684, 0.55228073, 0.94181462,\n",
       "       0.87525653, 1.1247982 , 1.0324184 , 0.67668858, 0.75431426,\n",
       "       1.09654286, 1.06721788, 0.5102764 , 1.1720384 , 1.13784665,\n",
       "       1.37592514, 0.59719846, 0.98521571, 1.31340702, 1.4023138 ,\n",
       "       0.7755224 , 0.79566702, 1.07849015, 0.84217338, 0.81626895,\n",
       "       0.72608333, 1.28587363, 1.1998975 , 1.34256732, 1.01461766,\n",
       "       1.15300867, 0.80204613, 1.04086983, 0.91418981, 1.0913597 ,\n",
       "       0.54644487, 1.30995496, 0.78053507, 1.24711868, 1.29040265,\n",
       "       1.32637325, 0.89562101, 0.70364673, 1.08425366, 0.54095101,\n",
       "       0.59994174, 0.68062537, 1.01696953, 0.8676399 , 0.75906325,\n",
       "       0.90875998, 0.71331331, 0.58753107, 0.74583762, 1.37514872,\n",
       "       0.71101828, 0.90218069, 0.26167988, 0.87053622, 0.5276183 ,\n",
       "       1.01433164, 0.40213091, 0.63728283, 1.0234297 , 0.53135017,\n",
       "       0.46423055, 0.49843271, 0.77308926, 0.72149121, 0.77098119,\n",
       "       0.80648745, 0.6891012 , 0.54768969, 1.08044158, 0.87946859,\n",
       "       1.06859019, 0.92155358, 0.68725615, 0.5405215 , 0.61132859,\n",
       "       0.64589325, 0.58851763, 0.30922484, 0.3629022 , 0.77003441,\n",
       "       0.85488128, 0.44086619, 0.92538513, 0.46450189, 0.47334275,\n",
       "       0.6140114 , 0.8720195 , 0.76647896, 0.71542243, 1.27627035,\n",
       "       0.92956657, 0.46122732, 0.61507235, 0.74824461, 0.6880957 ,\n",
       "       1.01527238, 0.93370164, 0.93991595, 0.9077406 , 0.41908077,\n",
       "       0.63558374, 0.44711625, 0.49158927, 1.07247704, 0.46723808,\n",
       "       0.6527917 , 0.67397478, 0.52590898, 0.95095037, 0.35240834,\n",
       "       0.85846491, 0.71847953, 0.70860464, 1.07011682, 0.77469153,\n",
       "       0.85502105, 0.86047527, 1.01595522, 0.42254022, 0.49987162,\n",
       "       0.58973553, 0.95466589, 0.48257026, 0.72316941, 0.43735787,\n",
       "       1.07118159, 0.83264458, 1.30095926, 0.99760764, 1.06062529,\n",
       "       1.04633503, 1.30339979, 0.66873537, 1.10065526, 0.98964084,\n",
       "       1.31177971, 1.26278621, 1.1245648 , 0.74579488, 1.09208699,\n",
       "       0.98795243, 0.93398019, 0.78242763, 0.52557112, 0.19951441,\n",
       "       0.90149099, 0.59451854, 0.87708722, 0.48785583, 0.76285129,\n",
       "       0.5938712 , 0.91986793, 0.59118309, 0.99696188, 1.08194501,\n",
       "       0.44396244, 0.77780219, 0.41339891, 1.04411542, 0.53981877,\n",
       "       0.87478951, 0.47322811, 0.97432541, 0.53743875, 0.67197507,\n",
       "       0.48016143, 0.55195108, 0.1966517 , 0.51822773, 0.70629686,\n",
       "       0.4672732 , 0.60354572, 1.19072499])"
      ]
     },
     "execution_count": 62,
     "metadata": {},
     "output_type": "execute_result"
    }
   ],
   "source": [
    "def calculate_similarity_for_all(input_uri, song_df, feature_list):\n",
    "    similarity_scores = np.array([])\n",
    "    input_features = get_feature_values(input_uri, song_df, feature_list)\n",
    "    for i in np.arange(tswift.shape[0]):\n",
    "        tswift_uri=tswift.index[i]\n",
    "        tswift_features = get_feature_values(tswift_uri, tswift, feature_list)\n",
    "        similarity=calculate_similarity(input_features,tswift_features)\n",
    "        similarity_scores=np.append(similarity_scores,similarity)\n",
    "    return similarity_scores\n",
    "\n",
    "# Feel free to comment this line out or change the arguments!\n",
    "calculate_similarity_for_all(favorite_uri, billions_club, ['Danceability', 'Energy', 'Valence', 'Acousticness'])"
   ]
  },
  {
   "cell_type": "code",
   "execution_count": 63,
   "id": "680a9081",
   "metadata": {
    "deletable": false,
    "editable": false
   },
   "outputs": [
    {
     "data": {
      "text/html": [
       "<p><strong><pre style='display: inline;'>q2_4</pre></strong> passed!</p>"
      ],
      "text/plain": [
       "q2_4 results: All test cases passed!"
      ]
     },
     "execution_count": 63,
     "metadata": {},
     "output_type": "execute_result"
    }
   ],
   "source": [
    "grader.check(\"q2_4\")"
   ]
  },
  {
   "cell_type": "markdown",
   "id": "4f78a564",
   "metadata": {
    "deletable": false,
    "editable": false
   },
   "source": [
    "**Question 2.5.** Now that we have the similarity scores between our input song and every single Taylor Swift song, let's use them to find the Taylor Swift songs that are most similar to our input song. Complete the implementation of the function `select_top_recommendations`, which takes in an array `similarity_scores`, like the one you just created, and a positive integer `n`. The function should return a DataFrame of the `n` songs from `tswift` that correspond to the `n` **lowest** values in `similarity_scores`, sorted in increasing order of similarity score.\n",
    "- Remember, the most similar songs are the ones whose similarity scores are lowest, because songs are more similar when they have a lower Euclidean distance.\n",
    "- The DataFrame returned by `select_top_recommendations` should have all the same columns as `tswift`, though as mentioned above, it should only have `n` rows.\n",
    "\n",
    "***Hint:*** You may want to add a new column to your DataFrame containing the contents of `similarity_scores`. Make sure to drop this column at the end, so that your output DataFrame has exactly `n` rows and 20 columns.\n",
    "<!--\n",
    "BEGIN QUESTION\n",
    "name: q2_5\n",
    "points: 1\n",
    "-->"
   ]
  },
  {
   "cell_type": "code",
   "execution_count": 64,
   "id": "8ff18a57",
   "metadata": {},
   "outputs": [],
   "source": [
    "def select_top_recommendations(similarity_scores, n):\n",
    "    dataframe=tswift.assign(Similarity_scores=similarity_scores).sort_values(\"Similarity_scores\")\n",
    "    dataframe=dataframe.drop(columns=\"Similarity_scores\")\n",
    "    return dataframe.iloc[0:n]"
   ]
  },
  {
   "cell_type": "code",
   "execution_count": 65,
   "id": "4d64bffa",
   "metadata": {
    "deletable": false,
    "editable": false
   },
   "outputs": [
    {
     "data": {
      "text/html": [
       "<p><strong><pre style='display: inline;'>q2_5</pre></strong> passed!</p>"
      ],
      "text/plain": [
       "q2_5 results: All test cases passed!"
      ]
     },
     "execution_count": 65,
     "metadata": {},
     "output_type": "execute_result"
    }
   ],
   "source": [
    "grader.check(\"q2_5\")"
   ]
  },
  {
   "cell_type": "markdown",
   "id": "be12cd38",
   "metadata": {
    "deletable": false,
    "editable": false
   },
   "source": [
    "**Question 2.6.** It's time to combine everything we've implemented so far into a single function. Below, complete the \n",
    "implementation of the function `song_recommender`. The inputs to `song_recommender` are:\n",
    "\n",
    "- `input_uri`, the `'URI'` of a song which you want to find recommendations similar to.\n",
    "- `song_df`, a DataFrame that has a row corresponding to the song with the given `input_uri` and columns containing audio features.\n",
    "- `n`, the number of top-matching songs to be shown.\n",
    "- `feature_list`, a list of features to include in the similarity computation. This is an optional parameter; if not included, the similarity should be based on all features in `default_features`.\n",
    " \n",
    "The output should be an `n`-row DataFrame whose index contains `'URI'`s and whose only columns are `'Album'`, `'Song Name'`, and the columns included in `feature_list`. Each row in the returned DataFrame should correspond to a song; the songs should be sorted in decreasing order of similarity (that is, in increasing order of similarity score – the same way that the rows are ordered in the output of `select_top_recommendations`).\n",
    "\n",
    "***Hints:***\n",
    "- You've done most of the work already. It's possible to solve this problem in one (long) line of code. We say this not to encourage you to write one long line of code, but to emphasize that you don't need to write a ton of code within the body of `song_recommender`.\n",
    "- The `+` symbol, when placed between two lists, concatenates the lists, just like when the `+` symbol is placed between two strings, it concatenates the strings. This will be useful when making sure that your output DataFrame has only certain columns.\n",
    "<!--\n",
    "BEGIN QUESTION\n",
    "name: q2_6\n",
    "points: 1\n",
    "-->"
   ]
  },
  {
   "cell_type": "code",
   "execution_count": 66,
   "id": "d61ae78f",
   "metadata": {},
   "outputs": [
    {
     "name": "stdout",
     "output_type": "stream",
     "text": [
      "Taylor Swift songs that are most similar to Hey Ya!:\n"
     ]
    },
    {
     "data": {
      "text/html": [
       "<div>\n",
       "<style scoped>\n",
       "    .dataframe tbody tr th:only-of-type {\n",
       "        vertical-align: middle;\n",
       "    }\n",
       "\n",
       "    .dataframe tbody tr th {\n",
       "        vertical-align: top;\n",
       "    }\n",
       "\n",
       "    .dataframe thead th {\n",
       "        text-align: right;\n",
       "    }\n",
       "</style>\n",
       "<table border=\"1\" class=\"dataframe\">\n",
       "  <thead>\n",
       "    <tr style=\"text-align: right;\">\n",
       "      <th></th>\n",
       "      <th>Album</th>\n",
       "      <th>Song Name</th>\n",
       "      <th>Danceability</th>\n",
       "      <th>Energy</th>\n",
       "    </tr>\n",
       "    <tr>\n",
       "      <th>URI</th>\n",
       "      <th></th>\n",
       "      <th></th>\n",
       "      <th></th>\n",
       "      <th></th>\n",
       "    </tr>\n",
       "  </thead>\n",
       "  <tbody>\n",
       "    <tr>\n",
       "      <th>1B5VzXPqMlvRw0U4HJY3dJ</th>\n",
       "      <td>1989</td>\n",
       "      <td>I Wish You Would</td>\n",
       "      <td>0.653</td>\n",
       "      <td>0.893</td>\n",
       "    </tr>\n",
       "    <tr>\n",
       "      <th>32mVHdy0bi1XKgr0ajsBlG</th>\n",
       "      <td>Taylor Swift</td>\n",
       "      <td>Picture To Burn</td>\n",
       "      <td>0.658</td>\n",
       "      <td>0.877</td>\n",
       "    </tr>\n",
       "    <tr>\n",
       "      <th>6rZVy6FIG7lSJQMFXHo12z</th>\n",
       "      <td>1989</td>\n",
       "      <td>New Romantics</td>\n",
       "      <td>0.633</td>\n",
       "      <td>0.889</td>\n",
       "    </tr>\n",
       "    <tr>\n",
       "      <th>0k0vFacOHNuArLWMiH60p7</th>\n",
       "      <td>Fearless</td>\n",
       "      <td>Tell Me Why</td>\n",
       "      <td>0.578</td>\n",
       "      <td>0.909</td>\n",
       "    </tr>\n",
       "    <tr>\n",
       "      <th>0JIdBrXGSJXS72zjF9ss9u</th>\n",
       "      <td>Taylor Swift</td>\n",
       "      <td>I'm Only Me When I'm With You</td>\n",
       "      <td>0.563</td>\n",
       "      <td>0.934</td>\n",
       "    </tr>\n",
       "  </tbody>\n",
       "</table>\n",
       "</div>"
      ],
      "text/plain": [
       "                               Album                      Song Name  \\\n",
       "URI                                                                   \n",
       "1B5VzXPqMlvRw0U4HJY3dJ          1989               I Wish You Would   \n",
       "32mVHdy0bi1XKgr0ajsBlG  Taylor Swift                Picture To Burn   \n",
       "6rZVy6FIG7lSJQMFXHo12z          1989                  New Romantics   \n",
       "0k0vFacOHNuArLWMiH60p7      Fearless                    Tell Me Why   \n",
       "0JIdBrXGSJXS72zjF9ss9u  Taylor Swift  I'm Only Me When I'm With You   \n",
       "\n",
       "                        Danceability  Energy  \n",
       "URI                                           \n",
       "1B5VzXPqMlvRw0U4HJY3dJ         0.653   0.893  \n",
       "32mVHdy0bi1XKgr0ajsBlG         0.658   0.877  \n",
       "6rZVy6FIG7lSJQMFXHo12z         0.633   0.889  \n",
       "0k0vFacOHNuArLWMiH60p7         0.578   0.909  \n",
       "0JIdBrXGSJXS72zjF9ss9u         0.563   0.934  "
      ]
     },
     "execution_count": 66,
     "metadata": {},
     "output_type": "execute_result"
    }
   ],
   "source": [
    "def song_recommender(input_uri, song_df, n, feature_list=default_features):\n",
    "    similarity_scores=calculate_similarity_for_all(input_uri, song_df, feature_list)\n",
    "    return select_top_recommendations(similarity_scores, n).get([\"Album\", \"Song Name\"]+feature_list)\n",
    "    \n",
    "# The following call to song_recommender finds the 5 Taylor Swift songs\n",
    "# that are most similar to your chosen song, in terms of 'Danceability' and 'Energy'.\n",
    "# We've also include a print statement to help you interpet the output.\n",
    "print(f'Taylor Swift songs that are most similar to {favorite_song_name}:')\n",
    "song_recommender(favorite_uri, billions_club, 5, ['Danceability', 'Energy'])"
   ]
  },
  {
   "cell_type": "code",
   "execution_count": 67,
   "id": "d3e40f5c",
   "metadata": {
    "deletable": false,
    "editable": false
   },
   "outputs": [
    {
     "data": {
      "text/html": [
       "<p><strong><pre style='display: inline;'>q2_6</pre></strong> passed!</p>"
      ],
      "text/plain": [
       "q2_6 results: All test cases passed!"
      ]
     },
     "execution_count": 67,
     "metadata": {},
     "output_type": "execute_result"
    }
   ],
   "source": [
    "grader.check(\"q2_6\")"
   ]
  },
  {
   "cell_type": "markdown",
   "id": "c4efaf94",
   "metadata": {},
   "source": [
    "Nice work! You now have the ability to pick a song you like and audio features that are important to you and use your function to get back recommendations of Taylor Swift songs that are similar to the song you chose.\n",
    "\n",
    "But wait – it gets cooler.\n",
    "\n",
    "The cell below is long, but it sets up an interactive widget, which allows you to choose any song in `billions_club` from a dropdown menu and plays for you the 5 most similar songs from Taylor Swift's repertoire, according to all of the features in `default_features`. Run the cell below to check it out!"
   ]
  },
  {
   "cell_type": "code",
   "execution_count": 68,
   "id": "623974e2",
   "metadata": {},
   "outputs": [
    {
     "data": {
      "application/vnd.jupyter.widget-view+json": {
       "model_id": "41b720adef3d48fd947010024b124362",
       "version_major": 2,
       "version_minor": 0
      },
      "text/plain": [
       "Dropdown(description='Song', index=26, layout=Layout(width='525px'), options=('1-800-273-8255 by Logic; Alessi…"
      ]
     },
     "metadata": {},
     "output_type": "display_data"
    },
    {
     "data": {
      "text/html": [
       "<h3>The song you chose was Bank Account by 21 Savage.</h3>"
      ],
      "text/plain": [
       "<IPython.core.display.HTML object>"
      ]
     },
     "metadata": {},
     "output_type": "display_data"
    },
    {
     "data": {
      "text/html": [
       "\n",
       "        <iframe\n",
       "            width=\"400\"\n",
       "            height=\"75\"\n",
       "            src=\"https://open.spotify.com/embed/track/5eqK0tbzUPo2SoeZsov04s\"\n",
       "            frameborder=\"0\"\n",
       "            allowfullscreen\n",
       "        ></iframe>\n",
       "        "
      ],
      "text/plain": [
       "<IPython.lib.display.IFrame at 0x7f6f62b5afa0>"
      ]
     },
     "metadata": {},
     "output_type": "display_data"
    },
    {
     "data": {
      "text/html": [
       "<h4>Here are the 5 most similar Taylor Swift songs we found.</h4>"
      ],
      "text/plain": [
       "<IPython.core.display.HTML object>"
      ]
     },
     "metadata": {},
     "output_type": "display_data"
    },
    {
     "data": {
      "text/html": [
       "\n",
       "        <iframe\n",
       "            width=\"400\"\n",
       "            height=\"75\"\n",
       "            src=\"https://open.spotify.com/embed/track/1xwAWUI6Dj0WGC3KiUPN0O\"\n",
       "            frameborder=\"0\"\n",
       "            allowfullscreen\n",
       "        ></iframe>\n",
       "        "
      ],
      "text/plain": [
       "<IPython.lib.display.IFrame at 0x7f6f62b5afa0>"
      ]
     },
     "metadata": {},
     "output_type": "display_data"
    },
    {
     "data": {
      "text/html": [
       "\n",
       "        <iframe\n",
       "            width=\"400\"\n",
       "            height=\"75\"\n",
       "            src=\"https://open.spotify.com/embed/track/2YWtcWi3a83pdEg3Gif4Pd\"\n",
       "            frameborder=\"0\"\n",
       "            allowfullscreen\n",
       "        ></iframe>\n",
       "        "
      ],
      "text/plain": [
       "<IPython.lib.display.IFrame at 0x7f6f62b5afa0>"
      ]
     },
     "metadata": {},
     "output_type": "display_data"
    },
    {
     "data": {
      "text/html": [
       "\n",
       "        <iframe\n",
       "            width=\"400\"\n",
       "            height=\"75\"\n",
       "            src=\"https://open.spotify.com/embed/track/1ZY1PqizIl78geGM4xWlEA\"\n",
       "            frameborder=\"0\"\n",
       "            allowfullscreen\n",
       "        ></iframe>\n",
       "        "
      ],
      "text/plain": [
       "<IPython.lib.display.IFrame at 0x7f6f62b5afa0>"
      ]
     },
     "metadata": {},
     "output_type": "display_data"
    },
    {
     "data": {
      "text/html": [
       "\n",
       "        <iframe\n",
       "            width=\"400\"\n",
       "            height=\"75\"\n",
       "            src=\"https://open.spotify.com/embed/track/1SymEzIT3H8UZfibCs3TYi\"\n",
       "            frameborder=\"0\"\n",
       "            allowfullscreen\n",
       "        ></iframe>\n",
       "        "
      ],
      "text/plain": [
       "<IPython.lib.display.IFrame at 0x7f6f62b5afa0>"
      ]
     },
     "metadata": {},
     "output_type": "display_data"
    },
    {
     "data": {
      "text/html": [
       "\n",
       "        <iframe\n",
       "            width=\"400\"\n",
       "            height=\"75\"\n",
       "            src=\"https://open.spotify.com/embed/track/4svZDCRz4cJoneBpjpx8DJ\"\n",
       "            frameborder=\"0\"\n",
       "            allowfullscreen\n",
       "        ></iframe>\n",
       "        "
      ],
      "text/plain": [
       "<IPython.lib.display.IFrame at 0x7f6f62b5afa0>"
      ]
     },
     "metadata": {},
     "output_type": "display_data"
    }
   ],
   "source": [
    "# Run this cell. Don't change any of the code.\n",
    "default = 'Bank Account by 21 Savage'\n",
    "\n",
    "def get_and_format_recommendations(song_name):\n",
    "    song, artist = song_name.split(' by ')\n",
    "    row = billions_club[(billions_club.get('Song Name') == song) & (billions_club.get('Artist') == artist)]\n",
    "    uri = row.index[0]\n",
    "    recommendations_df = song_recommender(uri, billions_club, 5, default_features)\n",
    "    display(HTML(f'<h3>The song you chose was {billions_club.get(\"Song Name\").loc[uri]} by {billions_club.get(\"Artist\").loc[uri]}.</h3>'))\n",
    "    play_spotify(uri)\n",
    "    display(HTML('<h4>Here are the 5 most similar Taylor Swift songs we found.</h4>'))\n",
    "    for recommended_uri in recommendations_df.index:\n",
    "        play_spotify(recommended_uri)\n",
    "\n",
    "song_options = np.sort(billions_club.get('Song Name') + ' by ' + billions_club.get('Artist'))\n",
    "song_widget = widgets.Dropdown(options=song_options, description='Song', layout={'width': '525px'}, value=default)\n",
    "   \n",
    "def change_rec(change):\n",
    "    if change['name'] == 'value' and change['new'] != change['old']:\n",
    "        clear_output()\n",
    "        display(song_widget)\n",
    "        get_and_format_recommendations(song_widget.value)\n",
    "\n",
    "display(song_widget)\n",
    "get_and_format_recommendations(default)\n",
    "song_widget.observe(change_rec)"
   ]
  },
  {
   "cell_type": "markdown",
   "id": "1b927a34",
   "metadata": {},
   "source": [
    "You did all of the calculations behind-the-scenes to make this widget work – nice job!"
   ]
  },
  {
   "cell_type": "markdown",
   "id": "136c41b7",
   "metadata": {},
   "source": [
    "**Question 2.7.** ⭐️⭐️ Up until now, our goal has been to find the songs in `tswift` that are most similar to our chosen song in `billions_club`. That's what the above widget does.\n",
    "\n",
    "However, we can also use the functions we've defined to determine the similarity between any pair of songs in `tswift`, since all of the functions we've defined so far in this section take a `song_df` as an input.\n",
    "\n",
    "To wrap up Section 2, complete the implementation of the function `most_similar_pair`, which takes in a single argument, a `feature_list`, and returns **an array of length two containing the names of the two songs in `tswift` that are the most similar to one another**, according to the features in `feature_list`. The returned array can have these two songs in either order.\n",
    "\n",
    "Remember, the more similar two songs are, the lower their similarity score (Euclidean distance). What you need to find, then, is the pair of songs with the lowest similarity score. To do this, you'll need to find the similarity scores between all pairs of Taylor Swift songs. Make sure the two songs you find are actually different songs, and not the same song twice! \n",
    "\n",
    "This is a tough problem, but we've provided many hints as comments. Before writing any code, try to think conceptually of the steps that need to be performed."
   ]
  },
  {
   "cell_type": "code",
   "execution_count": 69,
   "id": "4f04d9d4",
   "metadata": {},
   "outputs": [
    {
     "data": {
      "text/plain": [
       "array(['This Love', 'Cruel Summer'], dtype='<U49')"
      ]
     },
     "execution_count": 69,
     "metadata": {},
     "output_type": "execute_result"
    }
   ],
   "source": [
    "def most_similar_pair(feature_list=default_features):\n",
    "    # Initialize an empty array to store the most similar pair of songs.\n",
    "    # This is NOT an accumulator pattern question, where you append to pair_of_songs in a loop.\n",
    "    # Instead, when you find a pair of songs that's more similar than the\"most similar pair\" \n",
    "    # you've ever seen, you'll update this array to contain those two songs instead.\n",
    "    pair_of_songs = np.array([])\n",
    "    \n",
    "    # Any time you find a pair of songs that's more similar than any pair you've ever seen,\n",
    "    # you should update this variable. We initialize it to 1.01 because the maximum possible\n",
    "    # similarity score is 1, so we know that this variable will be updated in the first iteration\n",
    "    # of the for-loop, corresponding to the most similar pair of songs we've seen so far.\n",
    "    lowest_similarity_score_seen = 1.01\n",
    "    # Loop over the URIs of Taylor Swift's songs.\n",
    "    for uri in tswift.index:\n",
    "        # Calculate similarities between this song and all other Taylor Swift songs.\n",
    "        similarities=np.array([])\n",
    "        uri_features = get_feature_values(uri, tswift, feature_list)\n",
    "        tswift_without_uri=tswift[tswift.index!=uri]\n",
    "        for i in np.arange(tswift_without_uri.shape[0]):\n",
    "            other_uri_features=get_feature_values(tswift_without_uri.index[i], tswift_without_uri, feature_list)\n",
    "            similarity = calculate_similarity(uri_features,other_uri_features)\n",
    "            similarities=np.append(similarities,similarity)\n",
    "        \n",
    "#\n",
    "        # Add the array of similarity scores as a column to tswift.\n",
    "        # Sort the rows so that the most similar songs are at the top.\n",
    "        with_similarities = tswift_without_uri.assign(Similarities=similarities).sort_values(\"Similarities\")\n",
    "        \n",
    "        # Every song will have a similarity score (distance) of 0 with itself,\n",
    "        # so if we just take the smallest similarity score, we'll end up with two of the same song. \n",
    "        # Take the second-smallest similarity to account for this.\n",
    "        current_lowest_similarity_score = with_similarities.get([\"Similarities\"]).iloc[0]\n",
    "        if current_lowest_similarity_score < lowest_similarity_score_seen: \n",
    "            # Update the lowest_similarity_score_seen and pair_of_songs variables.\n",
    "            # Make sure to get the names of the songs from the with_similarities DataFrame.\n",
    "            lowest_similarity_score_seen=current_lowest_similarity_score\n",
    "            pair_of_songs=np.append(pair_of_songs,tswift.get(\"Song Name\").loc[uri])\n",
    "            pair_of_songs=np.append(pair_of_songs,tswift_without_uri.get(\"Song Name\").iloc[0])\n",
    "    pair_of_songs=np.delete(pair_of_songs,np.arange(len(pair_of_songs)-2))   \n",
    "    return pair_of_songs\n",
    "\n",
    "# Once you've implemented the function, run this cell to try out an example function call.\n",
    "# DON'T CHANGE the function call below, but you can make other function calls in new cells.\n",
    "# It's totally fine if it takes up to a minute to run each function call.\n",
    "most_similar_dance_acoustic = most_similar_pair(['Danceability', 'Acousticness'])\n",
    "most_similar_dance_acoustic"
   ]
  },
  {
   "cell_type": "code",
   "execution_count": 70,
   "id": "ce6f5705",
   "metadata": {
    "deletable": false,
    "editable": false
   },
   "outputs": [
    {
     "data": {
      "text/html": [
       "<p><strong><pre style='display: inline;'>q2_7</pre></strong> passed!</p>"
      ],
      "text/plain": [
       "q2_7 results: All test cases passed!"
      ]
     },
     "execution_count": 70,
     "metadata": {},
     "output_type": "execute_result"
    }
   ],
   "source": [
    "grader.check(\"q2_7\")"
   ]
  },
  {
   "cell_type": "markdown",
   "id": "80e3c701",
   "metadata": {},
   "source": [
    "Let's put your hard work to good use. Run the cell below to find and play the pair of Taylor Swift songs that are most similar to one another, according to all the features in `default_features`."
   ]
  },
  {
   "cell_type": "code",
   "execution_count": 71,
   "id": "fa2c26c7",
   "metadata": {},
   "outputs": [
    {
     "data": {
      "text/html": [
       "\n",
       "        <iframe\n",
       "            width=\"400\"\n",
       "            height=\"75\"\n",
       "            src=\"https://open.spotify.com/embed/track/1kTPQnabROVkW9bUXdCGrB\"\n",
       "            frameborder=\"0\"\n",
       "            allowfullscreen\n",
       "        ></iframe>\n",
       "        "
      ],
      "text/plain": [
       "<IPython.lib.display.IFrame at 0x7f6f62b5bbb0>"
      ]
     },
     "metadata": {},
     "output_type": "display_data"
    },
    {
     "data": {
      "text/html": [
       "\n",
       "        <iframe\n",
       "            width=\"400\"\n",
       "            height=\"75\"\n",
       "            src=\"https://open.spotify.com/embed/track/1BxfuPKGuaTgP7aM0Bbdwr\"\n",
       "            frameborder=\"0\"\n",
       "            allowfullscreen\n",
       "        ></iframe>\n",
       "        "
      ],
      "text/plain": [
       "<IPython.lib.display.IFrame at 0x7f6f62b5b1c0>"
      ]
     },
     "metadata": {},
     "output_type": "display_data"
    }
   ],
   "source": [
    "name_1, name_2 = most_similar_pair()\n",
    "uri_1 = tswift[tswift.get('Song Name') == name_1].index[0]\n",
    "uri_2 = tswift[tswift.get('Song Name') == name_2].index[0]\n",
    "play_spotify(uri_1)\n",
    "play_spotify(uri_2)"
   ]
  },
  {
   "cell_type": "markdown",
   "id": "e4814983",
   "metadata": {},
   "source": [
    "What do you think – do they sound similar? If not, you may want to check your code!\n",
    "\n",
    "Right before Question 2.7, you got to interact with a widget that let you choose a song from `billions_club` and played the 5 most similar Taylor Swift songs, according to all features in `default_features`. Run the cell below to see a similar widget, but where the possible song options are songs in `tswift`. This time, songs are sorted first by album in alphabetical order, then by song name in alphabetical order."
   ]
  },
  {
   "cell_type": "code",
   "execution_count": 72,
   "id": "55bcca70",
   "metadata": {},
   "outputs": [
    {
     "data": {
      "application/vnd.jupyter.widget-view+json": {
       "model_id": "262c15907614416abfa6cc4a0200485c",
       "version_major": 2,
       "version_minor": 0
      },
      "text/plain": [
       "Dropdown(description='Song', index=131, layout=Layout(width='525px'), options=('Welcome To New York, from the …"
      ]
     },
     "metadata": {},
     "output_type": "display_data"
    },
    {
     "data": {
      "text/html": [
       "<h3>The song you chose was Enchanted, from the album Speak Now.</h3>"
      ],
      "text/plain": [
       "<IPython.core.display.HTML object>"
      ]
     },
     "metadata": {},
     "output_type": "display_data"
    },
    {
     "data": {
      "text/html": [
       "\n",
       "        <iframe\n",
       "            width=\"400\"\n",
       "            height=\"75\"\n",
       "            src=\"https://open.spotify.com/embed/track/3sW3oSbzsfecv9XoUdGs7h\"\n",
       "            frameborder=\"0\"\n",
       "            allowfullscreen\n",
       "        ></iframe>\n",
       "        "
      ],
      "text/plain": [
       "<IPython.lib.display.IFrame at 0x7f6f62b5adc0>"
      ]
     },
     "metadata": {},
     "output_type": "display_data"
    },
    {
     "data": {
      "text/html": [
       "<h4>Here are the 5 most similar <b>other</b> Taylor Swift songs we found.</h4>"
      ],
      "text/plain": [
       "<IPython.core.display.HTML object>"
      ]
     },
     "metadata": {},
     "output_type": "display_data"
    },
    {
     "data": {
      "text/html": [
       "\n",
       "        <iframe\n",
       "            width=\"400\"\n",
       "            height=\"75\"\n",
       "            src=\"https://open.spotify.com/embed/track/2r9CbjYgFhtAmcFv1cSquB\"\n",
       "            frameborder=\"0\"\n",
       "            allowfullscreen\n",
       "        ></iframe>\n",
       "        "
      ],
      "text/plain": [
       "<IPython.lib.display.IFrame at 0x7f6f62b5af70>"
      ]
     },
     "metadata": {},
     "output_type": "display_data"
    },
    {
     "data": {
      "text/html": [
       "\n",
       "        <iframe\n",
       "            width=\"400\"\n",
       "            height=\"75\"\n",
       "            src=\"https://open.spotify.com/embed/track/05GsNucq8Bngd9fnd4fRa0\"\n",
       "            frameborder=\"0\"\n",
       "            allowfullscreen\n",
       "        ></iframe>\n",
       "        "
      ],
      "text/plain": [
       "<IPython.lib.display.IFrame at 0x7f6f62b5af70>"
      ]
     },
     "metadata": {},
     "output_type": "display_data"
    },
    {
     "data": {
      "text/html": [
       "\n",
       "        <iframe\n",
       "            width=\"400\"\n",
       "            height=\"75\"\n",
       "            src=\"https://open.spotify.com/embed/track/0y6kdSRCVQhSsHSpWvTUm7\"\n",
       "            frameborder=\"0\"\n",
       "            allowfullscreen\n",
       "        ></iframe>\n",
       "        "
      ],
      "text/plain": [
       "<IPython.lib.display.IFrame at 0x7f6f62b5af70>"
      ]
     },
     "metadata": {},
     "output_type": "display_data"
    },
    {
     "data": {
      "text/html": [
       "\n",
       "        <iframe\n",
       "            width=\"400\"\n",
       "            height=\"75\"\n",
       "            src=\"https://open.spotify.com/embed/track/1n2wszmJyVkw6FHqyLnQsY\"\n",
       "            frameborder=\"0\"\n",
       "            allowfullscreen\n",
       "        ></iframe>\n",
       "        "
      ],
      "text/plain": [
       "<IPython.lib.display.IFrame at 0x7f6f62b5af70>"
      ]
     },
     "metadata": {},
     "output_type": "display_data"
    },
    {
     "data": {
      "text/html": [
       "\n",
       "        <iframe\n",
       "            width=\"400\"\n",
       "            height=\"75\"\n",
       "            src=\"https://open.spotify.com/embed/track/6iiAfo4wTA2CVC3Uwx9uh8\"\n",
       "            frameborder=\"0\"\n",
       "            allowfullscreen\n",
       "        ></iframe>\n",
       "        "
      ],
      "text/plain": [
       "<IPython.lib.display.IFrame at 0x7f6f62b5af70>"
      ]
     },
     "metadata": {},
     "output_type": "display_data"
    }
   ],
   "source": [
    "# Run this cell. Don't change any of the code.\n",
    "default_tswift = 'Enchanted, from the album Speak Now'\n",
    "\n",
    "def get_and_format_recommendations_tswift(song_name):\n",
    "    song, album = song_name.split(', from the album ')\n",
    "    \n",
    "    row = tswift[(tswift.get('Song Name') == song)]\n",
    "    uri = row.index[0]\n",
    "    recommendations_df = song_recommender(uri, tswift, 6, default_features)\n",
    "    display(HTML(f'<h3>The song you chose was {tswift.get(\"Song Name\").loc[uri]}, from the album {tswift.get(\"Album\").loc[uri]}.</h3>'))\n",
    "    play_spotify(recommendations_df.index[0])\n",
    "    display(HTML('<h4>Here are the 5 most similar <b>other</b> Taylor Swift songs we found.</h4>'))\n",
    "    for recommended_uri in recommendations_df.index[1:]:\n",
    "        play_spotify(recommended_uri)\n",
    "\n",
    "by_album = tswift.sort_values(['Album', 'Disc Number', 'Track Number'])\n",
    "song_options_tswift = np.array(by_album.get('Song Name') + ', from the album ' + by_album.get('Album'))\n",
    "song_widget_tswift = widgets.Dropdown(options=song_options_tswift, description='Song', layout={'width': '525px'}, value=default_tswift)\n",
    "   \n",
    "def change_rec_tswift(change):\n",
    "    if change['name'] == 'value' and change['new'] != change['old']:\n",
    "        clear_output()\n",
    "        display(song_widget_tswift)\n",
    "        get_and_format_recommendations_tswift(song_widget_tswift.value)\n",
    "\n",
    "display(song_widget_tswift)\n",
    "get_and_format_recommendations_tswift(default_tswift)\n",
    "song_widget_tswift.observe(change_rec_tswift)"
   ]
  },
  {
   "cell_type": "markdown",
   "id": "70a33944",
   "metadata": {},
   "source": [
    "Awesome job! Have you found any new songs to listen to? We have... 🎶"
   ]
  },
  {
   "cell_type": "markdown",
   "id": "803df07b",
   "metadata": {},
   "source": [
    "<a id='section3'></a>\n",
    "## Section 3: Lyric Searcher 🔍\n",
    "\n",
    "> Dark side, I search for your dark side.\n",
    "\n",
    "<small>(<a href=\"#outline\">return to the outline</a>)</small>"
   ]
  },
  {
   "cell_type": "markdown",
   "id": "2442e772",
   "metadata": {},
   "source": [
    "In this section, we'll create a Taylor Swift lyric searcher similar to [this online tool](https://shaynak.github.io/taylor-swift/) created by Shayna Kothari, a software engineer at Facebook. Run the next cell and try inputting some search terms to explore what it does!"
   ]
  },
  {
   "cell_type": "code",
   "execution_count": 73,
   "id": "5b9c8ceb",
   "metadata": {},
   "outputs": [
    {
     "data": {
      "text/html": [
       "\n",
       "        <iframe\n",
       "            width=\"800\"\n",
       "            height=\"600\"\n",
       "            src=\"https://shaynak.github.io/taylor-swift\"\n",
       "            frameborder=\"0\"\n",
       "            allowfullscreen\n",
       "        ></iframe>\n",
       "        "
      ],
      "text/plain": [
       "<IPython.lib.display.IFrame at 0x7f6f62ba31f0>"
      ]
     },
     "metadata": {},
     "output_type": "display_data"
    }
   ],
   "source": [
    "display(IFrame(src=\"https://shaynak.github.io/taylor-swift\", width=800, height=600))"
   ]
  },
  {
   "cell_type": "markdown",
   "id": "dfba83df",
   "metadata": {},
   "source": [
    "Creating our own version of this search tool will involve multiple steps, but we'll start simple and gradually increase the complexity of our search. Our search tool will have some differences from the online tool, but it will be similar.\n",
    "\n",
    "To implement our lyric searcher, we won't need any of the musical data in `tswift`, just lyrics of the songs themselves. At this point in the project, we'll switch our attention to the `lyrics` DataFrame."
   ]
  },
  {
   "cell_type": "code",
   "execution_count": 74,
   "id": "601c1554",
   "metadata": {},
   "outputs": [
    {
     "data": {
      "text/html": [
       "<div>\n",
       "<style scoped>\n",
       "    .dataframe tbody tr th:only-of-type {\n",
       "        vertical-align: middle;\n",
       "    }\n",
       "\n",
       "    .dataframe tbody tr th {\n",
       "        vertical-align: top;\n",
       "    }\n",
       "\n",
       "    .dataframe thead th {\n",
       "        text-align: right;\n",
       "    }\n",
       "</style>\n",
       "<table border=\"1\" class=\"dataframe\">\n",
       "  <thead>\n",
       "    <tr style=\"text-align: right;\">\n",
       "      <th></th>\n",
       "      <th>Album</th>\n",
       "      <th>Lyrics</th>\n",
       "    </tr>\n",
       "    <tr>\n",
       "      <th>Song</th>\n",
       "      <th></th>\n",
       "      <th></th>\n",
       "    </tr>\n",
       "  </thead>\n",
       "  <tbody>\n",
       "    <tr>\n",
       "      <th>Anti-Hero</th>\n",
       "      <td>Midnights</td>\n",
       "      <td>I have this thing where I get older, but just ...</td>\n",
       "    </tr>\n",
       "    <tr>\n",
       "      <th>Bejeweled</th>\n",
       "      <td>Midnights</td>\n",
       "      <td>Baby love, I think I've been a little too kind...</td>\n",
       "    </tr>\n",
       "    <tr>\n",
       "      <th>Bigger Than The Whole Sky</th>\n",
       "      <td>Midnights</td>\n",
       "      <td>No words appear before me in the aftermath\\nSa...</td>\n",
       "    </tr>\n",
       "    <tr>\n",
       "      <th>Dear Reader</th>\n",
       "      <td>Midnights</td>\n",
       "      <td>Dear reader, if it feels like a trap\\nYou're a...</td>\n",
       "    </tr>\n",
       "    <tr>\n",
       "      <th>Glitch</th>\n",
       "      <td>Midnights</td>\n",
       "      <td>We were supposed to be just friends\\nYou don't...</td>\n",
       "    </tr>\n",
       "    <tr>\n",
       "      <th>...</th>\n",
       "      <td>...</td>\n",
       "      <td>...</td>\n",
       "    </tr>\n",
       "    <tr>\n",
       "      <th>Stay Beautiful</th>\n",
       "      <td>Taylor Swift</td>\n",
       "      <td>Cory's eyes are like a jungle\\nHe smiles, it's...</td>\n",
       "    </tr>\n",
       "    <tr>\n",
       "      <th>Teardrops On My Guitar</th>\n",
       "      <td>Taylor Swift</td>\n",
       "      <td>Drew looks at me\\nI fake a smile so he won't s...</td>\n",
       "    </tr>\n",
       "    <tr>\n",
       "      <th>The Outside</th>\n",
       "      <td>Taylor Swift</td>\n",
       "      <td>I didn't know what I would find\\nWhen I went l...</td>\n",
       "    </tr>\n",
       "    <tr>\n",
       "      <th>Tied Together With A Smile</th>\n",
       "      <td>Taylor Swift</td>\n",
       "      <td>Seems the only one who doesn't see your beauty...</td>\n",
       "    </tr>\n",
       "    <tr>\n",
       "      <th>Tim McGraw</th>\n",
       "      <td>Taylor Swift</td>\n",
       "      <td>He said the way my blue eyes shined\\nPut those...</td>\n",
       "    </tr>\n",
       "  </tbody>\n",
       "</table>\n",
       "<p>193 rows × 2 columns</p>\n",
       "</div>"
      ],
      "text/plain": [
       "                                   Album  \\\n",
       "Song                                       \n",
       "Anti-Hero                      Midnights   \n",
       "Bejeweled                      Midnights   \n",
       "Bigger Than The Whole Sky      Midnights   \n",
       "Dear Reader                    Midnights   \n",
       "Glitch                         Midnights   \n",
       "...                                  ...   \n",
       "Stay Beautiful              Taylor Swift   \n",
       "Teardrops On My Guitar      Taylor Swift   \n",
       "The Outside                 Taylor Swift   \n",
       "Tied Together With A Smile  Taylor Swift   \n",
       "Tim McGraw                  Taylor Swift   \n",
       "\n",
       "                                                                       Lyrics  \n",
       "Song                                                                           \n",
       "Anti-Hero                   I have this thing where I get older, but just ...  \n",
       "Bejeweled                   Baby love, I think I've been a little too kind...  \n",
       "Bigger Than The Whole Sky   No words appear before me in the aftermath\\nSa...  \n",
       "Dear Reader                 Dear reader, if it feels like a trap\\nYou're a...  \n",
       "Glitch                      We were supposed to be just friends\\nYou don't...  \n",
       "...                                                                       ...  \n",
       "Stay Beautiful              Cory's eyes are like a jungle\\nHe smiles, it's...  \n",
       "Teardrops On My Guitar      Drew looks at me\\nI fake a smile so he won't s...  \n",
       "The Outside                 I didn't know what I would find\\nWhen I went l...  \n",
       "Tied Together With A Smile  Seems the only one who doesn't see your beauty...  \n",
       "Tim McGraw                  He said the way my blue eyes shined\\nPut those...  \n",
       "\n",
       "[193 rows x 2 columns]"
      ]
     },
     "execution_count": 74,
     "metadata": {},
     "output_type": "execute_result"
    }
   ],
   "source": [
    "lyrics"
   ]
  },
  {
   "cell_type": "markdown",
   "id": "d29e3607",
   "metadata": {},
   "source": [
    "**Question 3.1.** To start, create a DataFrame named `casually_cruel` that has the same index and columns as `lyrics` and a row for each song that has the exact string `'casually cruel'` in the lyrics."
   ]
  },
  {
   "cell_type": "code",
   "execution_count": 75,
   "id": "034d7e95",
   "metadata": {
    "scrolled": false
   },
   "outputs": [
    {
     "data": {
      "text/html": [
       "<div>\n",
       "<style scoped>\n",
       "    .dataframe tbody tr th:only-of-type {\n",
       "        vertical-align: middle;\n",
       "    }\n",
       "\n",
       "    .dataframe tbody tr th {\n",
       "        vertical-align: top;\n",
       "    }\n",
       "\n",
       "    .dataframe thead th {\n",
       "        text-align: right;\n",
       "    }\n",
       "</style>\n",
       "<table border=\"1\" class=\"dataframe\">\n",
       "  <thead>\n",
       "    <tr style=\"text-align: right;\">\n",
       "      <th></th>\n",
       "      <th>Album</th>\n",
       "      <th>Lyrics</th>\n",
       "    </tr>\n",
       "    <tr>\n",
       "      <th>Song</th>\n",
       "      <th></th>\n",
       "      <th></th>\n",
       "    </tr>\n",
       "  </thead>\n",
       "  <tbody>\n",
       "    <tr>\n",
       "      <th>All Too Well (10 Minute Version)</th>\n",
       "      <td>Red</td>\n",
       "      <td>I walked through the door with you, the air wa...</td>\n",
       "    </tr>\n",
       "  </tbody>\n",
       "</table>\n",
       "</div>"
      ],
      "text/plain": [
       "                                 Album  \\\n",
       "Song                                     \n",
       "All Too Well (10 Minute Version)   Red   \n",
       "\n",
       "                                                                             Lyrics  \n",
       "Song                                                                                 \n",
       "All Too Well (10 Minute Version)  I walked through the door with you, the air wa...  "
      ]
     },
     "execution_count": 75,
     "metadata": {},
     "output_type": "execute_result"
    }
   ],
   "source": [
    "q3_1_bool=np.array([])\n",
    "for lyric in np.array(lyrics.get(\"Lyrics\")):\n",
    "    if \"casually cruel\" in lyric:\n",
    "        q3_1_bool=np.append(q3_1_bool,True)\n",
    "    else:\n",
    "        q3_1_bool=np.append(q3_1_bool,False)\n",
    "q3_1_df=lyrics.assign(casually_cruel=q3_1_bool)\n",
    "#display(q3_1_df)\n",
    "casually_cruel = q3_1_df[q3_1_df.get(\"casually_cruel\")==1].drop(columns=\"casually_cruel\")\n",
    "casually_cruel"
   ]
  },
  {
   "cell_type": "code",
   "execution_count": 76,
   "id": "2f03a113",
   "metadata": {
    "deletable": false,
    "editable": false
   },
   "outputs": [
    {
     "data": {
      "text/html": [
       "<p><strong><pre style='display: inline;'>q3_1</pre></strong> passed!</p>"
      ],
      "text/plain": [
       "q3_1 results: All test cases passed!"
      ]
     },
     "execution_count": 76,
     "metadata": {},
     "output_type": "execute_result"
    }
   ],
   "source": [
    "grader.check(\"q3_1\")"
   ]
  },
  {
   "cell_type": "markdown",
   "id": "3ba878c4",
   "metadata": {},
   "source": [
    "If you search the phrase `'casually cruel'` on the lyric searcher website, or if you're a big Swiftie, you'll recognize that there's another song, `'Mr. Perfectly Fine'`, that uses this same phrase, but for some reason, it's not appearing among our search results. Try printing out the lyrics to `'Mr. Perfectly Fine'` and see if you can figure out why it doesn't appear in our `casually_cruel` DataFrame. "
   ]
  },
  {
   "cell_type": "code",
   "execution_count": 77,
   "id": "c9f9f9ff",
   "metadata": {},
   "outputs": [
    {
     "name": "stdout",
     "output_type": "stream",
     "text": [
      "Mr. \"Perfect face\"\n",
      "Mr. \"Here to stay\"\n",
      "Mr. \"Looked me in the eye and told me you would never go away\"\n",
      "Everything was right\n",
      "Mr. \"I've been waitin' for you all my life\"\n",
      "Mr. \"Every single day until the end, I will be by your side\"\n",
      "\n",
      "But that was when I got to know Mr. \"Change of heart\"\n",
      "Mr. \"Leaves me all alone,\" I fall apart\n",
      "It takes everything in me just to get up each day\n",
      "But it's wonderful to see that you're okay\n",
      "\n",
      "Hello, Mr. \"Perfectly fine\"\n",
      "How's your heart after breakin' mine?\n",
      "Mr. \"Always at the right place at the right time,\" baby\n",
      "Hello, Mr. \"Casually cruel\"\n",
      "Mr. \"Everything revolves around you\"\n",
      "I've been Miss Misery since your goodbye\n",
      "And you're Mr. \"Perfectly fine\"\n",
      "\n",
      "Mr. \"Never told me why\"\n",
      "Mr. \"Never had to see me cry\"\n",
      "Mr. \"Insincere apology so he doesn't look like the bad guy\"\n",
      "He goes about his day\n",
      "Forgets he ever even heard my name\n",
      "Well, I thought you might be different than the rest, I guess you're all the same\n",
      "\n",
      "'Cause I hear he's got his arm 'round a brand-new girl\n",
      "I've been pickin' up my heart, he's been pickin' up her\n",
      "And I never got past what you put me through\n",
      "But it's wonderful to see that it never phased you\n",
      "\n",
      "Hello, Mr. \"Perfectly fine\"\n",
      "How's your heart after breakin' mine?\n",
      "Mr. \"Always at the right place at the right time,\" baby\n",
      "Hello, Mr. \"Casually cruel\"\n",
      "Mr. \"Everything revolves around you\"\n",
      "I've been Miss Misery since your goodbye\n",
      "And you're Mr. \"Perfectly fine\"\n",
      "\n",
      "So dignified in your well-pressed suit\n",
      "So strategized, all the eyes on you\n",
      "Sashay your way to your seat\n",
      "It's the best seat, in the best room\n",
      "Oh, he's so smug, Mr. \"Always wins\"\n",
      "So far above me in every sense\n",
      "So far above feeling anything\n",
      "\n",
      "And it's really such a shame\n",
      "It's such a shame\n",
      "'Cause I was Miss \"Here to stay\"\n",
      "Now I'm Miss \"Gonna be alright someday\"\n",
      "And someday maybe you'll miss me\n",
      "But by then, you'll be Mr. \"Too late\"\n",
      "\n",
      "Goodbye, Mr. \"Perfectly fine\"\n",
      "How's your heart after breakin' mine?\n",
      "Mr. \"Always at the right place at the right time,\" baby\n",
      "Goodbye, Mr. \"Casually cruel\"\n",
      "Mr. \"Everything revolves around you\"\n",
      "I've been Miss Misery for the last time\n",
      "And you're Mr. \"Perfectly fine\"\n",
      "\n",
      "You're perfectly fine\n",
      "Mr. \"Looked me in the eye and told me you would never go away\"\n",
      "You said you'd never go away\n"
     ]
    }
   ],
   "source": [
    "# Why is Mr. Perfectly Fine not included? \n",
    "print(lyrics.get(\"Lyrics\").loc['Mr. Perfectly Fine'])"
   ]
  },
  {
   "cell_type": "markdown",
   "id": "3e468ce2",
   "metadata": {},
   "source": [
    "**Question 3.2.** Now, write a function called `phrase_match_df` with one parameter, a string `phrase`. The function should return a DataFrame with the same index and columns as `lyrics`, with a row for each song that includes the given `phrase` in the lyrics, regardless of capitalization.\n",
    "\n",
    "For example, on the input phrase of `'casually cruel'`, the function should return a DataFrame with two rows; the same two rows should be returned on the input phrase `'CASUALLY cRUEL'`."
   ]
  },
  {
   "cell_type": "code",
   "execution_count": 78,
   "id": "df05e8d4",
   "metadata": {},
   "outputs": [
    {
     "data": {
      "text/html": [
       "<div>\n",
       "<style scoped>\n",
       "    .dataframe tbody tr th:only-of-type {\n",
       "        vertical-align: middle;\n",
       "    }\n",
       "\n",
       "    .dataframe tbody tr th {\n",
       "        vertical-align: top;\n",
       "    }\n",
       "\n",
       "    .dataframe thead th {\n",
       "        text-align: right;\n",
       "    }\n",
       "</style>\n",
       "<table border=\"1\" class=\"dataframe\">\n",
       "  <thead>\n",
       "    <tr style=\"text-align: right;\">\n",
       "      <th></th>\n",
       "      <th>Album</th>\n",
       "      <th>Lyrics</th>\n",
       "    </tr>\n",
       "    <tr>\n",
       "      <th>Song</th>\n",
       "      <th></th>\n",
       "      <th></th>\n",
       "    </tr>\n",
       "  </thead>\n",
       "  <tbody>\n",
       "    <tr>\n",
       "      <th>All Too Well (10 Minute Version)</th>\n",
       "      <td>Red</td>\n",
       "      <td>I walked through the door with you, the air wa...</td>\n",
       "    </tr>\n",
       "    <tr>\n",
       "      <th>Mr. Perfectly Fine</th>\n",
       "      <td>Fearless</td>\n",
       "      <td>Mr. \"Perfect face\"\\nMr. \"Here to stay\"\\nMr. \"L...</td>\n",
       "    </tr>\n",
       "  </tbody>\n",
       "</table>\n",
       "</div>"
      ],
      "text/plain": [
       "                                     Album  \\\n",
       "Song                                         \n",
       "All Too Well (10 Minute Version)       Red   \n",
       "Mr. Perfectly Fine                Fearless   \n",
       "\n",
       "                                                                             Lyrics  \n",
       "Song                                                                                 \n",
       "All Too Well (10 Minute Version)  I walked through the door with you, the air wa...  \n",
       "Mr. Perfectly Fine                Mr. \"Perfect face\"\\nMr. \"Here to stay\"\\nMr. \"L...  "
      ]
     },
     "execution_count": 78,
     "metadata": {},
     "output_type": "execute_result"
    }
   ],
   "source": [
    "def phrase_match_df(phrase):\n",
    "    function_bool=np.array([])\n",
    "    new_phrase=phrase.lower()\n",
    "    for lyric in np.array(lyrics.get(\"Lyrics\")):\n",
    "        new_lyric=lyric.lower()\n",
    "        if new_phrase in new_lyric:\n",
    "            function_bool=np.append(function_bool,True)\n",
    "        else:\n",
    "            function_bool=np.append(function_bool,False)\n",
    "    function_df=lyrics.assign(contains_phrase=function_bool)\n",
    "    return function_df[function_df.get(\"contains_phrase\")==1].drop(columns='contains_phrase')\n",
    "\n",
    "# Feel free to change the argument in the function call below to experiment!\n",
    "phrase_match_df('CASUALLY cRUEL')"
   ]
  },
  {
   "cell_type": "code",
   "execution_count": 79,
   "id": "16501d3c",
   "metadata": {
    "deletable": false,
    "editable": false
   },
   "outputs": [
    {
     "data": {
      "text/html": [
       "<p><strong><pre style='display: inline;'>q3_2</pre></strong> passed!</p>"
      ],
      "text/plain": [
       "q3_2 results: All test cases passed!"
      ]
     },
     "execution_count": 79,
     "metadata": {},
     "output_type": "execute_result"
    }
   ],
   "source": [
    "grader.check(\"q3_2\")"
   ]
  },
  {
   "cell_type": "markdown",
   "id": "21a10f8f",
   "metadata": {},
   "source": [
    "Let's try to figure out exactly where in a song a certain phrase appears. For example, we know the phrase `'casually cruel'` appears in `'All Too Well (10 Minute Version)'` but what line(s) is it a part of? Does it appear several times or just once?\n",
    "\n",
    "First, when we refer to a line of a song, we're referring to what gets printed on its own line when the lyrics are printed. Lines *can* be blank, which usually happens as a separator between different parts of the song, such as the chorus and the verse. For example, the fifth line of `'Mastermind'` is blank, as you can see below."
   ]
  },
  {
   "cell_type": "code",
   "execution_count": 80,
   "id": "e236078f",
   "metadata": {
    "scrolled": true
   },
   "outputs": [
    {
     "name": "stdout",
     "output_type": "stream",
     "text": [
      "Once upon a time, the planets and the fates\n",
      "And all the stars aligned\n",
      "You and I ended up in the same room\n",
      "At the same time\n",
      "\n",
      "And the touch of a hand lit the fuse\n",
      "Of a chain reaction of countermoves\n",
      "To assess the equation of you\n",
      "Checkmate, I couldn't lose\n",
      "\n",
      "What if I told you none of it was accidental?\n",
      "And the first night that you saw me\n",
      "Nothing was gonna stop me\n",
      "I laid the groundwork, and then\n",
      "Just like clockwork\n",
      "The dominoes cascaded in a line\n",
      "What if I told you I'm a mastermind?\n",
      "And now you're mine\n",
      "It was all by dеsign\n",
      "'Cause I'm a mastermind\n",
      "\n",
      "You see, all the wisеst women\n",
      "Had to do it this way\n",
      "'Cause we were born to be the pawn\n",
      "In every lover's game\n",
      "\n",
      "If you fail to plan, you plan to fail\n",
      "Strategy sets the scene for the tale\n",
      "I'm the wind in our free-flowing sails\n",
      "And the liquor in our cocktails\n",
      "\n",
      "What if I told you none of it was accidental?\n",
      "And the first night that you saw me\n",
      "I knew I wanted your body\n",
      "I laid the groundwork, and then\n",
      "Just like clockwork\n",
      "The dominoes cascaded in a line\n",
      "What if I told you I'm a mastermind?\n",
      "And now you're mine\n",
      "It was all my design\n",
      "'Cause I'm a mastermind\n",
      "\n",
      "No one wanted to play with me as a little kid\n",
      "So I've been scheming like a criminal ever since\n",
      "To make them love me and make it seem effortless\n",
      "This is the first time I've felt the need to confess\n",
      "And I swear\n",
      "I'm only cryptic and Machiavellian\n",
      "'Cause I care\n",
      "\n",
      "So I told you none of it was accidental\n",
      "And the first night that you saw me\n",
      "Nothing was gonna stop me\n",
      "I laid the groundwork, and then\n",
      "Saw a wide smirk on your face\n",
      "You knew the entire time\n",
      "You knew that I'm a mastermind\n",
      "And now you're mine\n",
      "Yeah, all you did was smile\n",
      "'Cause I'm a mastermind\n"
     ]
    }
   ],
   "source": [
    "print(mastermind)"
   ]
  },
  {
   "cell_type": "markdown",
   "id": "b7de5ae9",
   "metadata": {},
   "source": [
    "**Question 3.3.** Set the variable `fine_lines` to a list of all the lines of `'Mr. Perfectly Fine'`. Some of these lines will be blank (meaning they will appear as empty strings).\n",
    "\n",
    "***Hint:*** Lines are separated by newline characters `'\\n'`."
   ]
  },
  {
   "cell_type": "code",
   "execution_count": 81,
   "id": "19028b29",
   "metadata": {},
   "outputs": [
    {
     "data": {
      "text/plain": [
       "['Mr. \"Perfect face\"',\n",
       " 'Mr. \"Here to stay\"',\n",
       " 'Mr. \"Looked me in the eye and told me you would never go away\"',\n",
       " 'Everything was right',\n",
       " 'Mr. \"I\\'ve been waitin\\' for you all my life\"',\n",
       " 'Mr. \"Every single day until the end, I will be by your side\"',\n",
       " '',\n",
       " 'But that was when I got to know Mr. \"Change of heart\"',\n",
       " 'Mr. \"Leaves me all alone,\" I fall apart',\n",
       " 'It takes everything in me just to get up each day',\n",
       " \"But it's wonderful to see that you're okay\",\n",
       " '',\n",
       " 'Hello, Mr. \"Perfectly fine\"',\n",
       " \"How's your heart after breakin' mine?\",\n",
       " 'Mr. \"Always at the right place at the right time,\" baby',\n",
       " 'Hello, Mr. \"Casually cruel\"',\n",
       " 'Mr. \"Everything revolves around you\"',\n",
       " \"I've been Miss Misery since your goodbye\",\n",
       " 'And you\\'re Mr. \"Perfectly fine\"',\n",
       " '',\n",
       " 'Mr. \"Never told me why\"',\n",
       " 'Mr. \"Never had to see me cry\"',\n",
       " 'Mr. \"Insincere apology so he doesn\\'t look like the bad guy\"',\n",
       " 'He goes about his day',\n",
       " 'Forgets he ever even heard my name',\n",
       " \"Well, I thought you might be different than the rest, I guess you're all the same\",\n",
       " '',\n",
       " \"'Cause I hear he's got his arm 'round a brand-new girl\",\n",
       " \"I've been pickin' up my heart, he's been pickin' up her\",\n",
       " 'And I never got past what you put me through',\n",
       " \"But it's wonderful to see that it never phased you\",\n",
       " '',\n",
       " 'Hello, Mr. \"Perfectly fine\"',\n",
       " \"How's your heart after breakin' mine?\",\n",
       " 'Mr. \"Always at the right place at the right time,\" baby',\n",
       " 'Hello, Mr. \"Casually cruel\"',\n",
       " 'Mr. \"Everything revolves around you\"',\n",
       " \"I've been Miss Misery since your goodbye\",\n",
       " 'And you\\'re Mr. \"Perfectly fine\"',\n",
       " '',\n",
       " 'So dignified in your well-pressed suit',\n",
       " 'So strategized, all the eyes on you',\n",
       " 'Sashay your way to your seat',\n",
       " \"It's the best seat, in the best room\",\n",
       " 'Oh, he\\'s so smug, Mr. \"Always wins\"',\n",
       " 'So far above me in every sense',\n",
       " 'So far above feeling anything',\n",
       " '',\n",
       " \"And it's really such a shame\",\n",
       " \"It's such a shame\",\n",
       " '\\'Cause I was Miss \"Here to stay\"',\n",
       " 'Now I\\'m Miss \"Gonna be alright someday\"',\n",
       " \"And someday maybe you'll miss me\",\n",
       " 'But by then, you\\'ll be Mr. \"Too late\"',\n",
       " '',\n",
       " 'Goodbye, Mr. \"Perfectly fine\"',\n",
       " \"How's your heart after breakin' mine?\",\n",
       " 'Mr. \"Always at the right place at the right time,\" baby',\n",
       " 'Goodbye, Mr. \"Casually cruel\"',\n",
       " 'Mr. \"Everything revolves around you\"',\n",
       " \"I've been Miss Misery for the last time\",\n",
       " 'And you\\'re Mr. \"Perfectly fine\"',\n",
       " '',\n",
       " \"You're perfectly fine\",\n",
       " 'Mr. \"Looked me in the eye and told me you would never go away\"',\n",
       " \"You said you'd never go away\"]"
      ]
     },
     "execution_count": 81,
     "metadata": {},
     "output_type": "execute_result"
    }
   ],
   "source": [
    "fine_lines = lyrics.get(\"Lyrics\").loc['Mr. Perfectly Fine'].split('\\n')\n",
    "fine_lines"
   ]
  },
  {
   "cell_type": "code",
   "execution_count": 82,
   "id": "21cc9849",
   "metadata": {
    "deletable": false,
    "editable": false
   },
   "outputs": [
    {
     "data": {
      "text/html": [
       "<p><strong><pre style='display: inline;'>q3_3</pre></strong> passed!</p>"
      ],
      "text/plain": [
       "q3_3 results: All test cases passed!"
      ]
     },
     "execution_count": 82,
     "metadata": {},
     "output_type": "execute_result"
    }
   ],
   "source": [
    "grader.check(\"q3_3\")"
   ]
  },
  {
   "cell_type": "markdown",
   "id": "67c4a51f",
   "metadata": {},
   "source": [
    "**Question 3.4.** Loop through the list `fine_lines`, and when you encounter a line that contains the phrase `'casually cruel'` (with any capitalization), append that line to the array `cruel_fine_lines`, which we have already initialized to be empty.\n",
    "\n",
    "Note that when you append a line to `cruel_fine_lines`, the line should maintain the capitalization of the original lyrics. They should also appear in the same order they appear in `fine_lines`. If there are duplicate lines, include all occurrences of the line."
   ]
  },
  {
   "cell_type": "code",
   "execution_count": 83,
   "id": "ca4cdc81",
   "metadata": {},
   "outputs": [
    {
     "data": {
      "text/plain": [
       "array(['Hello, Mr. \"Casually cruel\"', 'Hello, Mr. \"Casually cruel\"',\n",
       "       'Goodbye, Mr. \"Casually cruel\"'], dtype='<U32')"
      ]
     },
     "execution_count": 83,
     "metadata": {},
     "output_type": "execute_result"
    }
   ],
   "source": [
    "phrase = 'casually cruel'\n",
    "cruel_fine_lines = np.array([])\n",
    "for line in fine_lines:\n",
    "    if 'casually cruel' in line.lower():\n",
    "        cruel_fine_lines=np.append(cruel_fine_lines,line)\n",
    "cruel_fine_lines"
   ]
  },
  {
   "cell_type": "code",
   "execution_count": 84,
   "id": "050c8844",
   "metadata": {
    "deletable": false,
    "editable": false
   },
   "outputs": [
    {
     "data": {
      "text/html": [
       "<p><strong><pre style='display: inline;'>q3_4</pre></strong> passed!</p>"
      ],
      "text/plain": [
       "q3_4 results: All test cases passed!"
      ]
     },
     "execution_count": 84,
     "metadata": {},
     "output_type": "execute_result"
    }
   ],
   "source": [
    "grader.check(\"q3_4\")"
   ]
  },
  {
   "cell_type": "markdown",
   "id": "7107c61c",
   "metadata": {},
   "source": [
    "**Question 3.5.** Now, we're ready to generalize our work so that we can search for *any* phrase in *any* song. Complete the implementation of the function `isolate_phrase`, which takes as input the name of a song in the `lyrics` DataFrame and a phrase to search for, and returns an array of all lines in the song containing the phrase. \n",
    "\n",
    "As in the previous question, this should be a case-insensitive search, meaning the phrase is considered a match even if it appears with different capitalization, though the line you add to the output array should have the original capitalization of the song lyrics. \n",
    "\n",
    "The search should also include results where the target phrase appears as part of a longer word or phrase. For example, the output of `isolate_phrase('Midnights', 'plan')` should include the line `'Once upon a time, the planets and the fates'` because `'plan'` is a part of `'planets'`. Note that this is not necessarily desirable behavior, but it's the most straightforward to implement because we can use the [string method `.count()`](https://www.programiz.com/python-programming/methods/string/count) to count the number of occurrences of a substring in a string.\n",
    "\n",
    "Be careful: sometimes the same phrase can appear multiple times in a single line. When that happens, the line should only appear in the output array once."
   ]
  },
  {
   "cell_type": "code",
   "execution_count": 85,
   "id": "d0fda5d3",
   "metadata": {
    "scrolled": true
   },
   "outputs": [
    {
     "data": {
      "text/plain": [
       "array(['Once upon a time, the planets and the fates',\n",
       "       'If you fail to plan, you plan to fail'], dtype='<U43')"
      ]
     },
     "execution_count": 85,
     "metadata": {},
     "output_type": "execute_result"
    }
   ],
   "source": [
    "def isolate_phrase(song_title, phrase):\n",
    "    output_array = np.array([])\n",
    "    song_lines=lyrics.get(\"Lyrics\").loc[song_title].split('\\n')\n",
    "    for line in song_lines:\n",
    "        if phrase.lower() in line.lower():\n",
    "            output_array=np.append(output_array,line)\n",
    "    return output_array\n",
    "\n",
    "isolate_phrase('Mastermind', 'plan')"
   ]
  },
  {
   "cell_type": "code",
   "execution_count": 86,
   "id": "63e3d11b",
   "metadata": {
    "deletable": false,
    "editable": false
   },
   "outputs": [
    {
     "data": {
      "text/html": [
       "<p><strong><pre style='display: inline;'>q3_5</pre></strong> passed!</p>"
      ],
      "text/plain": [
       "q3_5 results: All test cases passed!"
      ]
     },
     "execution_count": 86,
     "metadata": {},
     "output_type": "execute_result"
    }
   ],
   "source": [
    "grader.check(\"q3_5\")"
   ]
  },
  {
   "cell_type": "markdown",
   "id": "8ea900a5",
   "metadata": {},
   "source": [
    "When we search the lyric searcher website for a specific phrase, notice that it displays not only the line where the search term was found, but also the lines immediately before and after, if they exist. \n",
    "\n",
    "Let's look closely at the four instances of the word `'time'` in the song `'Mastermind'` and see how these search results are displayed on the website.\n",
    "\n",
    "<img src=\"data/images/mastermind_time.jpg\" width=100%>"
   ]
  },
  {
   "cell_type": "markdown",
   "id": "a190f873",
   "metadata": {},
   "source": [
    "If there is a match for `'time'` in the first line, like `'Once upon a time'`, there is no previous line of the song. As a result, this line and the next are the only two lines in the output.\n",
    "\n",
    "If there is a match anywhere besides the first and last lines, there is a previous line and a next line, so all three lines should get added to the output. It's possible that the previous line or next line is blank; for instance, this happens in the second match in the example above, `'At the same time'`, which is followed by a blank line because it is at the end of the first verse.\n",
    "\n",
    "If there is a match in the last line, the previous line and the matching line should be output, but there is no next line."
   ]
  },
  {
   "cell_type": "markdown",
   "id": "a080297d",
   "metadata": {},
   "source": [
    "**Question 3.6.** ⭐⭐ Let's now define a function, `surround_phrase`, that works similarly to `isolate_phrase` except instead of only appending to the output array the lines where a match occurs, it should also append the previous and next lines, if they exist (even if they are blank lines). \n",
    "\n",
    "Start with the code you wrote for `isolate_phrase` and modify as needed. Instead of looping through all the lines, you'll want to handle matches in the first line and last line separately from matches in the middle. Think about three cases of matches: a match in the first line, a match in the middle, and a match in the last line.\n",
    "\n",
    "Example behavior is given below. \n",
    "\n",
    "```py\n",
    ">>> surround_phrase('Mastermind', 'time')\n",
    "\n",
    "array(['Once upon a time, the planets and the fates',\n",
    "       'And all the stars aligned', \n",
    "       'You and I ended up in the same room',\n",
    "       'At the same time', \n",
    "       '',\n",
    "       'To make them love me and make it seem effortless',\n",
    "       \"This is the first time I've felt the need to confess\",\n",
    "       'And I swear', \n",
    "       'Saw a wide smirk on your face',\n",
    "       'You knew the entire time', \n",
    "       \"You knew that I'm a mastermind\"],\n",
    "      dtype='<U52')\n",
    "```"
   ]
  },
  {
   "cell_type": "code",
   "execution_count": 87,
   "id": "2016c850",
   "metadata": {
    "scrolled": true
   },
   "outputs": [
    {
     "data": {
      "text/plain": [
       "array(['Once upon a time, the planets and the fates',\n",
       "       'And all the stars aligned', 'You and I ended up in the same room',\n",
       "       'At the same time', '',\n",
       "       'To make them love me and make it seem effortless',\n",
       "       \"This is the first time I've felt the need to confess\",\n",
       "       'And I swear', 'Saw a wide smirk on your face',\n",
       "       'You knew the entire time', \"You knew that I'm a mastermind\"],\n",
       "      dtype='<U52')"
      ]
     },
     "execution_count": 87,
     "metadata": {},
     "output_type": "execute_result"
    }
   ],
   "source": [
    "def surround_phrase(song_title, phrase):\n",
    "    output_array=np.array([])\n",
    "    indices_array = np.array([])\n",
    "    song_lines=lyrics.get(\"Lyrics\").loc[song_title].split('\\n')\n",
    "    song_length=len(song_lines)\n",
    "    for i in np.arange(song_length):\n",
    "        if phrase.lower() in song_lines[i].lower():\n",
    "            indices_array=np.append(indices_array,i)\n",
    "    for index in indices_array:\n",
    "        if index==0:\n",
    "            output_array=np.append(output_array,song_lines[0:2])\n",
    "        elif index==song_length-1:\n",
    "            output_array=np.append(output_array,song_lines[song_length-2:song_length])\n",
    "        else:\n",
    "            output_array=np.append(output_array,song_lines[int(index)-1:int(index)+2])\n",
    "    return output_array\n",
    "\n",
    "surround_phrase('Mastermind', 'time')"
   ]
  },
  {
   "cell_type": "code",
   "execution_count": 88,
   "id": "1459da56",
   "metadata": {
    "deletable": false,
    "editable": false
   },
   "outputs": [
    {
     "data": {
      "text/html": [
       "<p><strong><pre style='display: inline;'>q3_6</pre></strong> passed!</p>"
      ],
      "text/plain": [
       "q3_6 results: All test cases passed!"
      ]
     },
     "execution_count": 88,
     "metadata": {},
     "output_type": "execute_result"
    }
   ],
   "source": [
    "grader.check(\"q3_6\")"
   ]
  },
  {
   "cell_type": "markdown",
   "id": "0bcb3bb5",
   "metadata": {},
   "source": [
    "Our lyric searcher is looking more like the website, but it's hard to parse the output. Let's make the output array easier to understand by doing what the website does: including the name of the song and album after each match. "
   ]
  },
  {
   "cell_type": "markdown",
   "id": "52dbbb44",
   "metadata": {},
   "source": [
    "**Question 3.7.** Write a function called `one_song_search` that works similarly to `surround_phrase`, except it should also append to the array a string that includes the song name and album name, after each match. Format this string like this: `'Song Name, Album Name'`, where the capitalization and spelling of song and album names are exactly as the appear in `lyrics`.\n",
    "\n",
    "***Hint:*** We solved this problem by taking our code from `surround_phrase` and adding four lines of code to it. The first calculated the name of the album the song was from. The other three lines of code each appended a string with the song and album. We needed three such appends to deal with the three cases: a match in the first line, a match in a middle line, and a match in the last line."
   ]
  },
  {
   "cell_type": "code",
   "execution_count": 89,
   "id": "1aa56733",
   "metadata": {},
   "outputs": [
    {
     "data": {
      "text/plain": [
       "array(['Once upon a time, the planets and the fates',\n",
       "       'And all the stars aligned', 'Mastermind, Midnights',\n",
       "       'You and I ended up in the same room', 'At the same time', '',\n",
       "       'Mastermind, Midnights',\n",
       "       'To make them love me and make it seem effortless',\n",
       "       \"This is the first time I've felt the need to confess\",\n",
       "       'And I swear', 'Mastermind, Midnights',\n",
       "       'Saw a wide smirk on your face', 'You knew the entire time',\n",
       "       \"You knew that I'm a mastermind\", 'Mastermind, Midnights'],\n",
       "      dtype='<U52')"
      ]
     },
     "execution_count": 89,
     "metadata": {},
     "output_type": "execute_result"
    }
   ],
   "source": [
    "def one_song_search(song_title, phrase):\n",
    "    output_array=np.array([])\n",
    "    indices_array = np.array([])\n",
    "    song_lines=lyrics.get(\"Lyrics\").loc[song_title].split('\\n')\n",
    "    song_length=len(song_lines)\n",
    "    for i in np.arange(song_length):\n",
    "        if phrase.lower() in song_lines[i].lower():\n",
    "            indices_array=np.append(indices_array,int(i))\n",
    "    for index in indices_array:\n",
    "        if index==0:\n",
    "            output_array=np.append(output_array,song_lines[0:2])\n",
    "            output_array=np.append(output_array,song_title+\", \"+lyrics.get(\"Album\").loc[song_title])\n",
    "        elif index==song_length-1:\n",
    "            output_array=np.append(output_array,song_lines[song_length-2:song_length])\n",
    "            output_array=np.append(output_array,song_title+\", \"+lyrics.get(\"Album\").loc[song_title])\n",
    "        else:\n",
    "            output_array=np.append(output_array,song_lines[int(index)-1:int(index)+2])\n",
    "            output_array=np.append(output_array,song_title+\", \"+lyrics.get(\"Album\").loc[song_title])\n",
    "    return output_array\n",
    "    \n",
    "one_song_search('Mastermind', 'time')"
   ]
  },
  {
   "cell_type": "code",
   "execution_count": 90,
   "id": "5621edae",
   "metadata": {
    "deletable": false,
    "editable": false
   },
   "outputs": [
    {
     "data": {
      "text/html": [
       "<p><strong><pre style='display: inline;'>q3_7</pre></strong> passed!</p>"
      ],
      "text/plain": [
       "q3_7 results: All test cases passed!"
      ]
     },
     "execution_count": 90,
     "metadata": {},
     "output_type": "execute_result"
    }
   ],
   "source": [
    "grader.check(\"q3_7\")"
   ]
  },
  {
   "cell_type": "markdown",
   "id": "f526381a",
   "metadata": {},
   "source": [
    "We now have search results for a single song, but we need to extend our search to the entire body of Taylor Swift's work. To do this, we'll first use our `phrase_match_df` function from earlier to create a smaller DataFrame of just the songs that contain our target phrase. Then we'll loop through the entries in the `'Lyrics'` column of this smaller DataFrame and call our `one_song_search` function on each song's lyrics."
   ]
  },
  {
   "cell_type": "markdown",
   "id": "13043cd2",
   "metadata": {},
   "source": [
    "**Question 3.8.** Fill in the blanks below to try out the strategy outlined above to search for `'fifteen'` in all of Taylor Swift's songs. We've initialized an empty array called `fifteen_array`, where you should store all of your matches from all songs. \n",
    "\n",
    "***Hint:*** We usually use `np.append` to append a single item to an array. However, you can also use it to append a whole array of items to an array. "
   ]
  },
  {
   "cell_type": "code",
   "execution_count": 91,
   "id": "e4db31dd",
   "metadata": {},
   "outputs": [
    {
     "data": {
      "text/plain": [
       "array([\"And every single one of your friends was makin' fun of you\",\n",
       "       \"But fifteen seconds later, thеy were clappin' too?\",\n",
       "       'Then what did you do?', 'Question...?, Midnights',\n",
       "       \"And every single one of your friends was makin' fun of you\",\n",
       "       \"But fifteen seconds later, they were clappin' too?\",\n",
       "       'Then what did you do?', 'Question...?, Midnights',\n",
       "       \"And every single one of your friends was makin' fun of you (Makin' fun of you)\",\n",
       "       \"But fifteen seconds later, they were clappin' too?\",\n",
       "       'Then what did you do? (Do)', 'Question...?, Midnights', '',\n",
       "       'Fifteen years, fifteen million tears',\n",
       "       \"Begging 'til my knees bled\", \"it's time to go, evermore\", '',\n",
       "       'Good thing my daddy made me get a boating license when I was fifteen',\n",
       "       \"And I've cleaned enough houses to know how to cover up a scene\",\n",
       "       'no body, no crime (Ft. HAIM), evermore', '',\n",
       "       'In the fifteen hundreds off in a foreign land',\n",
       "       'And I was forced to marry another man', 'Timeless, Speak Now', '',\n",
       "       \"'Cause when you're fifteen and somebody tells you they love you\",\n",
       "       \"You're gonna believe them\", 'Fifteen, Fearless',\n",
       "       \"You're gonna believe them\",\n",
       "       \"And when you're fifteen, feelin' like there's nothin' to figure out\",\n",
       "       'Well, count to ten, take it in', 'Fifteen, Fearless',\n",
       "       \"This is life before you know who you're gonna be\", 'At fifteen',\n",
       "       '', 'Fifteen, Fearless', '',\n",
       "       \"'Cause when you're fifteen and somebody tells you they love you\",\n",
       "       \"You're gonna believe them\", 'Fifteen, Fearless',\n",
       "       \"You're gonna believe them\",\n",
       "       \"And when you're fifteen and your first kiss\",\n",
       "       'Makes your head spin around, well', 'Fifteen, Fearless',\n",
       "       \"Datin' the boy on the football team\",\n",
       "       \"I didn't know it at fifteen\", '', 'Fifteen, Fearless', '',\n",
       "       \"'Cause when you're fifteen and somebody tells you they love you\",\n",
       "       \"You're gonna believe them\", 'Fifteen, Fearless',\n",
       "       \"You're gonna believe them\",\n",
       "       \"And when you're fifteen, don't forget to look before you fall\",\n",
       "       \"But I've found time can heal most anything\", 'Fifteen, Fearless',\n",
       "       \"I didn't know who I was supposed to be\", 'At fifteen', '',\n",
       "       'Fifteen, Fearless'], dtype='<U78')"
      ]
     },
     "execution_count": 91,
     "metadata": {},
     "output_type": "execute_result"
    }
   ],
   "source": [
    "fifteen_songs = phrase_match_df('fifteen')\n",
    "fifteen_array = np.array([])\n",
    "for song_title in fifteen_songs.index:\n",
    "    fifteen_array=np.append(fifteen_array,one_song_search(song_title,'fifteen'))\n",
    "fifteen_array"
   ]
  },
  {
   "cell_type": "code",
   "execution_count": 92,
   "id": "f7413e15",
   "metadata": {
    "deletable": false,
    "editable": false
   },
   "outputs": [
    {
     "data": {
      "text/html": [
       "<p><strong><pre style='display: inline;'>q3_8</pre></strong> passed!</p>"
      ],
      "text/plain": [
       "q3_8 results: All test cases passed!"
      ]
     },
     "execution_count": 92,
     "metadata": {},
     "output_type": "execute_result"
    }
   ],
   "source": [
    "grader.check(\"q3_8\")"
   ]
  },
  {
   "cell_type": "markdown",
   "id": "ccceff08",
   "metadata": {},
   "source": [
    "**Question 3.9.** Generalize the previous example by writing a function `search_for` that takes a phrase as input and searches all of Taylor Swift's songs for that phrase, returning an output array as we've discussed. For example, `search_for('fifteen')` should return an array with the same contents as `fifteen_array` above."
   ]
  },
  {
   "cell_type": "code",
   "execution_count": 93,
   "id": "aea79f82",
   "metadata": {},
   "outputs": [
    {
     "data": {
      "text/plain": [
       "array([\"And every single one of your friends was makin' fun of you\",\n",
       "       \"But fifteen seconds later, thеy were clappin' too?\",\n",
       "       'Then what did you do?', 'Question...?, Midnights',\n",
       "       \"And every single one of your friends was makin' fun of you\",\n",
       "       \"But fifteen seconds later, they were clappin' too?\",\n",
       "       'Then what did you do?', 'Question...?, Midnights',\n",
       "       \"And every single one of your friends was makin' fun of you (Makin' fun of you)\",\n",
       "       \"But fifteen seconds later, they were clappin' too?\",\n",
       "       'Then what did you do? (Do)', 'Question...?, Midnights', '',\n",
       "       'Fifteen years, fifteen million tears',\n",
       "       \"Begging 'til my knees bled\", \"it's time to go, evermore\", '',\n",
       "       'Good thing my daddy made me get a boating license when I was fifteen',\n",
       "       \"And I've cleaned enough houses to know how to cover up a scene\",\n",
       "       'no body, no crime (Ft. HAIM), evermore', '',\n",
       "       'In the fifteen hundreds off in a foreign land',\n",
       "       'And I was forced to marry another man', 'Timeless, Speak Now', '',\n",
       "       \"'Cause when you're fifteen and somebody tells you they love you\",\n",
       "       \"You're gonna believe them\", 'Fifteen, Fearless',\n",
       "       \"You're gonna believe them\",\n",
       "       \"And when you're fifteen, feelin' like there's nothin' to figure out\",\n",
       "       'Well, count to ten, take it in', 'Fifteen, Fearless',\n",
       "       \"This is life before you know who you're gonna be\", 'At fifteen',\n",
       "       '', 'Fifteen, Fearless', '',\n",
       "       \"'Cause when you're fifteen and somebody tells you they love you\",\n",
       "       \"You're gonna believe them\", 'Fifteen, Fearless',\n",
       "       \"You're gonna believe them\",\n",
       "       \"And when you're fifteen and your first kiss\",\n",
       "       'Makes your head spin around, well', 'Fifteen, Fearless',\n",
       "       \"Datin' the boy on the football team\",\n",
       "       \"I didn't know it at fifteen\", '', 'Fifteen, Fearless', '',\n",
       "       \"'Cause when you're fifteen and somebody tells you they love you\",\n",
       "       \"You're gonna believe them\", 'Fifteen, Fearless',\n",
       "       \"You're gonna believe them\",\n",
       "       \"And when you're fifteen, don't forget to look before you fall\",\n",
       "       \"But I've found time can heal most anything\", 'Fifteen, Fearless',\n",
       "       \"I didn't know who I was supposed to be\", 'At fifteen', '',\n",
       "       'Fifteen, Fearless'], dtype='<U78')"
      ]
     },
     "execution_count": 93,
     "metadata": {},
     "output_type": "execute_result"
    }
   ],
   "source": [
    "def search_for(phrase):\n",
    "    output_array=np.array([])\n",
    "    phrase_songs=phrase_match_df(phrase)\n",
    "    for song_title in phrase_songs.index:        \n",
    "        indices_array = np.array([])\n",
    "        song_lines=lyrics.get(\"Lyrics\").loc[song_title].split('\\n')\n",
    "        song_length=len(song_lines)\n",
    "        for i in np.arange(song_length):\n",
    "            if phrase.lower() in song_lines[i].lower():\n",
    "                indices_array=np.append(indices_array,int(i))\n",
    "        for index in indices_array:\n",
    "            if index==0:\n",
    "                output_array=np.append(output_array,song_lines[0:2])\n",
    "                output_array=np.append(output_array,song_title+\", \"+lyrics.get(\"Album\").loc[song_title])\n",
    "            elif index==song_length-1:\n",
    "                output_array=np.append(output_array,song_lines[song_length-2:song_length])\n",
    "                output_array=np.append(output_array,song_title+\", \"+lyrics.get(\"Album\").loc[song_title])\n",
    "            else:\n",
    "                output_array=np.append(output_array,song_lines[int(index)-1:int(index)+2])\n",
    "                output_array=np.append(output_array,song_title+\", \"+lyrics.get(\"Album\").loc[song_title])\n",
    "    return output_array\n",
    "\n",
    "# Feel free to change the function call below.\n",
    "# Make sure to try some other words and phrases.\n",
    "search_for('fifteen')"
   ]
  },
  {
   "cell_type": "code",
   "execution_count": 94,
   "id": "e4f6cf6a",
   "metadata": {
    "deletable": false,
    "editable": false
   },
   "outputs": [
    {
     "data": {
      "text/html": [
       "<p><strong><pre style='display: inline;'>q3_9</pre></strong> passed!</p>"
      ],
      "text/plain": [
       "q3_9 results: All test cases passed!"
      ]
     },
     "execution_count": 94,
     "metadata": {},
     "output_type": "execute_result"
    }
   ],
   "source": [
    "grader.check(\"q3_9\")"
   ]
  },
  {
   "cell_type": "markdown",
   "id": "af666d6b",
   "metadata": {},
   "source": [
    "Our search tool works pretty well! However, it's still very hard to read the output in this format. Let's display it more nicely, and at the same time, implement something that the website has: a count of the total number of matches (usages), and the number of songs with a match. For example, the search term `'fifteen'` is used 16 times in 5 songs throughout Taylor Swift's repertoire."
   ]
  },
  {
   "cell_type": "markdown",
   "id": "0e7116c1",
   "metadata": {},
   "source": [
    "<img src=\"data/images/fifteen.jpg\" width=60%>"
   ]
  },
  {
   "cell_type": "markdown",
   "id": "a1bfe9cf",
   "metadata": {},
   "source": [
    "**Question 3.10.** Complete the implementation of the function `search_and_display`, which takes as input a phrase to search for, calls the function `search_for` on that input phrase, and then nicely displays the output. In addition, the `search_and_display` function should calculate the total number of usages of the input phrase across all songs, as well as the number of songs in which the input phrase appears, and return both of these values in a list whose first element is the number of usages and whose second element is the number of songs.\n",
    "\n",
    "We've provided the code to do the displaying; you don't need to understand how this works. Your job is to calculate the total number of usages in `num_usages` and the number of songs in `num_songs`, and to return a list of two elements as described. You'll see a comment that says `# TODO` above every line you need to complete."
   ]
  },
  {
   "cell_type": "code",
   "execution_count": 95,
   "id": "98d2bb7b",
   "metadata": {
    "scrolled": false
   },
   "outputs": [
    {
     "data": {
      "text/html": [
       "<center>And every single one of your friends was makin' fun of you</center>"
      ],
      "text/plain": [
       "<IPython.core.display.HTML object>"
      ]
     },
     "metadata": {},
     "output_type": "display_data"
    },
    {
     "data": {
      "text/html": [
       "<center>But fifteen seconds later, thеy were clappin' too?</center>"
      ],
      "text/plain": [
       "<IPython.core.display.HTML object>"
      ]
     },
     "metadata": {},
     "output_type": "display_data"
    },
    {
     "data": {
      "text/html": [
       "<center>Then what did you do?</center>"
      ],
      "text/plain": [
       "<IPython.core.display.HTML object>"
      ]
     },
     "metadata": {},
     "output_type": "display_data"
    },
    {
     "data": {
      "text/html": [
       "<center><b><i>Question...?, Midnights</i></b></center>"
      ],
      "text/plain": [
       "<IPython.core.display.HTML object>"
      ]
     },
     "metadata": {},
     "output_type": "display_data"
    },
    {
     "data": {
      "text/markdown": [
       "___"
      ],
      "text/plain": [
       "<IPython.core.display.Markdown object>"
      ]
     },
     "metadata": {},
     "output_type": "display_data"
    },
    {
     "data": {
      "text/html": [
       "<center>And every single one of your friends was makin' fun of you</center>"
      ],
      "text/plain": [
       "<IPython.core.display.HTML object>"
      ]
     },
     "metadata": {},
     "output_type": "display_data"
    },
    {
     "data": {
      "text/html": [
       "<center>But fifteen seconds later, they were clappin' too?</center>"
      ],
      "text/plain": [
       "<IPython.core.display.HTML object>"
      ]
     },
     "metadata": {},
     "output_type": "display_data"
    },
    {
     "data": {
      "text/html": [
       "<center>Then what did you do?</center>"
      ],
      "text/plain": [
       "<IPython.core.display.HTML object>"
      ]
     },
     "metadata": {},
     "output_type": "display_data"
    },
    {
     "data": {
      "text/html": [
       "<center><b><i>Question...?, Midnights</i></b></center>"
      ],
      "text/plain": [
       "<IPython.core.display.HTML object>"
      ]
     },
     "metadata": {},
     "output_type": "display_data"
    },
    {
     "data": {
      "text/markdown": [
       "___"
      ],
      "text/plain": [
       "<IPython.core.display.Markdown object>"
      ]
     },
     "metadata": {},
     "output_type": "display_data"
    },
    {
     "data": {
      "text/html": [
       "<center>And every single one of your friends was makin' fun of you (Makin' fun of you)</center>"
      ],
      "text/plain": [
       "<IPython.core.display.HTML object>"
      ]
     },
     "metadata": {},
     "output_type": "display_data"
    },
    {
     "data": {
      "text/html": [
       "<center>But fifteen seconds later, they were clappin' too?</center>"
      ],
      "text/plain": [
       "<IPython.core.display.HTML object>"
      ]
     },
     "metadata": {},
     "output_type": "display_data"
    },
    {
     "data": {
      "text/html": [
       "<center>Then what did you do? (Do)</center>"
      ],
      "text/plain": [
       "<IPython.core.display.HTML object>"
      ]
     },
     "metadata": {},
     "output_type": "display_data"
    },
    {
     "data": {
      "text/html": [
       "<center><b><i>Question...?, Midnights</i></b></center>"
      ],
      "text/plain": [
       "<IPython.core.display.HTML object>"
      ]
     },
     "metadata": {},
     "output_type": "display_data"
    },
    {
     "data": {
      "text/markdown": [
       "___"
      ],
      "text/plain": [
       "<IPython.core.display.Markdown object>"
      ]
     },
     "metadata": {},
     "output_type": "display_data"
    },
    {
     "data": {
      "text/html": [
       "<center>Fifteen years, fifteen million tears</center>"
      ],
      "text/plain": [
       "<IPython.core.display.HTML object>"
      ]
     },
     "metadata": {},
     "output_type": "display_data"
    },
    {
     "data": {
      "text/html": [
       "<center>Begging 'til my knees bled</center>"
      ],
      "text/plain": [
       "<IPython.core.display.HTML object>"
      ]
     },
     "metadata": {},
     "output_type": "display_data"
    },
    {
     "data": {
      "text/html": [
       "<center><b><i>it's time to go, evermore</i></b></center>"
      ],
      "text/plain": [
       "<IPython.core.display.HTML object>"
      ]
     },
     "metadata": {},
     "output_type": "display_data"
    },
    {
     "data": {
      "text/markdown": [
       "___"
      ],
      "text/plain": [
       "<IPython.core.display.Markdown object>"
      ]
     },
     "metadata": {},
     "output_type": "display_data"
    },
    {
     "data": {
      "text/html": [
       "<center>Good thing my daddy made me get a boating license when I was fifteen</center>"
      ],
      "text/plain": [
       "<IPython.core.display.HTML object>"
      ]
     },
     "metadata": {},
     "output_type": "display_data"
    },
    {
     "data": {
      "text/html": [
       "<center>And I've cleaned enough houses to know how to cover up a scene</center>"
      ],
      "text/plain": [
       "<IPython.core.display.HTML object>"
      ]
     },
     "metadata": {},
     "output_type": "display_data"
    },
    {
     "data": {
      "text/html": [
       "<center><b><i>no body, no crime (Ft. HAIM), evermore</i></b></center>"
      ],
      "text/plain": [
       "<IPython.core.display.HTML object>"
      ]
     },
     "metadata": {},
     "output_type": "display_data"
    },
    {
     "data": {
      "text/markdown": [
       "___"
      ],
      "text/plain": [
       "<IPython.core.display.Markdown object>"
      ]
     },
     "metadata": {},
     "output_type": "display_data"
    },
    {
     "data": {
      "text/html": [
       "<center>In the fifteen hundreds off in a foreign land</center>"
      ],
      "text/plain": [
       "<IPython.core.display.HTML object>"
      ]
     },
     "metadata": {},
     "output_type": "display_data"
    },
    {
     "data": {
      "text/html": [
       "<center>And I was forced to marry another man</center>"
      ],
      "text/plain": [
       "<IPython.core.display.HTML object>"
      ]
     },
     "metadata": {},
     "output_type": "display_data"
    },
    {
     "data": {
      "text/html": [
       "<center><b><i>Timeless, Speak Now</i></b></center>"
      ],
      "text/plain": [
       "<IPython.core.display.HTML object>"
      ]
     },
     "metadata": {},
     "output_type": "display_data"
    },
    {
     "data": {
      "text/markdown": [
       "___"
      ],
      "text/plain": [
       "<IPython.core.display.Markdown object>"
      ]
     },
     "metadata": {},
     "output_type": "display_data"
    },
    {
     "data": {
      "text/html": [
       "<center>'Cause when you're fifteen and somebody tells you they love you</center>"
      ],
      "text/plain": [
       "<IPython.core.display.HTML object>"
      ]
     },
     "metadata": {},
     "output_type": "display_data"
    },
    {
     "data": {
      "text/html": [
       "<center>You're gonna believe them</center>"
      ],
      "text/plain": [
       "<IPython.core.display.HTML object>"
      ]
     },
     "metadata": {},
     "output_type": "display_data"
    },
    {
     "data": {
      "text/html": [
       "<center><b><i>Fifteen, Fearless</i></b></center>"
      ],
      "text/plain": [
       "<IPython.core.display.HTML object>"
      ]
     },
     "metadata": {},
     "output_type": "display_data"
    },
    {
     "data": {
      "text/markdown": [
       "___"
      ],
      "text/plain": [
       "<IPython.core.display.Markdown object>"
      ]
     },
     "metadata": {},
     "output_type": "display_data"
    },
    {
     "data": {
      "text/html": [
       "<center>You're gonna believe them</center>"
      ],
      "text/plain": [
       "<IPython.core.display.HTML object>"
      ]
     },
     "metadata": {},
     "output_type": "display_data"
    },
    {
     "data": {
      "text/html": [
       "<center>And when you're fifteen, feelin' like there's nothin' to figure out</center>"
      ],
      "text/plain": [
       "<IPython.core.display.HTML object>"
      ]
     },
     "metadata": {},
     "output_type": "display_data"
    },
    {
     "data": {
      "text/html": [
       "<center>Well, count to ten, take it in</center>"
      ],
      "text/plain": [
       "<IPython.core.display.HTML object>"
      ]
     },
     "metadata": {},
     "output_type": "display_data"
    },
    {
     "data": {
      "text/html": [
       "<center><b><i>Fifteen, Fearless</i></b></center>"
      ],
      "text/plain": [
       "<IPython.core.display.HTML object>"
      ]
     },
     "metadata": {},
     "output_type": "display_data"
    },
    {
     "data": {
      "text/markdown": [
       "___"
      ],
      "text/plain": [
       "<IPython.core.display.Markdown object>"
      ]
     },
     "metadata": {},
     "output_type": "display_data"
    },
    {
     "data": {
      "text/html": [
       "<center>This is life before you know who you're gonna be</center>"
      ],
      "text/plain": [
       "<IPython.core.display.HTML object>"
      ]
     },
     "metadata": {},
     "output_type": "display_data"
    },
    {
     "data": {
      "text/html": [
       "<center>At fifteen</center>"
      ],
      "text/plain": [
       "<IPython.core.display.HTML object>"
      ]
     },
     "metadata": {},
     "output_type": "display_data"
    },
    {
     "data": {
      "text/html": [
       "<center><b><i>Fifteen, Fearless</i></b></center>"
      ],
      "text/plain": [
       "<IPython.core.display.HTML object>"
      ]
     },
     "metadata": {},
     "output_type": "display_data"
    },
    {
     "data": {
      "text/markdown": [
       "___"
      ],
      "text/plain": [
       "<IPython.core.display.Markdown object>"
      ]
     },
     "metadata": {},
     "output_type": "display_data"
    },
    {
     "data": {
      "text/html": [
       "<center>'Cause when you're fifteen and somebody tells you they love you</center>"
      ],
      "text/plain": [
       "<IPython.core.display.HTML object>"
      ]
     },
     "metadata": {},
     "output_type": "display_data"
    },
    {
     "data": {
      "text/html": [
       "<center>You're gonna believe them</center>"
      ],
      "text/plain": [
       "<IPython.core.display.HTML object>"
      ]
     },
     "metadata": {},
     "output_type": "display_data"
    },
    {
     "data": {
      "text/html": [
       "<center><b><i>Fifteen, Fearless</i></b></center>"
      ],
      "text/plain": [
       "<IPython.core.display.HTML object>"
      ]
     },
     "metadata": {},
     "output_type": "display_data"
    },
    {
     "data": {
      "text/markdown": [
       "___"
      ],
      "text/plain": [
       "<IPython.core.display.Markdown object>"
      ]
     },
     "metadata": {},
     "output_type": "display_data"
    },
    {
     "data": {
      "text/html": [
       "<center>You're gonna believe them</center>"
      ],
      "text/plain": [
       "<IPython.core.display.HTML object>"
      ]
     },
     "metadata": {},
     "output_type": "display_data"
    },
    {
     "data": {
      "text/html": [
       "<center>And when you're fifteen and your first kiss</center>"
      ],
      "text/plain": [
       "<IPython.core.display.HTML object>"
      ]
     },
     "metadata": {},
     "output_type": "display_data"
    },
    {
     "data": {
      "text/html": [
       "<center>Makes your head spin around, well</center>"
      ],
      "text/plain": [
       "<IPython.core.display.HTML object>"
      ]
     },
     "metadata": {},
     "output_type": "display_data"
    },
    {
     "data": {
      "text/html": [
       "<center><b><i>Fifteen, Fearless</i></b></center>"
      ],
      "text/plain": [
       "<IPython.core.display.HTML object>"
      ]
     },
     "metadata": {},
     "output_type": "display_data"
    },
    {
     "data": {
      "text/markdown": [
       "___"
      ],
      "text/plain": [
       "<IPython.core.display.Markdown object>"
      ]
     },
     "metadata": {},
     "output_type": "display_data"
    },
    {
     "data": {
      "text/html": [
       "<center>Datin' the boy on the football team</center>"
      ],
      "text/plain": [
       "<IPython.core.display.HTML object>"
      ]
     },
     "metadata": {},
     "output_type": "display_data"
    },
    {
     "data": {
      "text/html": [
       "<center>I didn't know it at fifteen</center>"
      ],
      "text/plain": [
       "<IPython.core.display.HTML object>"
      ]
     },
     "metadata": {},
     "output_type": "display_data"
    },
    {
     "data": {
      "text/html": [
       "<center><b><i>Fifteen, Fearless</i></b></center>"
      ],
      "text/plain": [
       "<IPython.core.display.HTML object>"
      ]
     },
     "metadata": {},
     "output_type": "display_data"
    },
    {
     "data": {
      "text/markdown": [
       "___"
      ],
      "text/plain": [
       "<IPython.core.display.Markdown object>"
      ]
     },
     "metadata": {},
     "output_type": "display_data"
    },
    {
     "data": {
      "text/html": [
       "<center>'Cause when you're fifteen and somebody tells you they love you</center>"
      ],
      "text/plain": [
       "<IPython.core.display.HTML object>"
      ]
     },
     "metadata": {},
     "output_type": "display_data"
    },
    {
     "data": {
      "text/html": [
       "<center>You're gonna believe them</center>"
      ],
      "text/plain": [
       "<IPython.core.display.HTML object>"
      ]
     },
     "metadata": {},
     "output_type": "display_data"
    },
    {
     "data": {
      "text/html": [
       "<center><b><i>Fifteen, Fearless</i></b></center>"
      ],
      "text/plain": [
       "<IPython.core.display.HTML object>"
      ]
     },
     "metadata": {},
     "output_type": "display_data"
    },
    {
     "data": {
      "text/markdown": [
       "___"
      ],
      "text/plain": [
       "<IPython.core.display.Markdown object>"
      ]
     },
     "metadata": {},
     "output_type": "display_data"
    },
    {
     "data": {
      "text/html": [
       "<center>You're gonna believe them</center>"
      ],
      "text/plain": [
       "<IPython.core.display.HTML object>"
      ]
     },
     "metadata": {},
     "output_type": "display_data"
    },
    {
     "data": {
      "text/html": [
       "<center>And when you're fifteen, don't forget to look before you fall</center>"
      ],
      "text/plain": [
       "<IPython.core.display.HTML object>"
      ]
     },
     "metadata": {},
     "output_type": "display_data"
    },
    {
     "data": {
      "text/html": [
       "<center>But I've found time can heal most anything</center>"
      ],
      "text/plain": [
       "<IPython.core.display.HTML object>"
      ]
     },
     "metadata": {},
     "output_type": "display_data"
    },
    {
     "data": {
      "text/html": [
       "<center><b><i>Fifteen, Fearless</i></b></center>"
      ],
      "text/plain": [
       "<IPython.core.display.HTML object>"
      ]
     },
     "metadata": {},
     "output_type": "display_data"
    },
    {
     "data": {
      "text/markdown": [
       "___"
      ],
      "text/plain": [
       "<IPython.core.display.Markdown object>"
      ]
     },
     "metadata": {},
     "output_type": "display_data"
    },
    {
     "data": {
      "text/html": [
       "<center>I didn't know who I was supposed to be</center>"
      ],
      "text/plain": [
       "<IPython.core.display.HTML object>"
      ]
     },
     "metadata": {},
     "output_type": "display_data"
    },
    {
     "data": {
      "text/html": [
       "<center>At fifteen</center>"
      ],
      "text/plain": [
       "<IPython.core.display.HTML object>"
      ]
     },
     "metadata": {},
     "output_type": "display_data"
    },
    {
     "data": {
      "text/html": [
       "<center><b><i>Fifteen, Fearless</i></b></center>"
      ],
      "text/plain": [
       "<IPython.core.display.HTML object>"
      ]
     },
     "metadata": {},
     "output_type": "display_data"
    },
    {
     "data": {
      "text/markdown": [
       "___"
      ],
      "text/plain": [
       "<IPython.core.display.Markdown object>"
      ]
     },
     "metadata": {},
     "output_type": "display_data"
    },
    {
     "data": {
      "text/html": [
       "<h3><center><span style=\"color:#888\">Found 15 usages of \"fifteen\" across 15 songs.</span></center></h3>"
      ],
      "text/plain": [
       "<IPython.core.display.HTML object>"
      ]
     },
     "metadata": {},
     "output_type": "display_data"
    }
   ],
   "source": [
    "def search_and_display(phrase, to_display=True):\n",
    "    # Ignore the optional to_display argument.\n",
    "    # By default, we will display all of the lyrics as done in search_for.\n",
    "    \n",
    "    match_array = search_for(phrase)   \n",
    "    \n",
    "    num_usages = 0\n",
    "    matching_songs = np.array([])\n",
    "    \n",
    "    for line in match_array:\n",
    "        \n",
    "        # If the line represents a song name and album name, display it nicely.\n",
    "        if line in np.array(lyrics.reset_index().get('Song') + \", \" + lyrics.reset_index().get('Album')):\n",
    "            if to_display:\n",
    "                display(HTML(f'<center><b><i>{line}</i></b></center>')) # Display song and album names in bold italics.\n",
    "                display(Markdown('___')) # Add horizontal line between matches.\n",
    "            \n",
    "            # TODO: Update matching_songs.\n",
    "            matching_songs = np.append(matching_songs,line)\n",
    "        \n",
    "        # Otherwise, if the line is not blank, print it.\n",
    "        elif len(line) > 0:\n",
    "            if to_display:\n",
    "                display(HTML(f'<center>{line}</center>'))\n",
    "            \n",
    "            # TODO: Update num_usages.\n",
    "            num_usages=num_usages+line.count(phrase)\n",
    "            \n",
    "    # TODO: Create a list of two elements to output.\n",
    "    num_songs=len(matching_songs)\n",
    "    output_list = [num_usages,num_songs]\n",
    "    \n",
    "    if to_display:\n",
    "        display(HTML('<h3><center><span style=\"color:#888\">Found ' + str(output_list[0]) + ' usages of \\\"' + phrase + '\\\" across ' + str(output_list[1]) + ' songs.</span></center></h3>'))\n",
    "    return output_list \n",
    "\n",
    "# An example function call. Feel free to change it.\n",
    "fifteen_stats = search_and_display('fifteen')"
   ]
  },
  {
   "cell_type": "code",
   "execution_count": 96,
   "id": "c1bb82ce",
   "metadata": {
    "deletable": false,
    "editable": false
   },
   "outputs": [
    {
     "data": {
      "text/html": [
       "<p><strong><pre style='display: inline;'>q3_10</pre></strong> passed!</p>"
      ],
      "text/plain": [
       "q3_10 results: All test cases passed!"
      ]
     },
     "execution_count": 96,
     "metadata": {},
     "output_type": "execute_result"
    }
   ],
   "source": [
    "grader.check(\"q3_10\")"
   ]
  },
  {
   "cell_type": "markdown",
   "id": "f647aeae",
   "metadata": {},
   "source": [
    "We now have a search tool that can search Taylor Swift's body of work for any phrase and display the results in much the same format as the online search tool we tried to replicate. Well done!\n",
    "\n",
    "Run the cell below to play around with an interactive version of `search_and_display`. It'll show you a text box; type a phrase and hit \"enter\" to see the value of `search_and_display` when called on your input."
   ]
  },
  {
   "cell_type": "code",
   "execution_count": 97,
   "id": "2f281847",
   "metadata": {
    "scrolled": false
   },
   "outputs": [
    {
     "data": {
      "application/vnd.jupyter.widget-view+json": {
       "model_id": "42e6730fb77c407bb3312b4d0eda6ae1",
       "version_major": 2,
       "version_minor": 0
      },
      "text/plain": [
       "Text(value='casually cruel', description='Phrase:', layout=Layout(width='525px'), placeholder='Type a phrase h…"
      ]
     },
     "metadata": {},
     "output_type": "display_data"
    },
    {
     "data": {
      "text/html": [
       "<center>And you call me up again just to break me like a promise</center>"
      ],
      "text/plain": [
       "<IPython.core.display.HTML object>"
      ]
     },
     "metadata": {},
     "output_type": "display_data"
    },
    {
     "data": {
      "text/html": [
       "<center>So casually cruel in the name of bein' honest</center>"
      ],
      "text/plain": [
       "<IPython.core.display.HTML object>"
      ]
     },
     "metadata": {},
     "output_type": "display_data"
    },
    {
     "data": {
      "text/html": [
       "<center>I'm a crumpled-up piece of paper lyin' here</center>"
      ],
      "text/plain": [
       "<IPython.core.display.HTML object>"
      ]
     },
     "metadata": {},
     "output_type": "display_data"
    },
    {
     "data": {
      "text/html": [
       "<center><b><i>All Too Well (10 Minute Version), Red</i></b></center>"
      ],
      "text/plain": [
       "<IPython.core.display.HTML object>"
      ]
     },
     "metadata": {},
     "output_type": "display_data"
    },
    {
     "data": {
      "text/markdown": [
       "___"
      ],
      "text/plain": [
       "<IPython.core.display.Markdown object>"
      ]
     },
     "metadata": {},
     "output_type": "display_data"
    },
    {
     "data": {
      "text/html": [
       "<center>Mr. \"Always at the right place at the right time,\" baby</center>"
      ],
      "text/plain": [
       "<IPython.core.display.HTML object>"
      ]
     },
     "metadata": {},
     "output_type": "display_data"
    },
    {
     "data": {
      "text/html": [
       "<center>Hello, Mr. \"Casually cruel\"</center>"
      ],
      "text/plain": [
       "<IPython.core.display.HTML object>"
      ]
     },
     "metadata": {},
     "output_type": "display_data"
    },
    {
     "data": {
      "text/html": [
       "<center>Mr. \"Everything revolves around you\"</center>"
      ],
      "text/plain": [
       "<IPython.core.display.HTML object>"
      ]
     },
     "metadata": {},
     "output_type": "display_data"
    },
    {
     "data": {
      "text/html": [
       "<center><b><i>Mr. Perfectly Fine, Fearless</i></b></center>"
      ],
      "text/plain": [
       "<IPython.core.display.HTML object>"
      ]
     },
     "metadata": {},
     "output_type": "display_data"
    },
    {
     "data": {
      "text/markdown": [
       "___"
      ],
      "text/plain": [
       "<IPython.core.display.Markdown object>"
      ]
     },
     "metadata": {},
     "output_type": "display_data"
    },
    {
     "data": {
      "text/html": [
       "<center>Mr. \"Always at the right place at the right time,\" baby</center>"
      ],
      "text/plain": [
       "<IPython.core.display.HTML object>"
      ]
     },
     "metadata": {},
     "output_type": "display_data"
    },
    {
     "data": {
      "text/html": [
       "<center>Hello, Mr. \"Casually cruel\"</center>"
      ],
      "text/plain": [
       "<IPython.core.display.HTML object>"
      ]
     },
     "metadata": {},
     "output_type": "display_data"
    },
    {
     "data": {
      "text/html": [
       "<center>Mr. \"Everything revolves around you\"</center>"
      ],
      "text/plain": [
       "<IPython.core.display.HTML object>"
      ]
     },
     "metadata": {},
     "output_type": "display_data"
    },
    {
     "data": {
      "text/html": [
       "<center><b><i>Mr. Perfectly Fine, Fearless</i></b></center>"
      ],
      "text/plain": [
       "<IPython.core.display.HTML object>"
      ]
     },
     "metadata": {},
     "output_type": "display_data"
    },
    {
     "data": {
      "text/markdown": [
       "___"
      ],
      "text/plain": [
       "<IPython.core.display.Markdown object>"
      ]
     },
     "metadata": {},
     "output_type": "display_data"
    },
    {
     "data": {
      "text/html": [
       "<center>Mr. \"Always at the right place at the right time,\" baby</center>"
      ],
      "text/plain": [
       "<IPython.core.display.HTML object>"
      ]
     },
     "metadata": {},
     "output_type": "display_data"
    },
    {
     "data": {
      "text/html": [
       "<center>Goodbye, Mr. \"Casually cruel\"</center>"
      ],
      "text/plain": [
       "<IPython.core.display.HTML object>"
      ]
     },
     "metadata": {},
     "output_type": "display_data"
    },
    {
     "data": {
      "text/html": [
       "<center>Mr. \"Everything revolves around you\"</center>"
      ],
      "text/plain": [
       "<IPython.core.display.HTML object>"
      ]
     },
     "metadata": {},
     "output_type": "display_data"
    },
    {
     "data": {
      "text/html": [
       "<center><b><i>Mr. Perfectly Fine, Fearless</i></b></center>"
      ],
      "text/plain": [
       "<IPython.core.display.HTML object>"
      ]
     },
     "metadata": {},
     "output_type": "display_data"
    },
    {
     "data": {
      "text/markdown": [
       "___"
      ],
      "text/plain": [
       "<IPython.core.display.Markdown object>"
      ]
     },
     "metadata": {},
     "output_type": "display_data"
    },
    {
     "data": {
      "text/html": [
       "<h3><center><span style=\"color:#888\">Found 1 usages of \"casually cruel\" across 4 songs.</span></center></h3>"
      ],
      "text/plain": [
       "<IPython.core.display.HTML object>"
      ]
     },
     "metadata": {},
     "output_type": "display_data"
    }
   ],
   "source": [
    "# Run this cell. Don't change any of the code.\n",
    "default_lyric = 'casually cruel'\n",
    "\n",
    "lyric_box = widgets.Text(\n",
    "    value=default_lyric,\n",
    "    placeholder='Type a phrase here and hit enter.',\n",
    "    description='Phrase:',\n",
    "    layout={'width': '525px'},\n",
    "    disabled=False   \n",
    ")\n",
    "\n",
    "def change_matches(change):\n",
    "    clear_output()\n",
    "    display(lyric_box)\n",
    "    search_and_display(lyric_box.value)\n",
    "\n",
    "display(lyric_box)\n",
    "search_and_display(default_lyric)\n",
    "lyric_box.on_submit(change_matches)"
   ]
  },
  {
   "cell_type": "markdown",
   "id": "45e7523a",
   "metadata": {},
   "source": [
    "You may notice that for certain search terms, our search tool gives different results than the online search tool. There are a few reasons why. First, the set of songs we are searching is not exactly the same. Our `lyrics` DataFrame includes all the songs from Taylor Swift's studio albums, and the online search tool includes a few additional songs, like songs from movie soundtracks. \n",
    "\n",
    "Moreover, our search results always include matches where the search term is part of a longer word or phrase, like how `'plan'` is part of `'planets'`. The online search tool handles this more carefully, with options to search for an exact phrase, to include plurals, or to do a wilcard search which is similar to how we've chosen to implement the search. We'll stop here with our lyric searcher, but if you're interested in extending your lyric searcher further, you can try implementing some of these features from the online tool after you submit the project. There are lots of details to consider, such as how to pluralize words (it's not always as simple as adding an `'s'`)!"
   ]
  },
  {
   "cell_type": "markdown",
   "id": "4ef08679",
   "metadata": {},
   "source": [
    "<a id='section4'></a>\n",
    "## Section 4: Keywords 🔑\n",
    "\n",
    "> I didn't know you were keeping count, but, oh, you were keeping count.\n",
    "\n",
    "<small>(<a href=\"#outline\">return to the outline</a>)</small>"
   ]
  },
  {
   "cell_type": "markdown",
   "id": "d844f624",
   "metadata": {},
   "source": [
    "In this section, we'll identify keywords that summarize each song in Taylor Swift's album `'Lover'` 💕.\n",
    "\n",
    "For example, you'll discover, after completing Section 4,  that the single word that best summarizes the song `'London Boy'` is `'fancy'`. Listen to the song below and see if you agree!"
   ]
  },
  {
   "cell_type": "code",
   "execution_count": 98,
   "id": "6cde2e3c",
   "metadata": {},
   "outputs": [
    {
     "data": {
      "text/html": [
       "\n",
       "        <iframe\n",
       "            width=\"400\"\n",
       "            height=\"75\"\n",
       "            src=\"https://open.spotify.com/embed/track/1LLXZFeAHK9R4xUramtUKw\"\n",
       "            frameborder=\"0\"\n",
       "            allowfullscreen\n",
       "        ></iframe>\n",
       "        "
      ],
      "text/plain": [
       "<IPython.lib.display.IFrame at 0x7f6f62daa7f0>"
      ]
     },
     "metadata": {},
     "output_type": "display_data"
    }
   ],
   "source": [
    "play_spotify('1LLXZFeAHK9R4xUramtUKw')"
   ]
  },
  {
   "cell_type": "markdown",
   "id": "50cace26",
   "metadata": {},
   "source": [
    "Pretty cool, right? You'll soon learn how to find the best keywords for each song yourself. The first step in calculating keywords is to identify every unique word used on the `'Lover'` album."
   ]
  },
  {
   "cell_type": "markdown",
   "id": "34b9bc40",
   "metadata": {},
   "source": [
    "**Question 4.1.** To start, create a DataFrame called `lover_df` with the same columns as `lyrics`, but with only the songs from the `'Lover'` album."
   ]
  },
  {
   "cell_type": "code",
   "execution_count": 99,
   "id": "6280dc15",
   "metadata": {
    "scrolled": false
   },
   "outputs": [
    {
     "data": {
      "text/html": [
       "<div>\n",
       "<style scoped>\n",
       "    .dataframe tbody tr th:only-of-type {\n",
       "        vertical-align: middle;\n",
       "    }\n",
       "\n",
       "    .dataframe tbody tr th {\n",
       "        vertical-align: top;\n",
       "    }\n",
       "\n",
       "    .dataframe thead th {\n",
       "        text-align: right;\n",
       "    }\n",
       "</style>\n",
       "<table border=\"1\" class=\"dataframe\">\n",
       "  <thead>\n",
       "    <tr style=\"text-align: right;\">\n",
       "      <th></th>\n",
       "      <th>Album</th>\n",
       "      <th>Lyrics</th>\n",
       "    </tr>\n",
       "    <tr>\n",
       "      <th>Song</th>\n",
       "      <th></th>\n",
       "      <th></th>\n",
       "    </tr>\n",
       "  </thead>\n",
       "  <tbody>\n",
       "    <tr>\n",
       "      <th>Afterglow</th>\n",
       "      <td>Lover</td>\n",
       "      <td>I blew things out of proportion, now you're bl...</td>\n",
       "    </tr>\n",
       "    <tr>\n",
       "      <th>Cornelia Street</th>\n",
       "      <td>Lover</td>\n",
       "      <td>We were in the backseat\\nDrunk on something st...</td>\n",
       "    </tr>\n",
       "    <tr>\n",
       "      <th>Cruel Summer</th>\n",
       "      <td>Lover</td>\n",
       "      <td>(Yeah, yeah, yeah, yeah)\\n\\nFever dream high i...</td>\n",
       "    </tr>\n",
       "    <tr>\n",
       "      <th>Daylight</th>\n",
       "      <td>Lover</td>\n",
       "      <td>My love was as cruel as the cities I lived in\\...</td>\n",
       "    </tr>\n",
       "    <tr>\n",
       "      <th>Death By A Thousand Cuts</th>\n",
       "      <td>Lover</td>\n",
       "      <td>My, my, my, my\\nMy, my, my, my\\nMy, my, my, my...</td>\n",
       "    </tr>\n",
       "    <tr>\n",
       "      <th>...</th>\n",
       "      <td>...</td>\n",
       "      <td>...</td>\n",
       "    </tr>\n",
       "    <tr>\n",
       "      <th>Paper Rings</th>\n",
       "      <td>Lover</td>\n",
       "      <td>The moon is high\\nLike your friends were the n...</td>\n",
       "    </tr>\n",
       "    <tr>\n",
       "      <th>Soon You'll Get Better (Ft. The Chicks)</th>\n",
       "      <td>Lover</td>\n",
       "      <td>The buttons of my coat were tangled in my hair...</td>\n",
       "    </tr>\n",
       "    <tr>\n",
       "      <th>The Archer</th>\n",
       "      <td>Lover</td>\n",
       "      <td>Combat, I'm ready for combat\\nI say I don't wa...</td>\n",
       "    </tr>\n",
       "    <tr>\n",
       "      <th>The Man</th>\n",
       "      <td>Lover</td>\n",
       "      <td>I would be complex, I would be cool\\nThey'd sa...</td>\n",
       "    </tr>\n",
       "    <tr>\n",
       "      <th>You Need To Calm Down</th>\n",
       "      <td>Lover</td>\n",
       "      <td>You are somebody that I don't know\\nBut you're...</td>\n",
       "    </tr>\n",
       "  </tbody>\n",
       "</table>\n",
       "<p>18 rows × 2 columns</p>\n",
       "</div>"
      ],
      "text/plain": [
       "                                         Album  \\\n",
       "Song                                             \n",
       "Afterglow                                Lover   \n",
       "Cornelia Street                          Lover   \n",
       "Cruel Summer                             Lover   \n",
       "Daylight                                 Lover   \n",
       "Death By A Thousand Cuts                 Lover   \n",
       "...                                        ...   \n",
       "Paper Rings                              Lover   \n",
       "Soon You'll Get Better (Ft. The Chicks)  Lover   \n",
       "The Archer                               Lover   \n",
       "The Man                                  Lover   \n",
       "You Need To Calm Down                    Lover   \n",
       "\n",
       "                                                                                    Lyrics  \n",
       "Song                                                                                        \n",
       "Afterglow                                I blew things out of proportion, now you're bl...  \n",
       "Cornelia Street                          We were in the backseat\\nDrunk on something st...  \n",
       "Cruel Summer                             (Yeah, yeah, yeah, yeah)\\n\\nFever dream high i...  \n",
       "Daylight                                 My love was as cruel as the cities I lived in\\...  \n",
       "Death By A Thousand Cuts                 My, my, my, my\\nMy, my, my, my\\nMy, my, my, my...  \n",
       "...                                                                                    ...  \n",
       "Paper Rings                              The moon is high\\nLike your friends were the n...  \n",
       "Soon You'll Get Better (Ft. The Chicks)  The buttons of my coat were tangled in my hair...  \n",
       "The Archer                               Combat, I'm ready for combat\\nI say I don't wa...  \n",
       "The Man                                  I would be complex, I would be cool\\nThey'd sa...  \n",
       "You Need To Calm Down                    You are somebody that I don't know\\nBut you're...  \n",
       "\n",
       "[18 rows x 2 columns]"
      ]
     },
     "execution_count": 99,
     "metadata": {},
     "output_type": "execute_result"
    }
   ],
   "source": [
    "lover_df = lyrics[lyrics.get(\"Album\")==\"Lover\"]\n",
    "lover_df"
   ]
  },
  {
   "cell_type": "code",
   "execution_count": 100,
   "id": "4620f223",
   "metadata": {
    "deletable": false,
    "editable": false
   },
   "outputs": [
    {
     "data": {
      "text/html": [
       "<p><strong><pre style='display: inline;'>q4_1</pre></strong> passed!</p>"
      ],
      "text/plain": [
       "q4_1 results: All test cases passed!"
      ]
     },
     "execution_count": 100,
     "metadata": {},
     "output_type": "execute_result"
    }
   ],
   "source": [
    "grader.check(\"q4_1\")"
   ]
  },
  {
   "cell_type": "markdown",
   "id": "c87fbb45",
   "metadata": {},
   "source": [
    "**Question 4.2.** Now, we want to determine the words used in all the lyrics in `lover_df`. Store all such unique words in an array called `unique_words_raw`. Deal with capitalization and punctuation as follows:\n",
    "- Words with the same letters that are capitalized differently are considered the same. For example, `'talk'`, `'Talk'`, and `'talK'` should all be counted as the same word. All words in `unique_words_raw` should be in lowercase, so all of these words should be counted as `'talk'`.\n",
    "- Words that use the same letters but have different punctuation are considered different. For example, `'\"for'` and `'for'` will both be words in `unique_words_raw`, as they're not considered the same word. \n",
    "\n",
    "***Hints:***\n",
    "- Words may be separated by spaces or by newline characters, `\\n`. The string method `.split()` when called with no arguments will separate on both of these; this is what you want!\n",
    "- You can use the `.sum()` method on a Series of lists to concatenate the lists into a single, larger list. "
   ]
  },
  {
   "cell_type": "code",
   "execution_count": 101,
   "id": "4ffcf900",
   "metadata": {
    "scrolled": true
   },
   "outputs": [
    {
     "data": {
      "text/plain": [
       "array(['\"awesome\"', '\"babe\"', '\"for', ..., 'you?', 'your', 'yours'],\n",
       "      dtype='<U17')"
      ]
     },
     "execution_count": 101,
     "metadata": {},
     "output_type": "execute_result"
    }
   ],
   "source": [
    "unique_words_raw = np.unique(lover_df.get(\"Lyrics\").sum().lower().split())\n",
    "unique_words_raw"
   ]
  },
  {
   "cell_type": "code",
   "execution_count": 102,
   "id": "72389b62",
   "metadata": {
    "deletable": false,
    "editable": false
   },
   "outputs": [
    {
     "data": {
      "text/html": [
       "<p><strong><pre style='display: inline;'>q4_2</pre></strong> passed!</p>"
      ],
      "text/plain": [
       "q4_2 results: All test cases passed!"
      ]
     },
     "execution_count": 102,
     "metadata": {},
     "output_type": "execute_result"
    }
   ],
   "source": [
    "grader.check(\"q4_2\")"
   ]
  },
  {
   "cell_type": "markdown",
   "id": "b2427e0b",
   "metadata": {},
   "source": [
    "As mentioned above, some of the words in `unique_words_raw` contain punctuation.  For example, both `'\"for'` and `'for'` are in `unique_words_raw`, although they correspond to the same English word."
   ]
  },
  {
   "cell_type": "code",
   "execution_count": 103,
   "id": "12579434",
   "metadata": {},
   "outputs": [
    {
     "data": {
      "text/plain": [
       "True"
      ]
     },
     "execution_count": 103,
     "metadata": {},
     "output_type": "execute_result"
    }
   ],
   "source": [
    "'for' in unique_words_raw and '\"for' in unique_words_raw"
   ]
  },
  {
   "cell_type": "markdown",
   "id": "c29fba0a",
   "metadata": {},
   "source": [
    "Let's reconcile this by removing punctuation from the words in `unique_words_raw` and then keeping only the unique words that remain."
   ]
  },
  {
   "cell_type": "markdown",
   "id": "db7af113",
   "metadata": {},
   "source": [
    "**Question 4.3.** Complete the implementation of the function `drop_punctuation`, which takes in a string `word` and performs the actions below to address the aforementioned issues (there may be other issues with the data, but don't worry about them).\n",
    "\n",
    "1. Remove quotations (`'` and `\"`) at the beginning and end of strings. \n",
    "1. Replace all double quotes (`\"`) with single quotes (`'`).\n",
    "1. Remove the following punctuation symbols: `(`, `)`, `?`, `.`, `,`, `;`, `-`, `_`, `\\`.\n",
    "\n",
    "The function should return a version of the input word with these changes.\n",
    "\n",
    "***Hint:*** When removing `\\`, use `\\\\` instead of `\\`. You need to \"escape\" the backslash. "
   ]
  },
  {
   "cell_type": "code",
   "execution_count": 104,
   "id": "2d4bd87e",
   "metadata": {},
   "outputs": [
    {
     "data": {
      "text/plain": [
       "\"I'd love to see the world\""
      ]
     },
     "execution_count": 104,
     "metadata": {},
     "output_type": "execute_result"
    }
   ],
   "source": [
    "def drop_punctuation(word):\n",
    "    return_word=word.replace('\"',\"'\")\n",
    "    return_word=return_word.strip(\"'\")\n",
    "    return_word=return_word.replace(\"(\",\"\").replace(\")\",\"\").replace(\"?\",\"\").replace(\".\",\"\")\n",
    "    return_word=return_word.replace(\",\",\"\").replace(\";\",\"\").replace(\"-\",\"\").replace(\"_\",\"\").replace(\"\\\\\",\"\")\n",
    "    return return_word\n",
    "drop_punctuation('\"I\"d love t(o s)e;e? t.he, w-or_l\\d'\"\")"
   ]
  },
  {
   "cell_type": "code",
   "execution_count": 105,
   "id": "fc085b45",
   "metadata": {
    "deletable": false,
    "editable": false
   },
   "outputs": [
    {
     "data": {
      "text/html": [
       "<p><strong><pre style='display: inline;'>q4_3</pre></strong> passed!</p>"
      ],
      "text/plain": [
       "q4_3 results: All test cases passed!"
      ]
     },
     "execution_count": 105,
     "metadata": {},
     "output_type": "execute_result"
    }
   ],
   "source": [
    "grader.check(\"q4_3\")"
   ]
  },
  {
   "cell_type": "markdown",
   "id": "12bb1071",
   "metadata": {},
   "source": [
    "**Question 4.4.** Use the `drop_punctuation` function to create an array of all the unique words used in the `'Lover'` album, without punctuation. Store that array in `unique_words`. Notice that after removing punctuation, there may be duplicate words (for example, `'for'` and `'\"for'` become the same word after punctuation is dropped), but make sure there are no duplicates in `unique_words`."
   ]
  },
  {
   "cell_type": "code",
   "execution_count": 106,
   "id": "ceeee5a7",
   "metadata": {
    "scrolled": true
   },
   "outputs": [
    {
     "data": {
      "text/plain": [
       "array(['16th', '17', '7', ..., \"you've\", 'your', 'yours'], dtype='<U32')"
      ]
     },
     "execution_count": 106,
     "metadata": {},
     "output_type": "execute_result"
    }
   ],
   "source": [
    "q4_4words=np.array([])\n",
    "for word in unique_words_raw:\n",
    "    q4_4words = np.append(q4_4words,drop_punctuation(word))\n",
    "unique_words=np.unique(q4_4words)\n",
    "unique_words"
   ]
  },
  {
   "cell_type": "code",
   "execution_count": 107,
   "id": "4db08c94",
   "metadata": {
    "deletable": false,
    "editable": false
   },
   "outputs": [
    {
     "data": {
      "text/html": [
       "<p><strong><pre style='display: inline;'>q4_4</pre></strong> passed!</p>"
      ],
      "text/plain": [
       "q4_4 results: All test cases passed!"
      ]
     },
     "execution_count": 107,
     "metadata": {},
     "output_type": "execute_result"
    }
   ],
   "source": [
    "grader.check(\"q4_4\")"
   ]
  },
  {
   "cell_type": "markdown",
   "id": "820865c0",
   "metadata": {},
   "source": [
    "Now that we've determined which words appear in the `'Lover'` album, we'll attempt to describe how important each word is to each song. To do this, we'll use a method from natural language processing called the **term frequency-inverse document frequency (TF-IDF)**. \n",
    "\n",
    "The purpose of TF-IDF is to measure how important a term is in a document relative to a collection of documents. In our case, terms are words, documents are songs, and the collection of documents we're interested in is the collection of songs on the album `'Lover'`.\n",
    "\n",
    "Given a word,  $\\textbf{term}$,  in a document,  $\\textbf{doc}$, the TF-IDF of the word in the document is the product:\n",
    "\n",
    "$$\n",
    "\\begin{align*}\\text{TF-IDF}(\\textbf{term}, \\textbf{doc}) &= \\text{TF}(\\textbf{term}, \\textbf{doc}) \\cdot \\text{IDF}(\\textbf{term}) \\\\\\ &= \\frac{\\text{number of occurrences of $\\textbf{term}$ in $\\textbf{doc}$}}{\\text{total number of words in $\\textbf{doc}$}} \\cdot \\ln \\left(\\frac{\\text{total number of documents}}{\\text{number of documents in which $\\textbf{term}$ appears}} \\right) \\end{align*} $$\n",
    "\n",
    "Let's look at the term frequency (TF) first. This is just the proportion of words in document $\\textbf{doc}$ that are equal to $\\textbf{term}$.\n",
    "\n",
    "- **Example:** What is the term frequency (TF) of \"Taylor\" in the following document?\n",
    "\n",
    "    - \"My friend named her baby <b>Taylor</b> because she is a huge <b>Taylor</b> Swift fan.\"\n",
    "\n",
    "- **Answer:** $\\frac{2}{14}$, because two of the fourteen words in the document are \"Taylor\".\n",
    "\n",
    "Remember that usually, a document will consist of an entire song, not just of a single line (like above).\n",
    "\n",
    "Now, let's look at the inverse document frequency (IDF). This is the natural logarithm of the reciprocal of the proportion of documents in the collection containing $\\textbf{term}$. One way to think of the IDF is as a \"rarity factor\" – words that appear frequently in the full collection of documents are not very rare, and hence have low IDF, while words that rarely appear in the full collection of documents have high IDF.\n",
    "\n",
    "- **Example:** What is the inverse document frequency (IDF) of \"Taylor\" in the following four documents?\n",
    "\n",
    "    - \"My friend named her baby <b>Taylor</b> because she is a huge <b>Taylor</b> Swift fan.\"\n",
    "    - \"I wanted to see <b>Taylor</b> Swift on the Eras Tour, but the tickets were way too expensive, so I saw the movie instead.\"\n",
    "    - \"I can't even afford a movie ticket.\"\n",
    "    - \"Tailor and <b>Taylor</b> are homophones.\"\n",
    "    \n",
    "- **Answer:** $\\ln \\left(\\frac{4}{3}\\right) \\approx 0.288$ because three of the four documents include the word \"Taylor\".\n",
    "\n",
    "Putting these together, we can now compute the TF-IDF.\n",
    "\n",
    "- **Example:** What is the term frequency-inverse document frequency (TF-IDF) of \"Taylor\" in the first document in this collection of four documents?\n",
    "\n",
    "- **Answer:** $\\frac{2}{14} \\cdot \\ln \\left(\\frac{4}{3}\\right) \\approx 0.041$, by multiplying the term frequency with the inverse document frequency.\n",
    "\n",
    "The idea behind TF-IDF is that for a word to be a good summary of a document, it should appear frequently in that document, but not too frequently in the full collection of documents. This means words like \"I\" or \"and\" won't have high TF-IDF, because while they may appear frequently in a document (high TF), they appear too often in general to be considered good summary words (low IDF).\n",
    "\n",
    "In our case, the words that best summarize a song will be the words within that song with the highest TF-IDFs."
   ]
  },
  {
   "cell_type": "markdown",
   "id": "02585bf5",
   "metadata": {},
   "source": [
    "Run the cell below to load in a DataFrame named `counts_df` that has a row for each word in the `'Lover'` album and a column for each song on the album.  Each entry counts the number of instances of a word in a song. "
   ]
  },
  {
   "cell_type": "code",
   "execution_count": 108,
   "id": "9566e000",
   "metadata": {},
   "outputs": [
    {
     "data": {
      "text/html": [
       "<div>\n",
       "<style scoped>\n",
       "    .dataframe tbody tr th:only-of-type {\n",
       "        vertical-align: middle;\n",
       "    }\n",
       "\n",
       "    .dataframe tbody tr th {\n",
       "        vertical-align: top;\n",
       "    }\n",
       "\n",
       "    .dataframe thead th {\n",
       "        text-align: right;\n",
       "    }\n",
       "</style>\n",
       "<table border=\"1\" class=\"dataframe\">\n",
       "  <thead>\n",
       "    <tr style=\"text-align: right;\">\n",
       "      <th></th>\n",
       "      <th>Afterglow</th>\n",
       "      <th>Cornelia Street</th>\n",
       "      <th>Cruel Summer</th>\n",
       "      <th>Daylight</th>\n",
       "      <th>Death By A Thousand Cuts</th>\n",
       "      <th>False God</th>\n",
       "      <th>I Forgot That You Existed</th>\n",
       "      <th>I Think He Knows</th>\n",
       "      <th>It's Nice To Have A Friend</th>\n",
       "      <th>London Boy</th>\n",
       "      <th>Lover</th>\n",
       "      <th>ME! (Ft. Brendon Urie of Panic! At The Disco)</th>\n",
       "      <th>Miss Americana &amp; The Heartbreak Prince</th>\n",
       "      <th>Paper Rings</th>\n",
       "      <th>Soon You'll Get Better (Ft. The Chicks)</th>\n",
       "      <th>The Archer</th>\n",
       "      <th>The Man</th>\n",
       "      <th>You Need To Calm Down</th>\n",
       "    </tr>\n",
       "    <tr>\n",
       "      <th>word</th>\n",
       "      <th></th>\n",
       "      <th></th>\n",
       "      <th></th>\n",
       "      <th></th>\n",
       "      <th></th>\n",
       "      <th></th>\n",
       "      <th></th>\n",
       "      <th></th>\n",
       "      <th></th>\n",
       "      <th></th>\n",
       "      <th></th>\n",
       "      <th></th>\n",
       "      <th></th>\n",
       "      <th></th>\n",
       "      <th></th>\n",
       "      <th></th>\n",
       "      <th></th>\n",
       "      <th></th>\n",
       "    </tr>\n",
       "  </thead>\n",
       "  <tbody>\n",
       "    <tr>\n",
       "      <th>16th</th>\n",
       "      <td>0</td>\n",
       "      <td>0</td>\n",
       "      <td>0</td>\n",
       "      <td>0</td>\n",
       "      <td>0</td>\n",
       "      <td>0</td>\n",
       "      <td>0</td>\n",
       "      <td>4</td>\n",
       "      <td>0</td>\n",
       "      <td>0</td>\n",
       "      <td>0</td>\n",
       "      <td>0</td>\n",
       "      <td>0</td>\n",
       "      <td>0</td>\n",
       "      <td>0</td>\n",
       "      <td>0</td>\n",
       "      <td>0</td>\n",
       "      <td>0</td>\n",
       "    </tr>\n",
       "    <tr>\n",
       "      <th>17</th>\n",
       "      <td>0</td>\n",
       "      <td>0</td>\n",
       "      <td>0</td>\n",
       "      <td>0</td>\n",
       "      <td>0</td>\n",
       "      <td>0</td>\n",
       "      <td>0</td>\n",
       "      <td>1</td>\n",
       "      <td>0</td>\n",
       "      <td>0</td>\n",
       "      <td>0</td>\n",
       "      <td>0</td>\n",
       "      <td>0</td>\n",
       "      <td>0</td>\n",
       "      <td>0</td>\n",
       "      <td>0</td>\n",
       "      <td>0</td>\n",
       "      <td>0</td>\n",
       "    </tr>\n",
       "    <tr>\n",
       "      <th>7</th>\n",
       "      <td>0</td>\n",
       "      <td>0</td>\n",
       "      <td>0</td>\n",
       "      <td>0</td>\n",
       "      <td>0</td>\n",
       "      <td>0</td>\n",
       "      <td>0</td>\n",
       "      <td>0</td>\n",
       "      <td>0</td>\n",
       "      <td>0</td>\n",
       "      <td>0</td>\n",
       "      <td>0</td>\n",
       "      <td>0</td>\n",
       "      <td>0</td>\n",
       "      <td>0</td>\n",
       "      <td>0</td>\n",
       "      <td>0</td>\n",
       "      <td>1</td>\n",
       "    </tr>\n",
       "    <tr>\n",
       "      <th>a</th>\n",
       "      <td>1</td>\n",
       "      <td>3</td>\n",
       "      <td>11</td>\n",
       "      <td>3</td>\n",
       "      <td>14</td>\n",
       "      <td>7</td>\n",
       "      <td>2</td>\n",
       "      <td>3</td>\n",
       "      <td>8</td>\n",
       "      <td>14</td>\n",
       "      <td>4</td>\n",
       "      <td>11</td>\n",
       "      <td>9</td>\n",
       "      <td>3</td>\n",
       "      <td>2</td>\n",
       "      <td>2</td>\n",
       "      <td>15</td>\n",
       "      <td>5</td>\n",
       "    </tr>\n",
       "    <tr>\n",
       "      <th>about</th>\n",
       "      <td>0</td>\n",
       "      <td>0</td>\n",
       "      <td>0</td>\n",
       "      <td>0</td>\n",
       "      <td>0</td>\n",
       "      <td>2</td>\n",
       "      <td>0</td>\n",
       "      <td>0</td>\n",
       "      <td>0</td>\n",
       "      <td>0</td>\n",
       "      <td>1</td>\n",
       "      <td>1</td>\n",
       "      <td>0</td>\n",
       "      <td>0</td>\n",
       "      <td>1</td>\n",
       "      <td>0</td>\n",
       "      <td>1</td>\n",
       "      <td>1</td>\n",
       "    </tr>\n",
       "    <tr>\n",
       "      <th>...</th>\n",
       "      <td>...</td>\n",
       "      <td>...</td>\n",
       "      <td>...</td>\n",
       "      <td>...</td>\n",
       "      <td>...</td>\n",
       "      <td>...</td>\n",
       "      <td>...</td>\n",
       "      <td>...</td>\n",
       "      <td>...</td>\n",
       "      <td>...</td>\n",
       "      <td>...</td>\n",
       "      <td>...</td>\n",
       "      <td>...</td>\n",
       "      <td>...</td>\n",
       "      <td>...</td>\n",
       "      <td>...</td>\n",
       "      <td>...</td>\n",
       "      <td>...</td>\n",
       "    </tr>\n",
       "    <tr>\n",
       "      <th>you'll</th>\n",
       "      <td>0</td>\n",
       "      <td>0</td>\n",
       "      <td>1</td>\n",
       "      <td>0</td>\n",
       "      <td>0</td>\n",
       "      <td>0</td>\n",
       "      <td>0</td>\n",
       "      <td>0</td>\n",
       "      <td>0</td>\n",
       "      <td>0</td>\n",
       "      <td>1</td>\n",
       "      <td>5</td>\n",
       "      <td>0</td>\n",
       "      <td>0</td>\n",
       "      <td>12</td>\n",
       "      <td>0</td>\n",
       "      <td>0</td>\n",
       "      <td>0</td>\n",
       "    </tr>\n",
       "    <tr>\n",
       "      <th>you're</th>\n",
       "      <td>2</td>\n",
       "      <td>0</td>\n",
       "      <td>4</td>\n",
       "      <td>0</td>\n",
       "      <td>3</td>\n",
       "      <td>4</td>\n",
       "      <td>0</td>\n",
       "      <td>0</td>\n",
       "      <td>0</td>\n",
       "      <td>0</td>\n",
       "      <td>5</td>\n",
       "      <td>5</td>\n",
       "      <td>0</td>\n",
       "      <td>14</td>\n",
       "      <td>0</td>\n",
       "      <td>0</td>\n",
       "      <td>2</td>\n",
       "      <td>6</td>\n",
       "    </tr>\n",
       "    <tr>\n",
       "      <th>you've</th>\n",
       "      <td>0</td>\n",
       "      <td>0</td>\n",
       "      <td>0</td>\n",
       "      <td>0</td>\n",
       "      <td>0</td>\n",
       "      <td>0</td>\n",
       "      <td>0</td>\n",
       "      <td>0</td>\n",
       "      <td>1</td>\n",
       "      <td>0</td>\n",
       "      <td>0</td>\n",
       "      <td>0</td>\n",
       "      <td>0</td>\n",
       "      <td>0</td>\n",
       "      <td>0</td>\n",
       "      <td>0</td>\n",
       "      <td>0</td>\n",
       "      <td>0</td>\n",
       "    </tr>\n",
       "    <tr>\n",
       "      <th>your</th>\n",
       "      <td>5</td>\n",
       "      <td>6</td>\n",
       "      <td>4</td>\n",
       "      <td>1</td>\n",
       "      <td>1</td>\n",
       "      <td>3</td>\n",
       "      <td>2</td>\n",
       "      <td>0</td>\n",
       "      <td>0</td>\n",
       "      <td>2</td>\n",
       "      <td>1</td>\n",
       "      <td>1</td>\n",
       "      <td>0</td>\n",
       "      <td>10</td>\n",
       "      <td>0</td>\n",
       "      <td>1</td>\n",
       "      <td>0</td>\n",
       "      <td>2</td>\n",
       "    </tr>\n",
       "    <tr>\n",
       "      <th>yours</th>\n",
       "      <td>0</td>\n",
       "      <td>1</td>\n",
       "      <td>0</td>\n",
       "      <td>0</td>\n",
       "      <td>0</td>\n",
       "      <td>0</td>\n",
       "      <td>0</td>\n",
       "      <td>0</td>\n",
       "      <td>0</td>\n",
       "      <td>0</td>\n",
       "      <td>1</td>\n",
       "      <td>0</td>\n",
       "      <td>0</td>\n",
       "      <td>0</td>\n",
       "      <td>0</td>\n",
       "      <td>0</td>\n",
       "      <td>0</td>\n",
       "      <td>0</td>\n",
       "    </tr>\n",
       "  </tbody>\n",
       "</table>\n",
       "<p>1026 rows × 18 columns</p>\n",
       "</div>"
      ],
      "text/plain": [
       "        Afterglow  Cornelia Street  Cruel Summer  Daylight  \\\n",
       "word                                                         \n",
       "16th            0                0             0         0   \n",
       "17              0                0             0         0   \n",
       "7               0                0             0         0   \n",
       "a               1                3            11         3   \n",
       "about           0                0             0         0   \n",
       "...           ...              ...           ...       ...   \n",
       "you'll          0                0             1         0   \n",
       "you're          2                0             4         0   \n",
       "you've          0                0             0         0   \n",
       "your            5                6             4         1   \n",
       "yours           0                1             0         0   \n",
       "\n",
       "        Death By A Thousand Cuts  False God  I Forgot That You Existed  \\\n",
       "word                                                                     \n",
       "16th                           0          0                          0   \n",
       "17                             0          0                          0   \n",
       "7                              0          0                          0   \n",
       "a                             14          7                          2   \n",
       "about                          0          2                          0   \n",
       "...                          ...        ...                        ...   \n",
       "you'll                         0          0                          0   \n",
       "you're                         3          4                          0   \n",
       "you've                         0          0                          0   \n",
       "your                           1          3                          2   \n",
       "yours                          0          0                          0   \n",
       "\n",
       "        I Think He Knows  It's Nice To Have A Friend  London Boy  Lover  \\\n",
       "word                                                                      \n",
       "16th                   4                           0           0      0   \n",
       "17                     1                           0           0      0   \n",
       "7                      0                           0           0      0   \n",
       "a                      3                           8          14      4   \n",
       "about                  0                           0           0      1   \n",
       "...                  ...                         ...         ...    ...   \n",
       "you'll                 0                           0           0      1   \n",
       "you're                 0                           0           0      5   \n",
       "you've                 0                           1           0      0   \n",
       "your                   0                           0           2      1   \n",
       "yours                  0                           0           0      1   \n",
       "\n",
       "        ME! (Ft. Brendon Urie of Panic! At The Disco)  \\\n",
       "word                                                    \n",
       "16th                                                0   \n",
       "17                                                  0   \n",
       "7                                                   0   \n",
       "a                                                  11   \n",
       "about                                               1   \n",
       "...                                               ...   \n",
       "you'll                                              5   \n",
       "you're                                              5   \n",
       "you've                                              0   \n",
       "your                                                1   \n",
       "yours                                               0   \n",
       "\n",
       "        Miss Americana & The Heartbreak Prince  Paper Rings  \\\n",
       "word                                                          \n",
       "16th                                         0            0   \n",
       "17                                           0            0   \n",
       "7                                            0            0   \n",
       "a                                            9            3   \n",
       "about                                        0            0   \n",
       "...                                        ...          ...   \n",
       "you'll                                       0            0   \n",
       "you're                                       0           14   \n",
       "you've                                       0            0   \n",
       "your                                         0           10   \n",
       "yours                                        0            0   \n",
       "\n",
       "        Soon You'll Get Better (Ft. The Chicks)  The Archer  The Man  \\\n",
       "word                                                                   \n",
       "16th                                          0           0        0   \n",
       "17                                            0           0        0   \n",
       "7                                             0           0        0   \n",
       "a                                             2           2       15   \n",
       "about                                         1           0        1   \n",
       "...                                         ...         ...      ...   \n",
       "you'll                                       12           0        0   \n",
       "you're                                        0           0        2   \n",
       "you've                                        0           0        0   \n",
       "your                                          0           1        0   \n",
       "yours                                         0           0        0   \n",
       "\n",
       "        You Need To Calm Down  \n",
       "word                           \n",
       "16th                        0  \n",
       "17                          0  \n",
       "7                           1  \n",
       "a                           5  \n",
       "about                       1  \n",
       "...                       ...  \n",
       "you'll                      0  \n",
       "you're                      6  \n",
       "you've                      0  \n",
       "your                        2  \n",
       "yours                       0  \n",
       "\n",
       "[1026 rows x 18 columns]"
      ]
     },
     "execution_count": 108,
     "metadata": {},
     "output_type": "execute_result"
    }
   ],
   "source": [
    "counts_df = bpd.read_csv('data/word_counts.csv').set_index('word')\n",
    "counts_df"
   ]
  },
  {
   "cell_type": "markdown",
   "id": "b06b5050",
   "metadata": {},
   "source": [
    "For instance, the preview above tells us that the word `\"you're\"` appears 4 times in `'Cruel Summer'`.\n",
    "\n",
    "The `counts_df` DataFrame will be useful in the next several questions."
   ]
  },
  {
   "cell_type": "markdown",
   "id": "20881ec6",
   "metadata": {},
   "source": [
    "**Question 4.5.** ⭐⭐ Now, it's time for some calculations 🧮. Let's begin by computing the TF-IDF for the word `'about'` in the song `'You Need To Calm Down'`. To start, make sure you understand the \"Taylor\" TF-IDF example given above, and consider how you will use the data available in `counts_df`.\n",
    "\n",
    "We've provided four variables for you to fill in: `tf_numerator`, `tf_denominator`, `idf_numerator`, and `idf_denominator`. We then compute the TF-IDF from those four variables and store the result in `tfidf_of_about`."
   ]
  },
  {
   "cell_type": "code",
   "execution_count": 109,
   "id": "43effcdc",
   "metadata": {},
   "outputs": [
    {
     "data": {
      "text/plain": [
       "0.0030517008018558604"
      ]
     },
     "execution_count": 109,
     "metadata": {},
     "output_type": "execute_result"
    }
   ],
   "source": [
    "tf_numerator = counts_df.get('You Need To Calm Down').loc['about']\n",
    "tf_denominator = counts_df.get('You Need To Calm Down').sum()\n",
    "idf_numerator = counts_df.shape[1]\n",
    "idf_denominator = np.count_nonzero(counts_df.loc['about'])\n",
    "tfidf_of_about = (tf_numerator / tf_denominator) * np.log(idf_numerator / idf_denominator) \n",
    "tfidf_of_about"
   ]
  },
  {
   "cell_type": "code",
   "execution_count": 110,
   "id": "e0ce7564",
   "metadata": {
    "deletable": false,
    "editable": false
   },
   "outputs": [
    {
     "data": {
      "text/html": [
       "<p><strong><pre style='display: inline;'>q4_5</pre></strong> passed!</p>"
      ],
      "text/plain": [
       "q4_5 results: All test cases passed!"
      ]
     },
     "execution_count": 110,
     "metadata": {},
     "output_type": "execute_result"
    }
   ],
   "source": [
    "grader.check(\"q4_5\")"
   ]
  },
  {
   "cell_type": "markdown",
   "id": "52db88af",
   "metadata": {},
   "source": [
    "Imagine you wanted to calculate the TF-IDF for the word `'about'` in the song `'False God'`. You could do that by taking the code you just wrote and changing every instance of `'You Need To Calm Down'` to `'False God'`. Notice that you may get a different value for the term frequency (TF) because the word `'about'` may be more prevalent in one song than another. However, you'd get the same exact value for the inverse document frequency (IDF) because IDF is calculated based only the term (word) not the document (song), as we can see in the formula introduced earlier:\n",
    "\n",
    "$$\n",
    "\\begin{align*}\\text{TF-IDF}(\\textbf{term}, \\textbf{doc}) &= \\text{TF}(\\textbf{term}, \\textbf{doc}) \\cdot \\text{IDF}(\\textbf{term}) \\\\\\ &= \\frac{\\text{number of occurrences of $\\textbf{term}$ in $\\textbf{doc}$}}{\\text{total number of words in $\\textbf{doc}$}} \\cdot \\ln \\left(\\frac{\\text{total number of documents}}{\\text{number of documents in which $\\textbf{term}$ appears}} \\right) \\end{align*} $$\n",
    "\n",
    "This means that if we wanted to calculate the TF-IDF for the word `'about'` in *every* song on the `'Lover'` album, we could save some time and energy by just computing the IDF for `'about'` one time, in advance. Then for each song, we'd just need to calculate the TF of `'about'` in that song and multiply with the IDF for `'about'` that we'd already pre-computed.\n",
    "\n",
    "In the next question, we'll pre-compute the IDF values for all words and store them in an array so that we can more easily compute TF-IDF values later.\n",
    "\n",
    "**Question 4.6.** Fill in the blanks in the code below to calculate IDF values for each word on the `'Lover'` album. The strategy is as follows:\n",
    "\n",
    "1. Begin by storing all the words used on the album in an array called `word_array`. You should get these words from `counts_df`.\n",
    "1. Loop through this array, one word at a time, calculating the IDF, and storing the result in `idf_array`, which has been initialized to an empty array.\n",
    "\n",
    "At the end, `idf_array` should have the IDF values for every word on the album, in the same order that they appear in `counts_df`. That is, the first element of `idf_array` should be the IDF of `'16th'`."
   ]
  },
  {
   "cell_type": "code",
   "execution_count": 111,
   "id": "9be619dd",
   "metadata": {},
   "outputs": [
    {
     "data": {
      "text/plain": [
       "array([2.89037176, 2.89037176, 2.89037176, ..., 2.89037176, 0.3254224 ,\n",
       "       2.19722458])"
      ]
     },
     "execution_count": 111,
     "metadata": {},
     "output_type": "execute_result"
    }
   ],
   "source": [
    "idf_array = np.array([])\n",
    "word_array = np.array(counts_df.index)\n",
    "# Loop through each word and compute the IDF of that word.\n",
    "idf_numerator = counts_df.shape[1]\n",
    "for word in word_array:\n",
    "    idf_denominator=np.count_nonzero(counts_df.loc[word])\n",
    "    idf_array=np.append(idf_array,np.log(idf_numerator/idf_denominator))\n",
    "# Display the resulting array of IDF values.\n",
    "idf_array"
   ]
  },
  {
   "cell_type": "code",
   "execution_count": 112,
   "id": "3dd13ca7",
   "metadata": {
    "deletable": false,
    "editable": false
   },
   "outputs": [
    {
     "data": {
      "text/html": [
       "<p><strong><pre style='display: inline;'>q4_6</pre></strong> passed!</p>"
      ],
      "text/plain": [
       "q4_6 results: All test cases passed!"
      ]
     },
     "execution_count": 112,
     "metadata": {},
     "output_type": "execute_result"
    }
   ],
   "source": [
    "grader.check(\"q4_6\")"
   ]
  },
  {
   "cell_type": "markdown",
   "id": "a6c1f288",
   "metadata": {},
   "source": [
    "**Question 4.7.** ⭐⭐ Now, we are ready to calculate the TF-IDF for each word in each song. We've already calculated the IDF values and stored them in `idf_array`, so we'll want to make use of them here! \n",
    "\n",
    "We'll approach this problem one song at a time. For each song, we'll calculate the TF-IDF values for that song, for every word that appears on the album. We can calculate all the TF-IDF values for a given song at the same time using Series arithmetic, which works element-wise. Once we obtain a Series of all the TF-IDF values for a song, we can add that Series as a column to a DataFrame, gradually building up the DataFrame one column (one song) at a time. \n",
    "\n",
    "We've provided an outline of the strategy and some code to handle the assignment of new columns, which includes details that you don't need to worry about. Your job is to fill in the blanks below. \n",
    "\n",
    "Once you've filled in the blanks, run the code cell to create a DataFrame called `every_tfidf` where the columns are the songs on the album `'Lover'`, the rows are the words that appear in the lyrics of the album, and the entries are the TF-IDF values for each song and each word. "
   ]
  },
  {
   "cell_type": "code",
   "execution_count": 113,
   "id": "c50b3976",
   "metadata": {
    "scrolled": false
   },
   "outputs": [
    {
     "data": {
      "text/html": [
       "<div>\n",
       "<style scoped>\n",
       "    .dataframe tbody tr th:only-of-type {\n",
       "        vertical-align: middle;\n",
       "    }\n",
       "\n",
       "    .dataframe tbody tr th {\n",
       "        vertical-align: top;\n",
       "    }\n",
       "\n",
       "    .dataframe thead th {\n",
       "        text-align: right;\n",
       "    }\n",
       "</style>\n",
       "<table border=\"1\" class=\"dataframe\">\n",
       "  <thead>\n",
       "    <tr style=\"text-align: right;\">\n",
       "      <th></th>\n",
       "      <th>Afterglow</th>\n",
       "      <th>Cornelia Street</th>\n",
       "      <th>Cruel Summer</th>\n",
       "      <th>Daylight</th>\n",
       "      <th>Death By A Thousand Cuts</th>\n",
       "      <th>False God</th>\n",
       "      <th>I Forgot That You Existed</th>\n",
       "      <th>I Think He Knows</th>\n",
       "      <th>It's Nice To Have A Friend</th>\n",
       "      <th>London Boy</th>\n",
       "      <th>Lover</th>\n",
       "      <th>ME! (Ft. Brendon Urie of Panic! At The Disco)</th>\n",
       "      <th>Miss Americana &amp; The Heartbreak Prince</th>\n",
       "      <th>Paper Rings</th>\n",
       "      <th>Soon You'll Get Better (Ft. The Chicks)</th>\n",
       "      <th>The Archer</th>\n",
       "      <th>The Man</th>\n",
       "      <th>You Need To Calm Down</th>\n",
       "    </tr>\n",
       "    <tr>\n",
       "      <th>word</th>\n",
       "      <th></th>\n",
       "      <th></th>\n",
       "      <th></th>\n",
       "      <th></th>\n",
       "      <th></th>\n",
       "      <th></th>\n",
       "      <th></th>\n",
       "      <th></th>\n",
       "      <th></th>\n",
       "      <th></th>\n",
       "      <th></th>\n",
       "      <th></th>\n",
       "      <th></th>\n",
       "      <th></th>\n",
       "      <th></th>\n",
       "      <th></th>\n",
       "      <th></th>\n",
       "      <th></th>\n",
       "    </tr>\n",
       "  </thead>\n",
       "  <tbody>\n",
       "    <tr>\n",
       "      <th>16th</th>\n",
       "      <td>0.000000</td>\n",
       "      <td>0.000000</td>\n",
       "      <td>0.000000</td>\n",
       "      <td>0.000000</td>\n",
       "      <td>0.000000</td>\n",
       "      <td>0.000000</td>\n",
       "      <td>0.000000</td>\n",
       "      <td>0.028268</td>\n",
       "      <td>0.000000</td>\n",
       "      <td>0.000000</td>\n",
       "      <td>0.000000</td>\n",
       "      <td>0.000000</td>\n",
       "      <td>0.0</td>\n",
       "      <td>0.000000</td>\n",
       "      <td>0.000000</td>\n",
       "      <td>0.000000</td>\n",
       "      <td>0.000000</td>\n",
       "      <td>0.000000</td>\n",
       "    </tr>\n",
       "    <tr>\n",
       "      <th>17</th>\n",
       "      <td>0.000000</td>\n",
       "      <td>0.000000</td>\n",
       "      <td>0.000000</td>\n",
       "      <td>0.000000</td>\n",
       "      <td>0.000000</td>\n",
       "      <td>0.000000</td>\n",
       "      <td>0.000000</td>\n",
       "      <td>0.007067</td>\n",
       "      <td>0.000000</td>\n",
       "      <td>0.000000</td>\n",
       "      <td>0.000000</td>\n",
       "      <td>0.000000</td>\n",
       "      <td>0.0</td>\n",
       "      <td>0.000000</td>\n",
       "      <td>0.000000</td>\n",
       "      <td>0.000000</td>\n",
       "      <td>0.000000</td>\n",
       "      <td>0.000000</td>\n",
       "    </tr>\n",
       "    <tr>\n",
       "      <th>7</th>\n",
       "      <td>0.000000</td>\n",
       "      <td>0.000000</td>\n",
       "      <td>0.000000</td>\n",
       "      <td>0.000000</td>\n",
       "      <td>0.000000</td>\n",
       "      <td>0.000000</td>\n",
       "      <td>0.000000</td>\n",
       "      <td>0.000000</td>\n",
       "      <td>0.000000</td>\n",
       "      <td>0.000000</td>\n",
       "      <td>0.000000</td>\n",
       "      <td>0.000000</td>\n",
       "      <td>0.0</td>\n",
       "      <td>0.000000</td>\n",
       "      <td>0.000000</td>\n",
       "      <td>0.000000</td>\n",
       "      <td>0.000000</td>\n",
       "      <td>0.008029</td>\n",
       "    </tr>\n",
       "    <tr>\n",
       "      <th>a</th>\n",
       "      <td>0.000000</td>\n",
       "      <td>0.000000</td>\n",
       "      <td>0.000000</td>\n",
       "      <td>0.000000</td>\n",
       "      <td>0.000000</td>\n",
       "      <td>0.000000</td>\n",
       "      <td>0.000000</td>\n",
       "      <td>0.000000</td>\n",
       "      <td>0.000000</td>\n",
       "      <td>0.000000</td>\n",
       "      <td>0.000000</td>\n",
       "      <td>0.000000</td>\n",
       "      <td>0.0</td>\n",
       "      <td>0.000000</td>\n",
       "      <td>0.000000</td>\n",
       "      <td>0.000000</td>\n",
       "      <td>0.000000</td>\n",
       "      <td>0.000000</td>\n",
       "    </tr>\n",
       "    <tr>\n",
       "      <th>about</th>\n",
       "      <td>0.000000</td>\n",
       "      <td>0.000000</td>\n",
       "      <td>0.000000</td>\n",
       "      <td>0.000000</td>\n",
       "      <td>0.000000</td>\n",
       "      <td>0.006278</td>\n",
       "      <td>0.000000</td>\n",
       "      <td>0.000000</td>\n",
       "      <td>0.000000</td>\n",
       "      <td>0.000000</td>\n",
       "      <td>0.004069</td>\n",
       "      <td>0.002210</td>\n",
       "      <td>0.0</td>\n",
       "      <td>0.000000</td>\n",
       "      <td>0.004342</td>\n",
       "      <td>0.000000</td>\n",
       "      <td>0.002328</td>\n",
       "      <td>0.003052</td>\n",
       "    </tr>\n",
       "    <tr>\n",
       "      <th>...</th>\n",
       "      <td>...</td>\n",
       "      <td>...</td>\n",
       "      <td>...</td>\n",
       "      <td>...</td>\n",
       "      <td>...</td>\n",
       "      <td>...</td>\n",
       "      <td>...</td>\n",
       "      <td>...</td>\n",
       "      <td>...</td>\n",
       "      <td>...</td>\n",
       "      <td>...</td>\n",
       "      <td>...</td>\n",
       "      <td>...</td>\n",
       "      <td>...</td>\n",
       "      <td>...</td>\n",
       "      <td>...</td>\n",
       "      <td>...</td>\n",
       "      <td>...</td>\n",
       "    </tr>\n",
       "    <tr>\n",
       "      <th>you'll</th>\n",
       "      <td>0.000000</td>\n",
       "      <td>0.000000</td>\n",
       "      <td>0.003120</td>\n",
       "      <td>0.000000</td>\n",
       "      <td>0.000000</td>\n",
       "      <td>0.000000</td>\n",
       "      <td>0.000000</td>\n",
       "      <td>0.000000</td>\n",
       "      <td>0.000000</td>\n",
       "      <td>0.000000</td>\n",
       "      <td>0.005571</td>\n",
       "      <td>0.015132</td>\n",
       "      <td>0.0</td>\n",
       "      <td>0.000000</td>\n",
       "      <td>0.071340</td>\n",
       "      <td>0.000000</td>\n",
       "      <td>0.000000</td>\n",
       "      <td>0.000000</td>\n",
       "    </tr>\n",
       "    <tr>\n",
       "      <th>you're</th>\n",
       "      <td>0.003381</td>\n",
       "      <td>0.000000</td>\n",
       "      <td>0.005752</td>\n",
       "      <td>0.000000</td>\n",
       "      <td>0.004560</td>\n",
       "      <td>0.007922</td>\n",
       "      <td>0.000000</td>\n",
       "      <td>0.000000</td>\n",
       "      <td>0.000000</td>\n",
       "      <td>0.000000</td>\n",
       "      <td>0.012836</td>\n",
       "      <td>0.006973</td>\n",
       "      <td>0.0</td>\n",
       "      <td>0.018953</td>\n",
       "      <td>0.000000</td>\n",
       "      <td>0.000000</td>\n",
       "      <td>0.002937</td>\n",
       "      <td>0.011552</td>\n",
       "    </tr>\n",
       "    <tr>\n",
       "      <th>you've</th>\n",
       "      <td>0.000000</td>\n",
       "      <td>0.000000</td>\n",
       "      <td>0.000000</td>\n",
       "      <td>0.000000</td>\n",
       "      <td>0.000000</td>\n",
       "      <td>0.000000</td>\n",
       "      <td>0.000000</td>\n",
       "      <td>0.000000</td>\n",
       "      <td>0.017624</td>\n",
       "      <td>0.000000</td>\n",
       "      <td>0.000000</td>\n",
       "      <td>0.000000</td>\n",
       "      <td>0.0</td>\n",
       "      <td>0.000000</td>\n",
       "      <td>0.000000</td>\n",
       "      <td>0.000000</td>\n",
       "      <td>0.000000</td>\n",
       "      <td>0.000000</td>\n",
       "    </tr>\n",
       "    <tr>\n",
       "      <th>your</th>\n",
       "      <td>0.003969</td>\n",
       "      <td>0.004845</td>\n",
       "      <td>0.002701</td>\n",
       "      <td>0.000655</td>\n",
       "      <td>0.000714</td>\n",
       "      <td>0.002789</td>\n",
       "      <td>0.002162</td>\n",
       "      <td>0.000000</td>\n",
       "      <td>0.000000</td>\n",
       "      <td>0.001469</td>\n",
       "      <td>0.001205</td>\n",
       "      <td>0.000655</td>\n",
       "      <td>0.0</td>\n",
       "      <td>0.006356</td>\n",
       "      <td>0.000000</td>\n",
       "      <td>0.001074</td>\n",
       "      <td>0.000000</td>\n",
       "      <td>0.001808</td>\n",
       "    </tr>\n",
       "    <tr>\n",
       "      <th>yours</th>\n",
       "      <td>0.000000</td>\n",
       "      <td>0.005452</td>\n",
       "      <td>0.000000</td>\n",
       "      <td>0.000000</td>\n",
       "      <td>0.000000</td>\n",
       "      <td>0.000000</td>\n",
       "      <td>0.000000</td>\n",
       "      <td>0.000000</td>\n",
       "      <td>0.000000</td>\n",
       "      <td>0.000000</td>\n",
       "      <td>0.008138</td>\n",
       "      <td>0.000000</td>\n",
       "      <td>0.0</td>\n",
       "      <td>0.000000</td>\n",
       "      <td>0.000000</td>\n",
       "      <td>0.000000</td>\n",
       "      <td>0.000000</td>\n",
       "      <td>0.000000</td>\n",
       "    </tr>\n",
       "  </tbody>\n",
       "</table>\n",
       "<p>1026 rows × 18 columns</p>\n",
       "</div>"
      ],
      "text/plain": [
       "        Afterglow  Cornelia Street  Cruel Summer  Daylight  \\\n",
       "word                                                         \n",
       "16th     0.000000         0.000000      0.000000  0.000000   \n",
       "17       0.000000         0.000000      0.000000  0.000000   \n",
       "7        0.000000         0.000000      0.000000  0.000000   \n",
       "a        0.000000         0.000000      0.000000  0.000000   \n",
       "about    0.000000         0.000000      0.000000  0.000000   \n",
       "...           ...              ...           ...       ...   \n",
       "you'll   0.000000         0.000000      0.003120  0.000000   \n",
       "you're   0.003381         0.000000      0.005752  0.000000   \n",
       "you've   0.000000         0.000000      0.000000  0.000000   \n",
       "your     0.003969         0.004845      0.002701  0.000655   \n",
       "yours    0.000000         0.005452      0.000000  0.000000   \n",
       "\n",
       "        Death By A Thousand Cuts  False God  I Forgot That You Existed  \\\n",
       "word                                                                     \n",
       "16th                    0.000000   0.000000                   0.000000   \n",
       "17                      0.000000   0.000000                   0.000000   \n",
       "7                       0.000000   0.000000                   0.000000   \n",
       "a                       0.000000   0.000000                   0.000000   \n",
       "about                   0.000000   0.006278                   0.000000   \n",
       "...                          ...        ...                        ...   \n",
       "you'll                  0.000000   0.000000                   0.000000   \n",
       "you're                  0.004560   0.007922                   0.000000   \n",
       "you've                  0.000000   0.000000                   0.000000   \n",
       "your                    0.000714   0.002789                   0.002162   \n",
       "yours                   0.000000   0.000000                   0.000000   \n",
       "\n",
       "        I Think He Knows  It's Nice To Have A Friend  London Boy     Lover  \\\n",
       "word                                                                         \n",
       "16th            0.028268                    0.000000    0.000000  0.000000   \n",
       "17              0.007067                    0.000000    0.000000  0.000000   \n",
       "7               0.000000                    0.000000    0.000000  0.000000   \n",
       "a               0.000000                    0.000000    0.000000  0.000000   \n",
       "about           0.000000                    0.000000    0.000000  0.004069   \n",
       "...                  ...                         ...         ...       ...   \n",
       "you'll          0.000000                    0.000000    0.000000  0.005571   \n",
       "you're          0.000000                    0.000000    0.000000  0.012836   \n",
       "you've          0.000000                    0.017624    0.000000  0.000000   \n",
       "your            0.000000                    0.000000    0.001469  0.001205   \n",
       "yours           0.000000                    0.000000    0.000000  0.008138   \n",
       "\n",
       "        ME! (Ft. Brendon Urie of Panic! At The Disco)  \\\n",
       "word                                                    \n",
       "16th                                         0.000000   \n",
       "17                                           0.000000   \n",
       "7                                            0.000000   \n",
       "a                                            0.000000   \n",
       "about                                        0.002210   \n",
       "...                                               ...   \n",
       "you'll                                       0.015132   \n",
       "you're                                       0.006973   \n",
       "you've                                       0.000000   \n",
       "your                                         0.000655   \n",
       "yours                                        0.000000   \n",
       "\n",
       "        Miss Americana & The Heartbreak Prince  Paper Rings  \\\n",
       "word                                                          \n",
       "16th                                       0.0     0.000000   \n",
       "17                                         0.0     0.000000   \n",
       "7                                          0.0     0.000000   \n",
       "a                                          0.0     0.000000   \n",
       "about                                      0.0     0.000000   \n",
       "...                                        ...          ...   \n",
       "you'll                                     0.0     0.000000   \n",
       "you're                                     0.0     0.018953   \n",
       "you've                                     0.0     0.000000   \n",
       "your                                       0.0     0.006356   \n",
       "yours                                      0.0     0.000000   \n",
       "\n",
       "        Soon You'll Get Better (Ft. The Chicks)  The Archer   The Man  \\\n",
       "word                                                                    \n",
       "16th                                   0.000000    0.000000  0.000000   \n",
       "17                                     0.000000    0.000000  0.000000   \n",
       "7                                      0.000000    0.000000  0.000000   \n",
       "a                                      0.000000    0.000000  0.000000   \n",
       "about                                  0.004342    0.000000  0.002328   \n",
       "...                                         ...         ...       ...   \n",
       "you'll                                 0.071340    0.000000  0.000000   \n",
       "you're                                 0.000000    0.000000  0.002937   \n",
       "you've                                 0.000000    0.000000  0.000000   \n",
       "your                                   0.000000    0.001074  0.000000   \n",
       "yours                                  0.000000    0.000000  0.000000   \n",
       "\n",
       "        You Need To Calm Down  \n",
       "word                           \n",
       "16th                 0.000000  \n",
       "17                   0.000000  \n",
       "7                    0.008029  \n",
       "a                    0.000000  \n",
       "about                0.003052  \n",
       "...                       ...  \n",
       "you'll               0.000000  \n",
       "you're               0.011552  \n",
       "you've               0.000000  \n",
       "your                 0.001808  \n",
       "yours                0.000000  \n",
       "\n",
       "[1026 rows x 18 columns]"
      ]
     },
     "execution_count": 113,
     "metadata": {},
     "output_type": "execute_result"
    }
   ],
   "source": [
    "# Create a new empty DataFrame to store TF-IDF values.\n",
    "every_tfidf = bpd.DataFrame()\n",
    "\n",
    "# Create an array with the names of all songs on the Lover album.\n",
    "songs_array = np.array(counts_df.columns)\n",
    "\n",
    "# Loop through the songs, and for each song, compute a Series of TF-IDF values for each word.\n",
    "for song in songs_array:\n",
    "    # Assign tf_numerators to a Series of the numerators of the TF values of each word, for this song.\n",
    "    tf_numerators = counts_df.get(song)\n",
    "    \n",
    "    # Assign tf_denominator to the denominator of all TF values, for this song. \n",
    "    # Note that this is a single number, not a Series or array.\n",
    "    # We use the same denominator when calculating the TF of each word, for this song.\n",
    "    tf_denominator = counts_df.get(song).sum()\n",
    "    \n",
    "    # Assign tfs to a Series of the TF values of each word, for this song.\n",
    "    tfs = tf_numerators/tf_denominator\n",
    "    \n",
    "    # Assign tfidfs to a Series of the TF-IDF values of each word, for this song.\n",
    "    # Remember that you've already calculated the IDF of each word, so use those values here.\n",
    "    tfidfs = tfs*idf_array\n",
    "    \n",
    "    # Add a new column to the DataFrame every_tfidf.\n",
    "    # The column name is the song title and the contents are the values in tfidfs.\n",
    "    # Don't worry about how the line of code below works.\n",
    "    every_tfidf = every_tfidf.assign(**{song: tfidfs})\n",
    "\n",
    "every_tfidf"
   ]
  },
  {
   "cell_type": "code",
   "execution_count": 114,
   "id": "9e32f5bb",
   "metadata": {
    "deletable": false,
    "editable": false
   },
   "outputs": [
    {
     "data": {
      "text/html": [
       "<p><strong><pre style='display: inline;'>q4_7</pre></strong> passed!</p>"
      ],
      "text/plain": [
       "q4_7 results: All test cases passed!"
      ]
     },
     "execution_count": 114,
     "metadata": {},
     "output_type": "execute_result"
    }
   ],
   "source": [
    "grader.check(\"q4_7\")"
   ]
  },
  {
   "cell_type": "markdown",
   "id": "0912968d",
   "metadata": {},
   "source": [
    "It's a good idea to verify that the TF-IDF of the word `'about'` in the song `'You Need To Calm Down'` according to the DataFrame above is the same as you calculated in Question 4.5. Let's do that using code. The following cell should evaluate to `True`."
   ]
  },
  {
   "cell_type": "code",
   "execution_count": 115,
   "id": "af1b79eb",
   "metadata": {},
   "outputs": [
    {
     "data": {
      "text/plain": [
       "True"
      ]
     },
     "execution_count": 115,
     "metadata": {},
     "output_type": "execute_result"
    }
   ],
   "source": [
    "every_tfidf.get('You Need To Calm Down').loc['about'] == tfidf_of_about"
   ]
  },
  {
   "cell_type": "markdown",
   "id": "03bb00e2",
   "metadata": {},
   "source": [
    "Now that we've done the hard work of calculating all these TF-IDF values, it's time to reap the benefits and find our keywords!\n",
    "\n",
    "**Question 4.8.** Find the 10 words with the highest TF-IDF values for the song `'Cruel Summer'`. Store these words in an array called `top_10_summer`. Sort the words in decreasing order of TF-IDF, breaking ties any way you like. These words should be a good summary for `'Cruel Summer'`. ⛱️"
   ]
  },
  {
   "cell_type": "code",
   "execution_count": 116,
   "id": "323eb1dd",
   "metadata": {
    "scrolled": true
   },
   "outputs": [
    {
     "data": {
      "text/plain": [
       "array(['summer', 'woahoh', 'cruel', 'roll', 'yeah', 'ooh', 'waiting',\n",
       "       'shape', 'breakable', 'keep'], dtype=object)"
      ]
     },
     "execution_count": 116,
     "metadata": {},
     "output_type": "execute_result"
    }
   ],
   "source": [
    "top_10_summer = np.array(every_tfidf.sort_values('Cruel Summer',ascending=False).index[:10])\n",
    "top_10_summer"
   ]
  },
  {
   "cell_type": "code",
   "execution_count": 117,
   "id": "2d51489e",
   "metadata": {
    "deletable": false,
    "editable": false
   },
   "outputs": [
    {
     "data": {
      "text/html": [
       "<p><strong><pre style='display: inline;'>q4_8</pre></strong> passed!</p>"
      ],
      "text/plain": [
       "q4_8 results: All test cases passed!"
      ]
     },
     "execution_count": 117,
     "metadata": {},
     "output_type": "execute_result"
    }
   ],
   "source": [
    "grader.check(\"q4_8\")"
   ]
  },
  {
   "cell_type": "markdown",
   "id": "5990d67c",
   "metadata": {},
   "source": [
    "**Question 4.9.** Complete the implementation of the function `ten_keywords`, which takes in the name of a song on the `'Lover'` album and returns an array of the 10 words with the highest TF-IDF values, sorted in decreasing order of TF-IDF. Again, ties can be broken in any way."
   ]
  },
  {
   "cell_type": "code",
   "execution_count": 118,
   "id": "0a51de6a",
   "metadata": {},
   "outputs": [
    {
     "data": {
      "text/plain": [
       "array(['fancy', 'london', 'boy', 'ooh', 'love', 'mates', 'child', 'likes',\n",
       "       'rumors', 'took'], dtype=object)"
      ]
     },
     "execution_count": 118,
     "metadata": {},
     "output_type": "execute_result"
    }
   ],
   "source": [
    "def ten_keywords(song_name):\n",
    "    return np.array(every_tfidf.sort_values(song_name,ascending=False).index[:10])\n",
    "    \n",
    "# Here's one sample call, but try some more!\n",
    "ten_keywords('London Boy')"
   ]
  },
  {
   "cell_type": "code",
   "execution_count": 119,
   "id": "dd41ab83",
   "metadata": {
    "deletable": false,
    "editable": false
   },
   "outputs": [
    {
     "data": {
      "text/html": [
       "<p><strong><pre style='display: inline;'>q4_9</pre></strong> passed!</p>"
      ],
      "text/plain": [
       "q4_9 results: All test cases passed!"
      ]
     },
     "execution_count": 119,
     "metadata": {},
     "output_type": "execute_result"
    }
   ],
   "source": [
    "grader.check(\"q4_9\")"
   ]
  },
  {
   "cell_type": "markdown",
   "id": "f9e75329",
   "metadata": {},
   "source": [
    "Let's have some fun visualizing the keywords for each song in a word cloud. The code provided below, adapted from an [article by Tia Plagata](https://towardsdatascience.com/how-to-create-beautiful-word-clouds-in-python-cfcf85141214), creates a word cloud for any song on the `'Lover'` album. A word cloud is a type of data visualization for text data, showing more important words as bigger and bolder. Try it out, and feel free to have fun with it! "
   ]
  },
  {
   "cell_type": "code",
   "execution_count": 120,
   "id": "aa271b20",
   "metadata": {},
   "outputs": [
    {
     "data": {
      "application/vnd.jupyter.widget-view+json": {
       "model_id": "71da63bb11a849a8afabb7e0eaacd269",
       "version_major": 2,
       "version_minor": 0
      },
      "text/plain": [
       "Dropdown(description='Song', index=6, layout=Layout(width='525px'), options=('Afterglow', 'Cornelia Street', '…"
      ]
     },
     "metadata": {},
     "output_type": "display_data"
    },
    {
     "data": {
      "image/png": "[encoded data removed]",
      "text/plain": [
       "<Figure size 700x500 with 1 Axes>"
      ]
     },
     "metadata": {},
     "output_type": "display_data"
    }
   ],
   "source": [
    "# We need to import some packages to make word clouds.\n",
    "from wordcloud import WordCloud\n",
    "from PIL import Image\n",
    "\n",
    "# This function creates a word cloud for a given song.\n",
    "def generate_lyrics_wordcloud(song_name):\n",
    "    cloud = WordCloud(scale=3,\n",
    "                      max_words=150,\n",
    "                      colormap='RdPu',\n",
    "                      mask=np.array(Image.open('data/images/heart.jpeg')),\n",
    "                      background_color='white',\n",
    "                      collocations=False).generate(lover_df.get('Lyrics').loc[song_name])\n",
    "    plt.figure(figsize=(7, 5), dpi=100)\n",
    "    plt.imshow(cloud)\n",
    "    plt.axis('off')\n",
    "    plt.show()\n",
    "\n",
    "default_lover = 'I Forgot That You Existed'\n",
    "\n",
    "song_options_lover = np.array(lover_df.index)\n",
    "song_widget_lover = widgets.Dropdown(options=song_options_lover, description='Song', layout={'width': '525px'}, value=default_lover)\n",
    "\n",
    "def change_rec_lover(change):\n",
    "    if change['name'] == 'value' and change['new'] != change['old']:\n",
    "        clear_output()\n",
    "        display(song_widget_lover)\n",
    "        display(HTML('Note: It may take a few seconds for the updated word cloud to appear.'))\n",
    "        generate_lyrics_wordcloud(song_widget_lover.value)\n",
    "\n",
    "display(song_widget_lover)\n",
    "generate_lyrics_wordcloud(default_lover)\n",
    "song_widget_lover.observe(change_rec_lover)"
   ]
  },
  {
   "cell_type": "markdown",
   "id": "e92a1b39",
   "metadata": {},
   "source": [
    "## Parting Thoughts 💭 \n",
    "\n",
    "Big congratulations on finishing the Midterm Project! 🎉 We hope this experience gave you a taste of what doing data science is really like: frustrating at times, but incredibly satisfying when you produce a finished product you're proud of! If you feeling like telling everyone you know about the cool song recommender you created or the beautiful word clouds you generated, that's a good sign!\n",
    "\n",
    "You're likely a stronger programmer and data scientist now than you were before you started this project, after all the effort you put into completing it. As a reminder of the growth you can achieve through hard work, and the fact that success does not come by accident, here's a spoof of Taylor Swift's song `'Mastermind'` about succeeding in DSC 10. \n",
    "\n",
    "```\n",
    "Once upon a time, \n",
    "pandas were just bears, Jupyter was in the sky.\n",
    "I took a ten week course in data science,\n",
    "And learned otherwise.\n",
    "\n",
    "In the front row of class, 8am.\n",
    "Asking questions on Ed yet again.\n",
    "Churning through all the practice problems.\n",
    "Solutions? Don't need them.\n",
    "\n",
    "What if I told you none of it was accidental?\n",
    "From the first class that you taught me, nothing was gonna stop me?\n",
    "I laid the groundwork and then did the hard work.\n",
    "The test cases all passed one at a time.\n",
    "\n",
    "What if I told you I'm a mastermind?\n",
    "I'm good at data science.\n",
    "I just worked all the time. \n",
    "And now I'm a mastermind.\n",
    "\n",
    "You see, all the wisest students had to do it this way.\n",
    "'Cause we were born to understand things as we toil away.\n",
    "\n",
    "If you fail to plan, you plan to fail.\n",
    "Strategy sets the scene for the tale.\n",
    "So I cleared time in my schedule \n",
    "For a lot of nights in Geisel.\n",
    "\n",
    "What if I told you none of it was accidental?\n",
    "From the first class that you taught me, nothing was gonna stop me?\n",
    "I laid the groundwork and then did the hard work.\n",
    "The test cases all passed one at a time.\n",
    "\n",
    "What if I told you I'm a mastermind?\n",
    "I’m good at data science.\n",
    "It was all by design.\n",
    "And now I'm a mastermind.\n",
    "\n",
    "No one wanted to work with me on the big project. \n",
    "So I've been getting all the tutor help I can get.\n",
    "I think they love me for all the effort I have spent.\n",
    "This is the first time I felt the need to confess.\n",
    "And I swear, I'm only understanding this material \n",
    "'Cause I care.\n",
    "\n",
    "So I told you none of it was accidental.\n",
    "And when finals were graded, nothing was gonna stop me.\n",
    "I peeked at Gradescope, exclaimed with newfound hope, \n",
    "\"My final exam grade is ninety nine!\"\n",
    "\n",
    "Because I am a mastermind.\n",
    "I'm good at data science. \n",
    "Yeah, all I can do is smile.\n",
    "'Cause I'm a mastermind.\n",
    "```\n",
    "\n",
    "\n",
    "\n",
    "\n",
    "\n",
    "\n"
   ]
  },
  {
   "cell_type": "markdown",
   "id": "12a8f0a2",
   "metadata": {},
   "source": [
    "<a id='emojiquiz'></a>\n",
    "\n",
    "## Taylor Swift Emoji Quiz 💯\n",
    "\n",
    "Just for fun, here are some emojis that describe particular Taylor Swift songs. See how many you can identify! We'll post the answers on Ed after the project is due. \n",
    "\n",
    "1. 👋👋👶\n",
    "1. ⛔🎮\n",
    "1. 👑❤\n",
    "1. 🖼🔥\n",
    "1. 🕛🌧\n",
    "1. 🍀 1️⃣\n",
    "1. 📃💍\n",
    "1. ❄🔁\n",
    "1. 😢➡🎸\n",
    "1. 🎠\n",
    "1. 🔎🧶\n",
    "1. 🏹\n",
    "1. ❄🏖\n",
    "1. 🚗💨\n",
    "1. 👎🩸\n",
    "1. 🍭🚫\n",
    "1. 🍾😧\n",
    "1. 🍦🏝\n",
    "1. 🧼🧹\n",
    "1. 🃏🔁\n",
    "1. 🌟💡\n",
    "1. 📜➡🍼\n",
    "1. 🧨✈\n",
    "1. 💕📖\n",
    "1. 🗣⏳\n",
    "1. 👻😱\n",
    "1. 🔌👆\n",
    "1. 🚫🦸‍♀️\n"
   ]
  },
  {
   "cell_type": "markdown",
   "id": "c2515c19",
   "metadata": {},
   "source": [
    "## References and Data Sources 📖\n",
    "\n",
    "If you're interested in learning more about the data and analysis that inspired this project, check out Alice Zhao's blog post [A Data Scientist Breaks Down All 10 Taylor Swift Albums (The Extended Version)](https://adashofdata.com/2023/03/01/a-data-scientist-breaks-down-all-10-taylor-swift-albums-the-extended-version/). Here's a plot from Alice's analysis showing that Taylor Swift's music is getting more experimental over time.\n",
    "\n",
    "<center><img src='data/images/evolution.jpg' width=600></center>\n",
    "\n",
    "Below are links to all the resources we used in developing this project. Thanks to all the people who provide these resources!\n",
    "\n",
    "- Shayna Kothari, [Taylor Swift Lyric Searcher](https://shaynak.github.io/taylor-swift/) and [source code](https://github.com/shaynak/taylor-swift) \n",
    "- Tia Plagata, [How to Create Beautiful Word Clouds in Python](https://towardsdatascience.com/how-to-create-beautiful-word-clouds-in-python-cfcf85141214)\n",
    "- Melanie Walsh, [Introduction to Cultural Analytics & Python](https://melaniewalsh.github.io/Intro-Cultural-Analytics/welcome.html)\n",
    "- Cameron Watts, [Extracting Song Data From the Spotify API Using Python](https://towardsdatascience.com/extracting-song-data-from-the-spotify-api-using-python-b1e79388d50)\n",
    "- Alice Zhao, A Dash of Data, [A Data Scientist Breaks Down All 10 Taylor Swift Albums (The Extended Version)](https://adashofdata.com/2023/03/01/a-data-scientist-breaks-down-all-10-taylor-swift-albums-the-extended-version/) and [source code](https://github.com/adashofdata/taylor_swift_data)\n",
    "- Lyrics data from [Genius API](https://genius.com/)\n",
    "- Musical data from [Spotify API](https://developer.spotify.com/)\n"
   ]
  },
  {
   "cell_type": "markdown",
   "id": "eb775ed3",
   "metadata": {},
   "source": [
    "**_Citations:_** Did you use any generative artificial intelligence tools to assist you on this assignment? If so, please state, for each tool you used, the name of the tool (ex. ChatGPT) and the problem(s) in this assignment where you used the tool for help."
   ]
  },
  {
   "cell_type": "markdown",
   "id": "c08bbb14",
   "metadata": {},
   "source": [
    "<hr style=\"color:Maroon;background-color:Maroon;border:0 none; height: 3px;\">\n",
    "\n",
    "Please cite tools here.\n",
    "\n",
    "<hr style=\"color:Maroon;background-color:Maroon;border:0 none; height: 3px;\">"
   ]
  },
  {
   "cell_type": "markdown",
   "id": "a1262098",
   "metadata": {},
   "source": [
    "## Submission Instructions 📧\n",
    "\n",
    "As usual, follow these steps to submit your assignment:\n",
    "\n",
    "Select `Kernel -> Restart & Run All` to ensure that you have executed all cells, including the test cells.\n",
    "1. Read through the notebook to make sure everything is fine and all tests passed.\n",
    "1. Run the cell below to run all tests, and make sure that they all pass.\n",
    "1. Download your notebook using `File -> Download as -> Notebook (.ipynb)`, then upload your notebook to Gradescope. \n",
    "1. If working with a partner, don't forget to add your partner as a group member on Gradescope!\n",
    "1. Stick around while the Gradescope autograder grades your work. Make sure you see that all tests have passed on Gradescope.\n",
    "1. Check that you have a confirmation email from Gradescope and save it as proof of your submission.\n",
    "\n",
    "If running all the tests at once causes a test to fail that didn't fail when you ran the notebook in order, check to see if you changed a variable's value later in your code. Make sure to use new variable names instead of reusing ones that are used in the tests. \n",
    "\n",
    "Remember, the tests here and on Gradescope just check the format of your answers. We will run correctness tests after the due date has passed."
   ]
  },
  {
   "cell_type": "code",
   "execution_count": 121,
   "id": "30bbe30e",
   "metadata": {},
   "outputs": [
    {
     "data": {
      "text/plain": [
       "q0_1 results: All test cases passed!\n",
       "\n",
       "q0_2 results: All test cases passed!\n",
       "\n",
       "q0_3 results: All test cases passed!\n",
       "\n",
       "q1_1 results: All test cases passed!\n",
       "\n",
       "q1_10 results: All test cases passed!\n",
       "\n",
       "q1_12 results: All test cases passed!\n",
       "\n",
       "q1_13 results: All test cases passed!\n",
       "\n",
       "q1_14 results: All test cases passed!\n",
       "\n",
       "q1_2 results: All test cases passed!\n",
       "\n",
       "q1_3 results: All test cases passed!\n",
       "\n",
       "q1_4 results: All test cases passed!\n",
       "\n",
       "q1_5 results: All test cases passed!\n",
       "\n",
       "q1_6 results: All test cases passed!\n",
       "\n",
       "q1_8 results: All test cases passed!\n",
       "\n",
       "q1_9 results: All test cases passed!\n",
       "\n",
       "q2_1 results: All test cases passed!\n",
       "\n",
       "q2_2 results: All test cases passed!\n",
       "\n",
       "q2_3 results: All test cases passed!\n",
       "\n",
       "q2_4 results: All test cases passed!\n",
       "\n",
       "q2_5 results: All test cases passed!\n",
       "\n",
       "q2_6 results: All test cases passed!\n",
       "\n",
       "q2_7 results: All test cases passed!\n",
       "\n",
       "q3_1 results: All test cases passed!\n",
       "\n",
       "q3_10 results: All test cases passed!\n",
       "\n",
       "q3_2 results: All test cases passed!\n",
       "\n",
       "q3_3 results: All test cases passed!\n",
       "\n",
       "q3_4 results: All test cases passed!\n",
       "\n",
       "q3_5 results: All test cases passed!\n",
       "\n",
       "q3_6 results: All test cases passed!\n",
       "\n",
       "q3_7 results: All test cases passed!\n",
       "\n",
       "q3_8 results: All test cases passed!\n",
       "\n",
       "q3_9 results: All test cases passed!\n",
       "\n",
       "q4_1 results: All test cases passed!\n",
       "\n",
       "q4_2 results: All test cases passed!\n",
       "\n",
       "q4_3 results: All test cases passed!\n",
       "\n",
       "q4_4 results: All test cases passed!\n",
       "\n",
       "q4_5 results: All test cases passed!\n",
       "\n",
       "q4_6 results: All test cases passed!\n",
       "\n",
       "q4_7 results: All test cases passed!\n",
       "\n",
       "q4_8 results: All test cases passed!\n",
       "\n",
       "q4_9 results: All test cases passed!"
      ]
     },
     "execution_count": 121,
     "metadata": {},
     "output_type": "execute_result"
    }
   ],
   "source": [
    "grader.check_all()"
   ]
  }
 ],
 "metadata": {
  "kernelspec": {
   "display_name": "Python 3 (ipykernel)",
   "language": "python",
   "name": "python3"
  },
  "language_info": {
   "codemirror_mode": {
    "name": "ipython",
    "version": 3
   },
   "file_extension": ".py",
   "mimetype": "text/x-python",
   "name": "python",
   "nbconvert_exporter": "python",
   "pygments_lexer": "ipython3",
   "version": "3.9.5"
  },
  "vscode": {
   "interpreter": {
    "hash": "aee8b7b246df8f9039afb4144a1f6fd8d2ca17a180786b69acc140d282b71a49"
   }
  }
 },
 "nbformat": 4,
 "nbformat_minor": 5
}
